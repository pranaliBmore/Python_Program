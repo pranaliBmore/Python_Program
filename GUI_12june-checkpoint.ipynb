{
 "cells": [
  {
   "cell_type": "code",
   "execution_count": 2,
   "id": "5a1adee4-2769-49ce-9094-1f2852feb11d",
   "metadata": {},
   "outputs": [],
   "source": [
    "import tkinter as tk"
   ]
  },
  {
   "cell_type": "code",
   "execution_count": 3,
   "id": "052fafc1-e731-47af-b68e-ffe6b9313e15",
   "metadata": {},
   "outputs": [],
   "source": [
    "top = tk.Tk()\n",
    "\n",
    "top.title('My Application')\n",
    "top.geometry('700x500')\n",
    "\n",
    "b1 = tk.Button(top).pack()\n",
    "\n",
    "top.mainloop()"
   ]
  },
  {
   "cell_type": "code",
   "execution_count": 4,
   "id": "deef9bf5-1d88-407d-922a-57a2a2322225",
   "metadata": {},
   "outputs": [],
   "source": [
    "top = tk.Tk()\n",
    "\n",
    "top.title('My Application')\n",
    "top.geometry('700x500')\n",
    "'''\n",
    "b1 = tk.Button(top, text ='Click me!!!',bg='Pink').pack()  ### This three methods for placing buttons\n",
    "e1 = tk.Entry(top).pack()\n",
    "t1 = tk.Text(top).pack()\n",
    "\n",
    "b1 = tk.Button(top, text ='Click me!!!',bg='Pink').grid(column = 0, row =0)  \n",
    "e1 = tk.Entry(top).grid(column =1,row=0)\n",
    "t1 = tk.Text(top).grid(column =1,row=0)\n",
    "'''\n",
    "\n",
    "b1 = tk.Button(top, text ='Click me!!!',bg='Pink').place(x = 100, y = 150)  ### This three methods for placing buttons\n",
    "e1 = tk.Entry(top).place(x = 100, y=100)\n",
    "t1 = tk.Text(top).place(x=100, y=200)\n",
    "\n",
    "top.mainloop()\n",
    "top.mainloop()"
   ]
  },
  {
   "cell_type": "code",
   "execution_count": null,
   "id": "7184af42-db76-47f0-a023-9f4d9e1c8af1",
   "metadata": {},
   "outputs": [],
   "source": []
  }
 ],
 "metadata": {
  "kernelspec": {
   "display_name": "Python 3 (ipykernel)",
   "language": "python",
   "name": "python3"
  },
  "language_info": {
   "codemirror_mode": {
    "name": "ipython",
    "version": 3
   },
   "file_extension": ".py",
   "mimetype": "text/x-python",
   "name": "python",
   "nbconvert_exporter": "python",
   "pygments_lexer": "ipython3",
   "version": "3.11.7"
  }
 },
 "nbformat": 4,
 "nbformat_minor": 5
}
