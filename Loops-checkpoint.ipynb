{
 "cells": [
  {
   "cell_type": "code",
   "execution_count": 1,
   "id": "a1398e69-2dc3-467b-ac4c-6d1607ef44d0",
   "metadata": {},
   "outputs": [
    {
     "name": "stdin",
     "output_type": "stream",
     "text": [
      "Enter the number: 34\n"
     ]
    },
    {
     "name": "stdout",
     "output_type": "stream",
     "text": [
      "Addition of digits is: 7\n"
     ]
    }
   ],
   "source": [
    "num = int(input('Enter the number:'))\n",
    "add=0\n",
    "while num >0:\n",
    "    rem = num % 10\n",
    "    add = add + rem\n",
    "    num = num // 10\n",
    "print('Addition of digits is:',add)"
   ]
  },
  {
   "cell_type": "code",
   "execution_count": 2,
   "id": "20b883ef-168f-4ae6-99c8-d2832791b31a",
   "metadata": {},
   "outputs": [
    {
     "name": "stdout",
     "output_type": "stream",
     "text": [
      "25\n",
      "78\n",
      "90\n",
      "25\n"
     ]
    }
   ],
   "source": [
    "#For Loop\n",
    "for n in 25,78,90,25:\n",
    "    print(n)"
   ]
  },
  {
   "cell_type": "code",
   "execution_count": 4,
   "id": "ea854336-fff2-4a5c-8806-d7ad7a18cd0f",
   "metadata": {},
   "outputs": [
    {
     "name": "stdout",
     "output_type": "stream",
     "text": [
      "12.5\n",
      "39.0\n",
      "45.0\n",
      "12.5\n",
      "22.5\n"
     ]
    }
   ],
   "source": [
    "for n in 25,78,90,25,45:\n",
    "    print(n/2)"
   ]
  },
  {
   "cell_type": "code",
   "execution_count": 5,
   "id": "bd026ecf-954e-493d-a450-1625d92adec7",
   "metadata": {},
   "outputs": [
    {
     "name": "stdout",
     "output_type": "stream",
     "text": [
      "25\n",
      "78\n",
      "Pranali\n",
      "True\n"
     ]
    }
   ],
   "source": [
    "for n in 25,78,'Pranali',True:\n",
    "    print(n)"
   ]
  },
  {
   "cell_type": "code",
   "execution_count": 6,
   "id": "6734bdf7-33be-44d4-ac58-e40e9e8d4a4b",
   "metadata": {},
   "outputs": [
    {
     "data": {
      "text/plain": [
       "[0, 1, 2, 3, 4, 5, 6, 7, 8, 9]"
      ]
     },
     "execution_count": 6,
     "metadata": {},
     "output_type": "execute_result"
    }
   ],
   "source": [
    "#range function\n",
    "list(range(10))"
   ]
  },
  {
   "cell_type": "code",
   "execution_count": 7,
   "id": "488a5448-0132-4d76-afb4-c66e0e566692",
   "metadata": {},
   "outputs": [
    {
     "data": {
      "text/plain": [
       "[5, 6, 7, 8, 9, 10, 11, 12, 13, 14, 15]"
      ]
     },
     "execution_count": 7,
     "metadata": {},
     "output_type": "execute_result"
    }
   ],
   "source": [
    "list(range(5,16))"
   ]
  },
  {
   "cell_type": "code",
   "execution_count": 8,
   "id": "06eacbfb-4809-4851-a144-4b2915d2d1f6",
   "metadata": {},
   "outputs": [
    {
     "data": {
      "text/plain": [
       "[5, 7, 9, 11, 13, 15]"
      ]
     },
     "execution_count": 8,
     "metadata": {},
     "output_type": "execute_result"
    }
   ],
   "source": [
    "list(range(5,16,2))"
   ]
  },
  {
   "cell_type": "code",
   "execution_count": null,
   "id": "afa9925a-3783-49a9-bccb-995d9df3fd2f",
   "metadata": {},
   "outputs": [],
   "source": [
    "#range(start, end+1,step)"
   ]
  },
  {
   "cell_type": "code",
   "execution_count": 12,
   "id": "ecefd057-9816-46a7-81a9-d5a1923b014c",
   "metadata": {},
   "outputs": [
    {
     "data": {
      "text/plain": [
       "[23,\n",
       " 22,\n",
       " 21,\n",
       " 20,\n",
       " 19,\n",
       " 18,\n",
       " 17,\n",
       " 16,\n",
       " 15,\n",
       " 14,\n",
       " 13,\n",
       " 12,\n",
       " 11,\n",
       " 10,\n",
       " 9,\n",
       " 8,\n",
       " 7,\n",
       " 6,\n",
       " 5,\n",
       " 4,\n",
       " 3,\n",
       " 2]"
      ]
     },
     "execution_count": 12,
     "metadata": {},
     "output_type": "execute_result"
    }
   ],
   "source": [
    "list(range(23,1,-1))"
   ]
  },
  {
   "cell_type": "code",
   "execution_count": 13,
   "id": "ab8dac8c-0619-43aa-bfbe-b0fe5d2dece3",
   "metadata": {},
   "outputs": [
    {
     "name": "stdout",
     "output_type": "stream",
     "text": [
      "0\n",
      "1\n",
      "2\n",
      "3\n",
      "4\n"
     ]
    }
   ],
   "source": [
    "for n in range(5):\n",
    "    print(n)"
   ]
  },
  {
   "cell_type": "code",
   "execution_count": 15,
   "id": "b8e6dd33-3a9f-4c54-a6d1-2357fd402c4a",
   "metadata": {},
   "outputs": [
    {
     "name": "stdout",
     "output_type": "stream",
     "text": [
      "1\n",
      "4\n",
      "9\n",
      "16\n",
      "25\n"
     ]
    }
   ],
   "source": [
    "for n in range(1,6):\n",
    "    print(n**2)"
   ]
  },
  {
   "cell_type": "code",
   "execution_count": 17,
   "id": "c2103cb7-b377-4ed8-a896-473f899c1f53",
   "metadata": {},
   "outputs": [
    {
     "name": "stdout",
     "output_type": "stream",
     "text": [
      "Pranali\n",
      "Pranali\n",
      "Pranali\n",
      "Pranali\n",
      "Pranali\n",
      "Pranali\n",
      "Pranali\n",
      "Pranali\n",
      "Pranali\n",
      "Pranali\n"
     ]
    }
   ],
   "source": [
    "for n in range(10):\n",
    "    print('Pranali')"
   ]
  },
  {
   "cell_type": "code",
   "execution_count": 18,
   "id": "584e94fb-8b15-4268-b837-de9d5c07700c",
   "metadata": {},
   "outputs": [
    {
     "name": "stdout",
     "output_type": "stream",
     "text": [
      "Pranali Pranali Pranali Pranali Pranali Pranali Pranali Pranali Pranali Pranali "
     ]
    }
   ],
   "source": [
    "for n in range(10):\n",
    "    print('Pranali',end=' ')"
   ]
  },
  {
   "cell_type": "code",
   "execution_count": 20,
   "id": "3e699ffc-5b8b-486d-8b16-8b525077d490",
   "metadata": {},
   "outputs": [
    {
     "name": "stdout",
     "output_type": "stream",
     "text": [
      "addition 2\n",
      "addition 3\n",
      "addition 4\n",
      "addition 5\n",
      "addition 6\n",
      "addition 7\n",
      "addition 8\n",
      "addition 9\n",
      "addition 10\n",
      "addition 11\n"
     ]
    }
   ],
   "source": [
    "#\n",
    "add=0\n",
    "for n in range(1,11):\n",
    "    print"
   ]
  },
  {
   "cell_type": "code",
   "execution_count": 25,
   "id": "29737d9b-e2a8-487c-8284-f1822d76a8a9",
   "metadata": {},
   "outputs": [
    {
     "name": "stdout",
     "output_type": "stream",
     "text": [
      "Addition is: 100\n"
     ]
    }
   ],
   "source": [
    "add = 0\n",
    "for n in range(1,21,2):\n",
    "    add=add+n\n",
    "print('Addition is:',add)"
   ]
  },
  {
   "cell_type": "code",
   "execution_count": 26,
   "id": "d45f0556-edf5-4be4-90fd-389bb3c37d43",
   "metadata": {},
   "outputs": [
    {
     "name": "stdout",
     "output_type": "stream",
     "text": [
      "P\n",
      "r\n",
      "a\n",
      "n\n",
      "a\n",
      "l\n",
      "i\n"
     ]
    }
   ],
   "source": [
    "for n in 'Pranali':\n",
    "   print(n)"
   ]
  },
  {
   "cell_type": "code",
   "execution_count": 27,
   "id": "b644e99d-cfac-41ef-9634-7f8e0b075245",
   "metadata": {},
   "outputs": [
    {
     "name": "stdout",
     "output_type": "stream",
     "text": [
      "Pranali\n",
      "Dnyaneshwari\n"
     ]
    }
   ],
   "source": [
    "for n in 'Pranali','Dnyaneshwari':\n",
    "   print(n)"
   ]
  },
  {
   "cell_type": "code",
   "execution_count": 32,
   "id": "977a6bfd-8d1e-4908-a4ae-70f02126dd38",
   "metadata": {},
   "outputs": [
    {
     "name": "stdin",
     "output_type": "stream",
     "text": [
      "Enter the number: 3\n"
     ]
    },
    {
     "name": "stdout",
     "output_type": "stream",
     "text": [
      "Factorial is: 6\n"
     ]
    }
   ],
   "source": [
    "#Factorial using for loop\n",
    "num=int(input('Enter the number:'))\n",
    "fact=1\n",
    "for n in range(1,num+1):\n",
    "    fact=fact*n\n",
    "print('Factorial is:',fact)\n"
   ]
  },
  {
   "cell_type": "code",
   "execution_count": null,
   "id": "25b3d274-8fa3-44e6-a7db-559ae4e5b52b",
   "metadata": {},
   "outputs": [],
   "source": [
    "###break statement"
   ]
  },
  {
   "cell_type": "code",
   "execution_count": 33,
   "id": "e994ab21-e244-4199-911f-94eaa133566d",
   "metadata": {},
   "outputs": [
    {
     "name": "stdout",
     "output_type": "stream",
     "text": [
      "1\n",
      "2\n",
      "3\n",
      "4\n"
     ]
    }
   ],
   "source": [
    "for n in range(1,11):\n",
    "    if n==5:\n",
    "        break\n",
    "    print(n)"
   ]
  },
  {
   "cell_type": "code",
   "execution_count": 34,
   "id": "fe39fd7b-a35c-4365-ae91-8e9d517c3939",
   "metadata": {},
   "outputs": [
    {
     "name": "stdout",
     "output_type": "stream",
     "text": [
      "5\n"
     ]
    }
   ],
   "source": [
    "print(n)"
   ]
  },
  {
   "cell_type": "code",
   "execution_count": 36,
   "id": "4c54f649-27f7-4feb-9c60-17131c8b86bc",
   "metadata": {},
   "outputs": [
    {
     "name": "stdout",
     "output_type": "stream",
     "text": [
      "0\n",
      "1\n",
      "2\n",
      "3\n",
      "4\n",
      "5\n"
     ]
    }
   ],
   "source": [
    "count=0\n",
    "while count<=10:\n",
    "    print(count)\n",
    "    if count ==5:\n",
    "        break\n",
    "    count +=1"
   ]
  },
  {
   "cell_type": "code",
   "execution_count": 38,
   "id": "1689b4c4-94f1-480c-81bb-7934296f6206",
   "metadata": {},
   "outputs": [
    {
     "name": "stdout",
     "output_type": "stream",
     "text": [
      "1\n",
      "2\n",
      "3\n",
      "4\n",
      "6\n",
      "7\n",
      "8\n",
      "9\n",
      "10\n"
     ]
    }
   ],
   "source": [
    "for n in range(1,11):\n",
    "    if n ==5:\n",
    "        continue\n",
    "    print(n)"
   ]
  },
  {
   "cell_type": "code",
   "execution_count": 1,
   "id": "1f21f032-aac6-4daf-9883-74d979a4697c",
   "metadata": {},
   "outputs": [
    {
     "name": "stdin",
     "output_type": "stream",
     "text": [
      "Enter the number of rows: 10\n"
     ]
    },
    {
     "name": "stdout",
     "output_type": "stream",
     "text": [
      "* \n",
      "* * \n",
      "* * * \n",
      "* * * * \n",
      "* * * * * \n",
      "* * * * * * \n",
      "* * * * * * * \n",
      "* * * * * * * * \n",
      "* * * * * * * * * \n",
      "* * * * * * * * * * \n"
     ]
    }
   ],
   "source": [
    "'''\n",
    "*\n",
    "**\n",
    "***\n",
    "'''\n",
    "row=int(input('Enter the number of rows:'))\n",
    "\n",
    "for i in range(1,row+1):\n",
    "    for j in range(i): \n",
    "        print('*',end=' ')\n",
    "    print()"
   ]
  },
  {
   "cell_type": "code",
   "execution_count": null,
   "id": "a8b31f90-d7d7-4482-ba60-6d662c76be4e",
   "metadata": {},
   "outputs": [],
   "source": []
  }
 ],
 "metadata": {
  "kernelspec": {
   "display_name": "Python 3 (ipykernel)",
   "language": "python",
   "name": "python3"
  },
  "language_info": {
   "codemirror_mode": {
    "name": "ipython",
    "version": 3
   },
   "file_extension": ".py",
   "mimetype": "text/x-python",
   "name": "python",
   "nbconvert_exporter": "python",
   "pygments_lexer": "ipython3",
   "version": "3.11.7"
  }
 },
 "nbformat": 4,
 "nbformat_minor": 5
}
