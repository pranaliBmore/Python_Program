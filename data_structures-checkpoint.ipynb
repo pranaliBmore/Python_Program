{
 "cells": [
  {
   "cell_type": "code",
   "execution_count": null,
   "id": "8bf94c24-833e-46c5-8c1a-3aae302b0b74",
   "metadata": {},
   "outputs": [],
   "source": [
    "###List\n",
    "# list are hetrogenious"
   ]
  },
  {
   "cell_type": "code",
   "execution_count": 1,
   "id": "d4868a80-ab1f-4b56-8e48-b6ca14736062",
   "metadata": {},
   "outputs": [
    {
     "name": "stdout",
     "output_type": "stream",
     "text": [
      "[12, 34, 56, 90, 25]\n"
     ]
    }
   ],
   "source": [
    "l=[12,34,56,90,25]\n",
    "print(l)   #Duplicates are allowed in list"
   ]
  },
  {
   "cell_type": "code",
   "execution_count": 2,
   "id": "8a8eb897-4eae-424b-a0d6-fcef5ba52826",
   "metadata": {},
   "outputs": [
    {
     "data": {
      "text/plain": [
       "list"
      ]
     },
     "execution_count": 2,
     "metadata": {},
     "output_type": "execute_result"
    }
   ],
   "source": [
    "type(l)"
   ]
  },
  {
   "cell_type": "code",
   "execution_count": 3,
   "id": "02702b33-a523-40c8-8737-a0f989783307",
   "metadata": {},
   "outputs": [
    {
     "data": {
      "text/plain": [
       "56"
      ]
     },
     "execution_count": 3,
     "metadata": {},
     "output_type": "execute_result"
    }
   ],
   "source": [
    "#access the data\n",
    "l[2]  #Ordered"
   ]
  },
  {
   "cell_type": "code",
   "execution_count": 4,
   "id": "dcdcd3b8-fe30-4aba-8292-b4a4965c7a21",
   "metadata": {},
   "outputs": [
    {
     "data": {
      "text/plain": [
       "90"
      ]
     },
     "execution_count": 4,
     "metadata": {},
     "output_type": "execute_result"
    }
   ],
   "source": [
    "l[-2]  #-ve index"
   ]
  },
  {
   "cell_type": "code",
   "execution_count": 5,
   "id": "a965f079-d30b-4d76-b936-065c980053a2",
   "metadata": {},
   "outputs": [
    {
     "name": "stdout",
     "output_type": "stream",
     "text": [
      "[12, 34, 56, 90, 25, 34.04, 'Pranali', True]\n"
     ]
    }
   ],
   "source": [
    "l=[12,34,56,90,25,34.04,'Pranali',True]\n",
    "print(l)"
   ]
  },
  {
   "cell_type": "code",
   "execution_count": 7,
   "id": "b87f9f3a-7958-4661-b45a-3ce4efb15129",
   "metadata": {},
   "outputs": [
    {
     "data": {
      "text/plain": [
       "[12, 34, 8, 90, 25, 34.04, 'Pranali', True]"
      ]
     },
     "execution_count": 7,
     "metadata": {},
     "output_type": "execute_result"
    }
   ],
   "source": [
    "# replace the data\n",
    "l[2] = 8\n",
    "l"
   ]
  },
  {
   "cell_type": "code",
   "execution_count": 8,
   "id": "4d837db5-52ea-47c9-bf7e-da034430f62d",
   "metadata": {},
   "outputs": [
    {
     "data": {
      "text/plain": [
       "[34, 8, 90]"
      ]
     },
     "execution_count": 8,
     "metadata": {},
     "output_type": "execute_result"
    }
   ],
   "source": [
    "#slicing\n",
    "l[1:4]"
   ]
  },
  {
   "cell_type": "code",
   "execution_count": 9,
   "id": "0e9477cf-96db-4700-aa9f-91e88deffb1f",
   "metadata": {},
   "outputs": [
    {
     "data": {
      "text/plain": [
       "[12, 34, 8, 90]"
      ]
     },
     "execution_count": 9,
     "metadata": {},
     "output_type": "execute_result"
    }
   ],
   "source": [
    "l[0:4]"
   ]
  },
  {
   "cell_type": "code",
   "execution_count": 10,
   "id": "65c6d22d-925c-4797-ade0-75a4efde6faa",
   "metadata": {},
   "outputs": [
    {
     "data": {
      "text/plain": [
       "[12, 34, 8]"
      ]
     },
     "execution_count": 10,
     "metadata": {},
     "output_type": "execute_result"
    }
   ],
   "source": [
    "l[:3]"
   ]
  },
  {
   "cell_type": "code",
   "execution_count": 13,
   "id": "aa0f679b-b5e2-4221-827a-7dd207b95656",
   "metadata": {},
   "outputs": [
    {
     "data": {
      "text/plain": [
       "[34, 56, 87, 90]"
      ]
     },
     "execution_count": 13,
     "metadata": {},
     "output_type": "execute_result"
    }
   ],
   "source": [
    "l=[12,34,56,87,90]\n",
    "l[1:]"
   ]
  },
  {
   "cell_type": "code",
   "execution_count": 14,
   "id": "2fbf71ca-4483-43c6-8d03-19be4c14adbc",
   "metadata": {},
   "outputs": [
    {
     "data": {
      "text/plain": [
       "[12, 34, 56, 87, 90]"
      ]
     },
     "execution_count": 14,
     "metadata": {},
     "output_type": "execute_result"
    }
   ],
   "source": [
    "l[:]"
   ]
  },
  {
   "cell_type": "code",
   "execution_count": 17,
   "id": "2bcda88b-8695-4a31-abb2-b02a3196f045",
   "metadata": {},
   "outputs": [
    {
     "data": {
      "text/plain": [
       "[12, 56]"
      ]
     },
     "execution_count": 17,
     "metadata": {},
     "output_type": "execute_result"
    }
   ],
   "source": [
    "l[0:-1:2]"
   ]
  },
  {
   "cell_type": "code",
   "execution_count": 18,
   "id": "f0e71121-7f44-46f3-a28a-7f93b15e2164",
   "metadata": {},
   "outputs": [
    {
     "data": {
      "text/plain": [
       "[12, 56, 90]"
      ]
     },
     "execution_count": 18,
     "metadata": {},
     "output_type": "execute_result"
    }
   ],
   "source": [
    "l[::2]"
   ]
  },
  {
   "cell_type": "code",
   "execution_count": 22,
   "id": "7e75a087-2c7c-4390-b947-2f1005adde55",
   "metadata": {},
   "outputs": [
    {
     "data": {
      "text/plain": [
       "[12, 34, 23, 6, 90]"
      ]
     },
     "execution_count": 22,
     "metadata": {},
     "output_type": "execute_result"
    }
   ],
   "source": [
    "l[1:4]=[34,23,6]\n",
    "l"
   ]
  },
  {
   "cell_type": "code",
   "execution_count": 27,
   "id": "7095657d-e4b1-4340-bcc9-56550a959392",
   "metadata": {},
   "outputs": [
    {
     "data": {
      "text/plain": [
       "[12, 34, 23, 6, 90]"
      ]
     },
     "execution_count": 27,
     "metadata": {},
     "output_type": "execute_result"
    }
   ],
   "source": [
    "l"
   ]
  },
  {
   "cell_type": "code",
   "execution_count": 32,
   "id": "7376801a-79da-4be8-becd-10ffa1c234d7",
   "metadata": {},
   "outputs": [
    {
     "name": "stdout",
     "output_type": "stream",
     "text": [
      "[12, 1, 23, 2, 90]\n"
     ]
    }
   ],
   "source": [
    "l[1::2] = [1,2]\n",
    "print(l)"
   ]
  },
  {
   "cell_type": "code",
   "execution_count": 33,
   "id": "02028a28-6219-47f2-9704-d75968d4d0d8",
   "metadata": {},
   "outputs": [],
   "source": [
    "l1 = [45,67,43]"
   ]
  },
  {
   "cell_type": "code",
   "execution_count": 34,
   "id": "bbba25df-e421-45ce-bc2e-31cb8987619e",
   "metadata": {},
   "outputs": [],
   "source": [
    "# delete\n",
    "del l1"
   ]
  },
  {
   "cell_type": "code",
   "execution_count": 35,
   "id": "4c54b057-1d11-4dc1-8a38-c3d6cb39f5c1",
   "metadata": {},
   "outputs": [
    {
     "ename": "NameError",
     "evalue": "name 'l1' is not defined",
     "output_type": "error",
     "traceback": [
      "\u001b[1;31m---------------------------------------------------------------------------\u001b[0m",
      "\u001b[1;31mNameError\u001b[0m                                 Traceback (most recent call last)",
      "Cell \u001b[1;32mIn[35], line 1\u001b[0m\n\u001b[1;32m----> 1\u001b[0m l1\n",
      "\u001b[1;31mNameError\u001b[0m: name 'l1' is not defined"
     ]
    }
   ],
   "source": [
    "l1"
   ]
  },
  {
   "cell_type": "code",
   "execution_count": 37,
   "id": "603b69c9-7c34-44d6-a00b-850287143be5",
   "metadata": {},
   "outputs": [
    {
     "data": {
      "text/plain": [
       "True"
      ]
     },
     "execution_count": 37,
     "metadata": {},
     "output_type": "execute_result"
    }
   ],
   "source": [
    "# in operator\n",
    "12 in l"
   ]
  },
  {
   "cell_type": "code",
   "execution_count": 38,
   "id": "289e53e9-3974-4fb9-9367-c20bfac40608",
   "metadata": {},
   "outputs": [
    {
     "data": {
      "text/plain": [
       "False"
      ]
     },
     "execution_count": 38,
     "metadata": {},
     "output_type": "execute_result"
    }
   ],
   "source": [
    "100 in l"
   ]
  },
  {
   "cell_type": "code",
   "execution_count": 39,
   "id": "9f41976d-19af-4226-86e5-65b09a70c7fb",
   "metadata": {},
   "outputs": [
    {
     "data": {
      "text/plain": [
       "False"
      ]
     },
     "execution_count": 39,
     "metadata": {},
     "output_type": "execute_result"
    }
   ],
   "source": [
    "1 not in l"
   ]
  },
  {
   "cell_type": "code",
   "execution_count": null,
   "id": "c3aaebe1-fa8f-46ba-8e88-d10675007b77",
   "metadata": {},
   "outputs": [],
   "source": [
    "# arithmetic operations"
   ]
  },
  {
   "cell_type": "code",
   "execution_count": 40,
   "id": "e9121cf0-7ac6-42dd-b00b-3c879b3bcc53",
   "metadata": {},
   "outputs": [
    {
     "data": {
      "text/plain": [
       "[12, 1, 23, 2, 90]"
      ]
     },
     "execution_count": 40,
     "metadata": {},
     "output_type": "execute_result"
    }
   ],
   "source": [
    "l"
   ]
  },
  {
   "cell_type": "code",
   "execution_count": 41,
   "id": "d41055d4-4f8e-47a1-af0c-142d269b9017",
   "metadata": {},
   "outputs": [
    {
     "data": {
      "text/plain": [
       "[12, 1, 23, 2, 90, 12, 1, 23, 2, 90]"
      ]
     },
     "execution_count": 41,
     "metadata": {},
     "output_type": "execute_result"
    }
   ],
   "source": [
    "l*2"
   ]
  },
  {
   "cell_type": "code",
   "execution_count": 42,
   "id": "56595b88-47b3-4c51-8c69-285889a039be",
   "metadata": {},
   "outputs": [
    {
     "data": {
      "text/plain": [
       "[12, 1, 23, 2, 90, 1000, 79]"
      ]
     },
     "execution_count": 42,
     "metadata": {},
     "output_type": "execute_result"
    }
   ],
   "source": [
    "l + [1000,79]"
   ]
  },
  {
   "cell_type": "code",
   "execution_count": 45,
   "id": "51e43ad7-5e30-4939-8265-4f117e6da7f0",
   "metadata": {},
   "outputs": [],
   "source": [
    "l2 = [1,2,3,4,5]"
   ]
  },
  {
   "cell_type": "code",
   "execution_count": 46,
   "id": "9ed4ba03-ff03-4085-8693-0c82dbfb4c35",
   "metadata": {},
   "outputs": [
    {
     "name": "stdout",
     "output_type": "stream",
     "text": [
      "[1, 2, 3, 4, 5]\n"
     ]
    }
   ],
   "source": [
    "print(l2)"
   ]
  },
  {
   "cell_type": "code",
   "execution_count": 47,
   "id": "c33d8e0a-b3fa-4995-aded-04e8c634da12",
   "metadata": {},
   "outputs": [
    {
     "data": {
      "text/plain": [
       "[12, 1, 23, 2, 90, 1, 2, 3, 4, 5]"
      ]
     },
     "execution_count": 47,
     "metadata": {},
     "output_type": "execute_result"
    }
   ],
   "source": [
    "l+l2"
   ]
  },
  {
   "cell_type": "code",
   "execution_count": 48,
   "id": "ec4adc20-5ff5-482e-94ac-e84caaef48b2",
   "metadata": {},
   "outputs": [
    {
     "name": "stdout",
     "output_type": "stream",
     "text": [
      "12\n",
      "1\n",
      "23\n",
      "2\n",
      "90\n"
     ]
    }
   ],
   "source": [
    "# iterating over a list\n",
    "\n",
    "for n in l:\n",
    "    print(n)"
   ]
  },
  {
   "cell_type": "code",
   "execution_count": 50,
   "id": "6193a155-bf4e-4bc5-a807-4e8ee9f40efd",
   "metadata": {},
   "outputs": [
    {
     "name": "stdout",
     "output_type": "stream",
     "text": [
      "144 1 529 4 8100 "
     ]
    }
   ],
   "source": [
    "for n in l:\n",
    "    print(n*n, end =\" \")"
   ]
  },
  {
   "cell_type": "code",
   "execution_count": 57,
   "id": "a5226bf8-8031-4855-82f0-fa836665b80a",
   "metadata": {},
   "outputs": [
    {
     "data": {
      "text/plain": [
       "[12, 1, 23, 2, 90]"
      ]
     },
     "execution_count": 57,
     "metadata": {},
     "output_type": "execute_result"
    }
   ],
   "source": [
    "l"
   ]
  },
  {
   "cell_type": "code",
   "execution_count": 60,
   "id": "1a1af5b0-3c3c-4404-bd1e-316c61313512",
   "metadata": {},
   "outputs": [
    {
     "name": "stdout",
     "output_type": "stream",
     "text": [
      "1\n",
      "23\n"
     ]
    }
   ],
   "source": [
    "for n in l:\n",
    "    if n % 2 == 1:\n",
    "        print(n)   "
   ]
  },
  {
   "cell_type": "code",
   "execution_count": null,
   "id": "8b474b4a-ee90-4389-ab3e-1bf8a04df71b",
   "metadata": {},
   "outputs": [],
   "source": [
    "#List Comprehension"
   ]
  },
  {
   "cell_type": "code",
   "execution_count": 62,
   "id": "c0306de1-ce6f-4f00-8e6d-2b21b05cd23f",
   "metadata": {},
   "outputs": [],
   "source": [
    "# map \n",
    "\n",
    "li = [n/2 for n in l]"
   ]
  },
  {
   "cell_type": "code",
   "execution_count": 63,
   "id": "8fdf9174-aad0-4df2-b42a-2beb33ab652d",
   "metadata": {},
   "outputs": [
    {
     "data": {
      "text/plain": [
       "[6.0, 0.5, 11.5, 1.0, 45.0]"
      ]
     },
     "execution_count": 63,
     "metadata": {},
     "output_type": "execute_result"
    }
   ],
   "source": [
    "li"
   ]
  },
  {
   "cell_type": "code",
   "execution_count": 64,
   "id": "1a04a4e9-b5f3-4bd2-abea-485a99249184",
   "metadata": {},
   "outputs": [],
   "source": [
    "li = [n*n for n in l ]"
   ]
  },
  {
   "cell_type": "code",
   "execution_count": 65,
   "id": "5030a1b2-029c-43bf-94fc-377c97d4f65b",
   "metadata": {},
   "outputs": [
    {
     "data": {
      "text/plain": [
       "[144, 1, 529, 4, 8100]"
      ]
     },
     "execution_count": 65,
     "metadata": {},
     "output_type": "execute_result"
    }
   ],
   "source": [
    "li"
   ]
  },
  {
   "cell_type": "code",
   "execution_count": 66,
   "id": "f85fad5a-f4c6-4068-aa65-e2626a117517",
   "metadata": {},
   "outputs": [
    {
     "data": {
      "text/plain": [
       "[1, 23]"
      ]
     },
     "execution_count": 66,
     "metadata": {},
     "output_type": "execute_result"
    }
   ],
   "source": [
    "#Filter\n",
    "\n",
    "[n for n in l if n % 2 == 1]"
   ]
  },
  {
   "cell_type": "code",
   "execution_count": 67,
   "id": "28cda273-7a00-4572-a051-ebeb7b9ad3b4",
   "metadata": {},
   "outputs": [
    {
     "data": {
      "text/plain": [
       "[12, 1, 23, 2, 90]"
      ]
     },
     "execution_count": 67,
     "metadata": {},
     "output_type": "execute_result"
    }
   ],
   "source": [
    "l"
   ]
  },
  {
   "cell_type": "code",
   "execution_count": 68,
   "id": "4fddc5c5-84f8-4efc-bc3d-91d40dd177ae",
   "metadata": {},
   "outputs": [
    {
     "name": "stdout",
     "output_type": "stream",
     "text": [
      "12\n",
      "90\n"
     ]
    }
   ],
   "source": [
    "for n in l:\n",
    "    if n % 3 == 0:\n",
    "        print(n)"
   ]
  },
  {
   "cell_type": "code",
   "execution_count": 73,
   "id": "41d40919-4f2a-4e35-abec-bcb382649480",
   "metadata": {},
   "outputs": [],
   "source": [
    "names =  ['Priya','Pranali','Sakshi','Dnyaneshwari','Sakshi','Amruta','Sanika','Sneha','Pranali',]"
   ]
  },
  {
   "cell_type": "code",
   "execution_count": 81,
   "id": "e29a1379-b331-4b22-9558-b85f32627aaf",
   "metadata": {},
   "outputs": [
    {
     "data": {
      "text/plain": [
       "[]"
      ]
     },
     "execution_count": 81,
     "metadata": {},
     "output_type": "execute_result"
    }
   ],
   "source": [
    "[s for s in names if s.startswith('s')]"
   ]
  },
  {
   "cell_type": "code",
   "execution_count": 85,
   "id": "a7a34d63-7193-4a20-b9a4-4fdec0c5f1e2",
   "metadata": {},
   "outputs": [
    {
     "data": {
      "text/plain": [
       "['Priya',\n",
       " 'Pranali',\n",
       " 'Sakshi',\n",
       " 'Dnyaneshwari',\n",
       " 'Sakshi',\n",
       " 'Amruta',\n",
       " 'Sanika',\n",
       " 'Sneha',\n",
       " 'Pranali']"
      ]
     },
     "execution_count": 85,
     "metadata": {},
     "output_type": "execute_result"
    }
   ],
   "source": [
    "#create a new list consisting of all the names in title case \n",
    "\n",
    "[s.title() for s in names]"
   ]
  },
  {
   "cell_type": "code",
   "execution_count": 86,
   "id": "f7641f6d-a06e-4670-a36b-268b89191301",
   "metadata": {},
   "outputs": [],
   "source": [
    "# empty list\n",
    "e = []"
   ]
  },
  {
   "cell_type": "code",
   "execution_count": 87,
   "id": "2dda65f6-3679-4ff0-a821-b322ab7c6efd",
   "metadata": {},
   "outputs": [
    {
     "data": {
      "text/plain": [
       "list"
      ]
     },
     "execution_count": 87,
     "metadata": {},
     "output_type": "execute_result"
    }
   ],
   "source": [
    "type(e)"
   ]
  },
  {
   "cell_type": "code",
   "execution_count": 88,
   "id": "f7721bc1-a001-4bcb-86cd-2c45e8b7300b",
   "metadata": {},
   "outputs": [
    {
     "data": {
      "text/plain": [
       "[]"
      ]
     },
     "execution_count": 88,
     "metadata": {},
     "output_type": "execute_result"
    }
   ],
   "source": [
    "e"
   ]
  },
  {
   "cell_type": "code",
   "execution_count": 89,
   "id": "07fe6802-11a5-4fe6-ac01-8eb2e3eb0233",
   "metadata": {},
   "outputs": [
    {
     "ename": "IndexError",
     "evalue": "list index out of range",
     "output_type": "error",
     "traceback": [
      "\u001b[1;31m---------------------------------------------------------------------------\u001b[0m",
      "\u001b[1;31mIndexError\u001b[0m                                Traceback (most recent call last)",
      "Cell \u001b[1;32mIn[89], line 1\u001b[0m\n\u001b[1;32m----> 1\u001b[0m e[\u001b[38;5;241m0\u001b[39m]\n",
      "\u001b[1;31mIndexError\u001b[0m: list index out of range"
     ]
    }
   ],
   "source": [
    "e[0]"
   ]
  },
  {
   "cell_type": "code",
   "execution_count": 90,
   "id": "25bfade4-fc79-47ae-a571-d58e352799d8",
   "metadata": {},
   "outputs": [],
   "source": [
    "# decompose the list"
   ]
  },
  {
   "cell_type": "code",
   "execution_count": 91,
   "id": "b52e244e-c3cf-4a76-905b-96f0f7e96cda",
   "metadata": {},
   "outputs": [],
   "source": [
    "mylist = [12,34,52]"
   ]
  },
  {
   "cell_type": "code",
   "execution_count": 92,
   "id": "d26fdf2f-ba48-4c3c-9a08-f36fb2ad6ed3",
   "metadata": {},
   "outputs": [],
   "source": [
    "x,y,z = mylist"
   ]
  },
  {
   "cell_type": "code",
   "execution_count": 93,
   "id": "e683d7db-a861-4727-9026-dcd8e88454e8",
   "metadata": {},
   "outputs": [
    {
     "data": {
      "text/plain": [
       "12"
      ]
     },
     "execution_count": 93,
     "metadata": {},
     "output_type": "execute_result"
    }
   ],
   "source": [
    "x"
   ]
  },
  {
   "cell_type": "code",
   "execution_count": 96,
   "id": "7467b3eb-e6de-4402-8778-3833c09a7567",
   "metadata": {},
   "outputs": [
    {
     "data": {
      "text/plain": [
       "52"
      ]
     },
     "execution_count": 96,
     "metadata": {},
     "output_type": "execute_result"
    }
   ],
   "source": [
    "z"
   ]
  },
  {
   "cell_type": "code",
   "execution_count": 97,
   "id": "20699960-5c51-4d34-a7e2-b978153f2256",
   "metadata": {},
   "outputs": [
    {
     "data": {
      "text/plain": [
       "34"
      ]
     },
     "execution_count": 97,
     "metadata": {},
     "output_type": "execute_result"
    }
   ],
   "source": [
    "y"
   ]
  },
  {
   "cell_type": "markdown",
   "id": "edd8e8a9-5064-4082-8638-27cd38c13a58",
   "metadata": {},
   "source": [
    "### Functions on list"
   ]
  },
  {
   "cell_type": "code",
   "execution_count": 99,
   "id": "d61b81f0-3963-42d8-b13b-fc2bbcfe9de3",
   "metadata": {},
   "outputs": [
    {
     "data": {
      "text/plain": [
       "[12, 1, 23, 2, 90]"
      ]
     },
     "execution_count": 99,
     "metadata": {},
     "output_type": "execute_result"
    }
   ],
   "source": [
    "l"
   ]
  },
  {
   "cell_type": "code",
   "execution_count": 100,
   "id": "147457a2-fdd5-4a58-a2f5-3776fc4da173",
   "metadata": {},
   "outputs": [
    {
     "data": {
      "text/plain": [
       "5"
      ]
     },
     "execution_count": 100,
     "metadata": {},
     "output_type": "execute_result"
    }
   ],
   "source": [
    "len(l)"
   ]
  },
  {
   "cell_type": "code",
   "execution_count": 101,
   "id": "e7d1a036-9cf5-4491-9181-1f22acb14114",
   "metadata": {},
   "outputs": [
    {
     "data": {
      "text/plain": [
       "90"
      ]
     },
     "execution_count": 101,
     "metadata": {},
     "output_type": "execute_result"
    }
   ],
   "source": [
    "max(l)"
   ]
  },
  {
   "cell_type": "code",
   "execution_count": 102,
   "id": "74b20fe9-05c5-4490-ab2e-122a97f63e33",
   "metadata": {},
   "outputs": [
    {
     "data": {
      "text/plain": [
       "1"
      ]
     },
     "execution_count": 102,
     "metadata": {},
     "output_type": "execute_result"
    }
   ],
   "source": [
    "min(l)"
   ]
  },
  {
   "cell_type": "code",
   "execution_count": 103,
   "id": "e334fdc6-331b-4fde-a71d-6c863bebeb0b",
   "metadata": {},
   "outputs": [
    {
     "data": {
      "text/plain": [
       "128"
      ]
     },
     "execution_count": 103,
     "metadata": {},
     "output_type": "execute_result"
    }
   ],
   "source": [
    "sum(l)"
   ]
  },
  {
   "cell_type": "code",
   "execution_count": 104,
   "id": "9309f73e-45a5-467e-881a-58e5085d5cc5",
   "metadata": {},
   "outputs": [
    {
     "data": {
      "text/plain": [
       "[1, 2, 12, 23, 90]"
      ]
     },
     "execution_count": 104,
     "metadata": {},
     "output_type": "execute_result"
    }
   ],
   "source": [
    "sorted(l)"
   ]
  },
  {
   "cell_type": "code",
   "execution_count": 107,
   "id": "1255b475-5724-4f90-960e-37b53f69d785",
   "metadata": {},
   "outputs": [
    {
     "data": {
      "text/plain": [
       "[90, 23, 12, 2, 1]"
      ]
     },
     "execution_count": 107,
     "metadata": {},
     "output_type": "execute_result"
    }
   ],
   "source": [
    "sorted(l, reverse = True)"
   ]
  },
  {
   "cell_type": "code",
   "execution_count": 109,
   "id": "a1b9d60f-30c8-498e-9b93-4afadb1ee165",
   "metadata": {},
   "outputs": [
    {
     "data": {
      "text/plain": [
       "[1, 2, 12, 23, 90]"
      ]
     },
     "execution_count": 109,
     "metadata": {},
     "output_type": "execute_result"
    }
   ],
   "source": [
    "sorted(l, reverse = False)"
   ]
  },
  {
   "cell_type": "code",
   "execution_count": 110,
   "id": "2ba79bd6-aca3-432f-a376-d3c2968a52df",
   "metadata": {},
   "outputs": [],
   "source": [
    "name = 'Pranali'"
   ]
  },
  {
   "cell_type": "code",
   "execution_count": 111,
   "id": "8346bc1c-f26a-4b6d-b9e7-a28eb198d299",
   "metadata": {},
   "outputs": [
    {
     "data": {
      "text/plain": [
       "['P', 'r', 'a', 'n', 'a', 'l', 'i']"
      ]
     },
     "execution_count": 111,
     "metadata": {},
     "output_type": "execute_result"
    }
   ],
   "source": [
    "list(name)"
   ]
  },
  {
   "cell_type": "markdown",
   "id": "851aa9d8-a52e-4d34-9fef-4cf5415b10b8",
   "metadata": {},
   "source": [
    "#methods on list"
   ]
  },
  {
   "cell_type": "code",
   "execution_count": 113,
   "id": "c5f80e54-5410-4334-9701-4e4cef4529bb",
   "metadata": {},
   "outputs": [
    {
     "data": {
      "text/plain": [
       "[12, 1, 23, 2, 90]"
      ]
     },
     "execution_count": 113,
     "metadata": {},
     "output_type": "execute_result"
    }
   ],
   "source": [
    "l"
   ]
  },
  {
   "cell_type": "code",
   "execution_count": 114,
   "id": "7d3e500a-ab22-4b9e-934d-046ff4e0fffd",
   "metadata": {},
   "outputs": [],
   "source": [
    "#append \n",
    "l.append(100)"
   ]
  },
  {
   "cell_type": "code",
   "execution_count": 115,
   "id": "9bff1cd7-497e-47d8-8d5b-a4c7a22c4df6",
   "metadata": {},
   "outputs": [
    {
     "data": {
      "text/plain": [
       "[12, 1, 23, 2, 90, 100]"
      ]
     },
     "execution_count": 115,
     "metadata": {},
     "output_type": "execute_result"
    }
   ],
   "source": [
    "l"
   ]
  },
  {
   "cell_type": "code",
   "execution_count": 2,
   "id": "c519efcf-c8e4-45f9-97c0-01160942eff0",
   "metadata": {},
   "outputs": [],
   "source": [
    "# append and extend\n",
    "\n",
    "x = [12,23,34]\n",
    "y = [12,23,34]"
   ]
  },
  {
   "cell_type": "code",
   "execution_count": 3,
   "id": "5e006508-d671-4e99-95f1-e58f586bbacc",
   "metadata": {},
   "outputs": [],
   "source": [
    "x.append([45,67])\n",
    "y.extend([45,67])"
   ]
  },
  {
   "cell_type": "code",
   "execution_count": 4,
   "id": "839a6a9f-4fcf-4323-be1e-a51b5eaa3277",
   "metadata": {},
   "outputs": [
    {
     "data": {
      "text/plain": [
       "[12, 23, 34, [45, 67]]"
      ]
     },
     "execution_count": 4,
     "metadata": {},
     "output_type": "execute_result"
    }
   ],
   "source": [
    "x"
   ]
  },
  {
   "cell_type": "code",
   "execution_count": 5,
   "id": "3f7bd7c7-c19d-43e9-a1bc-4d26f2c0323f",
   "metadata": {},
   "outputs": [
    {
     "data": {
      "text/plain": [
       "[12, 23, 34, 45, 67]"
      ]
     },
     "execution_count": 5,
     "metadata": {},
     "output_type": "execute_result"
    }
   ],
   "source": [
    "y"
   ]
  },
  {
   "cell_type": "code",
   "execution_count": 120,
   "id": "96654502-cad7-4d38-9486-9cd687a61d2c",
   "metadata": {},
   "outputs": [
    {
     "data": {
      "text/plain": [
       "[12, 23, 34, [45, 67]]"
      ]
     },
     "execution_count": 120,
     "metadata": {},
     "output_type": "execute_result"
    }
   ],
   "source": [
    "x"
   ]
  },
  {
   "cell_type": "code",
   "execution_count": 126,
   "id": "e2b136ae-8bbe-4da5-8ee8-f504733c71b3",
   "metadata": {},
   "outputs": [
    {
     "data": {
      "text/plain": [
       "[12, 23, 34, 45, 67]"
      ]
     },
     "execution_count": 126,
     "metadata": {},
     "output_type": "execute_result"
    }
   ],
   "source": [
    "y"
   ]
  },
  {
   "cell_type": "code",
   "execution_count": 127,
   "id": "c6d0b4e3-01e3-4167-940c-c09b8d9a4f4d",
   "metadata": {},
   "outputs": [
    {
     "data": {
      "text/plain": [
       "45"
      ]
     },
     "execution_count": 127,
     "metadata": {},
     "output_type": "execute_result"
    }
   ],
   "source": [
    "y[3]"
   ]
  },
  {
   "cell_type": "code",
   "execution_count": 6,
   "id": "f63e6f60-91df-479e-ab0f-060f3bbeecf8",
   "metadata": {},
   "outputs": [
    {
     "data": {
      "text/plain": [
       "67"
      ]
     },
     "execution_count": 6,
     "metadata": {},
     "output_type": "execute_result"
    }
   ],
   "source": [
    "x[3][1]"
   ]
  },
  {
   "cell_type": "code",
   "execution_count": 130,
   "id": "fe842ed1-764e-412c-9411-d38e46da9ef2",
   "metadata": {},
   "outputs": [
    {
     "data": {
      "text/plain": [
       "[12, 1, 23, 2, 90, 100]"
      ]
     },
     "execution_count": 130,
     "metadata": {},
     "output_type": "execute_result"
    }
   ],
   "source": [
    "l"
   ]
  },
  {
   "cell_type": "code",
   "execution_count": 132,
   "id": "3dbe385c-e435-4dcb-9757-a288159ec1d6",
   "metadata": {},
   "outputs": [],
   "source": [
    "# insert\n",
    "\n",
    "l.insert(2,177)"
   ]
  },
  {
   "cell_type": "code",
   "execution_count": 133,
   "id": "8e175ef8-5bea-473a-8f57-4f45e89175ff",
   "metadata": {},
   "outputs": [
    {
     "data": {
      "text/plain": [
       "[12, 1, 177, 177, 23, 2, 90, 100]"
      ]
     },
     "execution_count": 133,
     "metadata": {},
     "output_type": "execute_result"
    }
   ],
   "source": [
    "l"
   ]
  },
  {
   "cell_type": "code",
   "execution_count": 134,
   "id": "57130842-5dfe-4336-9d92-0ae1b3764418",
   "metadata": {},
   "outputs": [],
   "source": [
    "# remove\n",
    "\n",
    "l.remove(177)"
   ]
  },
  {
   "cell_type": "code",
   "execution_count": 135,
   "id": "73a97c94-79ec-4dc0-9e9f-9039a33c5b1e",
   "metadata": {},
   "outputs": [
    {
     "data": {
      "text/plain": [
       "[12, 1, 177, 23, 2, 90, 100]"
      ]
     },
     "execution_count": 135,
     "metadata": {},
     "output_type": "execute_result"
    }
   ],
   "source": [
    "l"
   ]
  },
  {
   "cell_type": "code",
   "execution_count": 136,
   "id": "2a3575d6-cccc-4c09-8191-46d6ff0e3bff",
   "metadata": {},
   "outputs": [
    {
     "data": {
      "text/plain": [
       "1"
      ]
     },
     "execution_count": 136,
     "metadata": {},
     "output_type": "execute_result"
    }
   ],
   "source": [
    "l.count(12)"
   ]
  },
  {
   "cell_type": "code",
   "execution_count": 137,
   "id": "d8dc0d70-ea6b-41d5-93fc-7811256a5bce",
   "metadata": {},
   "outputs": [
    {
     "data": {
      "text/plain": [
       "2"
      ]
     },
     "execution_count": 137,
     "metadata": {},
     "output_type": "execute_result"
    }
   ],
   "source": [
    "l.index(177)"
   ]
  },
  {
   "cell_type": "code",
   "execution_count": 138,
   "id": "5cb3eb07-c3f4-495a-9aa0-d92dde1895d5",
   "metadata": {},
   "outputs": [
    {
     "data": {
      "text/plain": [
       "100"
      ]
     },
     "execution_count": 138,
     "metadata": {},
     "output_type": "execute_result"
    }
   ],
   "source": [
    "# pop/delete\n",
    "\n",
    "l.pop()"
   ]
  },
  {
   "cell_type": "code",
   "execution_count": 139,
   "id": "5a2e58ee-aa47-409b-bffd-d5b685a8767f",
   "metadata": {},
   "outputs": [
    {
     "data": {
      "text/plain": [
       "[12, 1, 177, 23, 2, 90]"
      ]
     },
     "execution_count": 139,
     "metadata": {},
     "output_type": "execute_result"
    }
   ],
   "source": [
    "l"
   ]
  },
  {
   "cell_type": "code",
   "execution_count": 140,
   "id": "05344554-3398-41b6-88a8-b4d6a9e10f7d",
   "metadata": {},
   "outputs": [
    {
     "data": {
      "text/plain": [
       "23"
      ]
     },
     "execution_count": 140,
     "metadata": {},
     "output_type": "execute_result"
    }
   ],
   "source": [
    "l.pop(3)"
   ]
  },
  {
   "cell_type": "code",
   "execution_count": 141,
   "id": "d4ffc7c1-03f7-4d08-8264-d2b2ef4a1899",
   "metadata": {},
   "outputs": [
    {
     "data": {
      "text/plain": [
       "[12, 1, 177, 2, 90]"
      ]
     },
     "execution_count": 141,
     "metadata": {},
     "output_type": "execute_result"
    }
   ],
   "source": [
    "l"
   ]
  },
  {
   "cell_type": "code",
   "execution_count": 142,
   "id": "36d4e3d5-4004-4fb9-8b7f-7aedc67ab904",
   "metadata": {},
   "outputs": [],
   "source": [
    "l.reverse()"
   ]
  },
  {
   "cell_type": "code",
   "execution_count": 143,
   "id": "95ebbcbc-29a4-431f-a922-f89cc7dcb024",
   "metadata": {},
   "outputs": [
    {
     "data": {
      "text/plain": [
       "[90, 2, 177, 1, 12]"
      ]
     },
     "execution_count": 143,
     "metadata": {},
     "output_type": "execute_result"
    }
   ],
   "source": [
    "l"
   ]
  },
  {
   "cell_type": "code",
   "execution_count": 144,
   "id": "a86120da-578a-48ac-b945-e043dd7091f9",
   "metadata": {},
   "outputs": [],
   "source": [
    "l.sort()"
   ]
  },
  {
   "cell_type": "code",
   "execution_count": 145,
   "id": "15c03057-3f71-4922-9efd-4dcbb0a83143",
   "metadata": {},
   "outputs": [
    {
     "data": {
      "text/plain": [
       "[1, 2, 12, 90, 177]"
      ]
     },
     "execution_count": 145,
     "metadata": {},
     "output_type": "execute_result"
    }
   ],
   "source": [
    "l"
   ]
  },
  {
   "cell_type": "markdown",
   "id": "220af147-1ce7-4edd-ba49-608a357593c8",
   "metadata": {},
   "source": [
    "### shallow copy"
   ]
  },
  {
   "cell_type": "code",
   "execution_count": 146,
   "id": "ffb1b609-baa9-4b1a-9193-0031cffb6869",
   "metadata": {},
   "outputs": [],
   "source": [
    "l1 = [34,56,78]"
   ]
  },
  {
   "cell_type": "code",
   "execution_count": 147,
   "id": "d37f7cfc-683f-4fd7-9eb1-9a51df788887",
   "metadata": {},
   "outputs": [],
   "source": [
    "l2 = l1"
   ]
  },
  {
   "cell_type": "code",
   "execution_count": 148,
   "id": "5cf09705-0b60-4912-872a-b4a7a3db4c43",
   "metadata": {},
   "outputs": [
    {
     "data": {
      "text/plain": [
       "[34, 56, 78]"
      ]
     },
     "execution_count": 148,
     "metadata": {},
     "output_type": "execute_result"
    }
   ],
   "source": [
    "l2"
   ]
  },
  {
   "cell_type": "code",
   "execution_count": 149,
   "id": "74315428-40db-4beb-a243-6227b8aa5372",
   "metadata": {},
   "outputs": [],
   "source": [
    "l1.append(100)"
   ]
  },
  {
   "cell_type": "code",
   "execution_count": 150,
   "id": "aadd8d17-5131-4972-91c2-8864f46bfaff",
   "metadata": {},
   "outputs": [
    {
     "data": {
      "text/plain": [
       "[34, 56, 78, 100]"
      ]
     },
     "execution_count": 150,
     "metadata": {},
     "output_type": "execute_result"
    }
   ],
   "source": [
    "l1"
   ]
  },
  {
   "cell_type": "code",
   "execution_count": 151,
   "id": "aef7e9cf-6761-4ffb-9cb9-2724dcec81a3",
   "metadata": {},
   "outputs": [
    {
     "data": {
      "text/plain": [
       "[34, 56, 78, 100]"
      ]
     },
     "execution_count": 151,
     "metadata": {},
     "output_type": "execute_result"
    }
   ],
   "source": [
    "l2"
   ]
  },
  {
   "cell_type": "code",
   "execution_count": 152,
   "id": "53795eb8-beb5-494e-a952-ca0dce864228",
   "metadata": {},
   "outputs": [],
   "source": [
    "l1.append([45,67])"
   ]
  },
  {
   "cell_type": "code",
   "execution_count": 153,
   "id": "87ab4ad3-6c06-46de-a5b0-7f15c5160469",
   "metadata": {},
   "outputs": [
    {
     "data": {
      "text/plain": [
       "[34, 56, 78, 100, [45, 67]]"
      ]
     },
     "execution_count": 153,
     "metadata": {},
     "output_type": "execute_result"
    }
   ],
   "source": [
    "l1"
   ]
  },
  {
   "cell_type": "code",
   "execution_count": 154,
   "id": "cdccf0b4-5334-4cce-b1f6-df5f15ce8f6f",
   "metadata": {},
   "outputs": [
    {
     "data": {
      "text/plain": [
       "[34, 56, 78, 100, [45, 67]]"
      ]
     },
     "execution_count": 154,
     "metadata": {},
     "output_type": "execute_result"
    }
   ],
   "source": [
    "l2"
   ]
  },
  {
   "cell_type": "code",
   "execution_count": 155,
   "id": "bdd5b1c8-9212-4321-a526-7c46a19b6d7a",
   "metadata": {},
   "outputs": [],
   "source": [
    "###"
   ]
  },
  {
   "cell_type": "code",
   "execution_count": 156,
   "id": "de9c65d3-d421-4a16-9d18-2a80b094f9dd",
   "metadata": {},
   "outputs": [],
   "source": [
    "l3 = [45,56,67]"
   ]
  },
  {
   "cell_type": "code",
   "execution_count": 157,
   "id": "f60462c6-9366-49b7-b969-708742d3dae8",
   "metadata": {},
   "outputs": [],
   "source": [
    "l4 = l3.copy()"
   ]
  },
  {
   "cell_type": "code",
   "execution_count": 160,
   "id": "9ca8d35f-e501-4dad-bfb2-da1ab3c7fd6e",
   "metadata": {},
   "outputs": [
    {
     "data": {
      "text/plain": [
       "[45, 56, 67]"
      ]
     },
     "execution_count": 160,
     "metadata": {},
     "output_type": "execute_result"
    }
   ],
   "source": [
    "l3"
   ]
  },
  {
   "cell_type": "code",
   "execution_count": 161,
   "id": "fda1bbf6-65e6-4e11-a8dc-250dc506c41e",
   "metadata": {
    "jp-MarkdownHeadingCollapsed": true
   },
   "outputs": [],
   "source": [
    "l3.append(1000)"
   ]
  },
  {
   "cell_type": "code",
   "execution_count": 162,
   "id": "15fd86aa-b638-4137-8c67-5294b303c67a",
   "metadata": {},
   "outputs": [
    {
     "data": {
      "text/plain": [
       "[45, 56, 67, 1000]"
      ]
     },
     "execution_count": 162,
     "metadata": {},
     "output_type": "execute_result"
    }
   ],
   "source": [
    "l3"
   ]
  },
  {
   "cell_type": "code",
   "execution_count": 163,
   "id": "cfe92d11-42a3-4c21-ad31-cb5fe72edc74",
   "metadata": {},
   "outputs": [
    {
     "data": {
      "text/plain": [
       "[45, 56, 67]"
      ]
     },
     "execution_count": 163,
     "metadata": {},
     "output_type": "execute_result"
    }
   ],
   "source": [
    "l4"
   ]
  },
  {
   "cell_type": "code",
   "execution_count": 164,
   "id": "60bd2317-a6c0-48e8-97e9-1c990b910d30",
   "metadata": {},
   "outputs": [],
   "source": [
    "l3 = [45,56,67,[34,59]]"
   ]
  },
  {
   "cell_type": "code",
   "execution_count": 165,
   "id": "22c43f3b-0066-4560-8be1-ffb07547d7f1",
   "metadata": {},
   "outputs": [],
   "source": [
    "l4 = l3.copy()"
   ]
  },
  {
   "cell_type": "code",
   "execution_count": 166,
   "id": "717c0aa6-8b4c-4bb5-bd6d-8b9819deb3a7",
   "metadata": {},
   "outputs": [
    {
     "data": {
      "text/plain": [
       "[45, 56, 67, [34, 59]]"
      ]
     },
     "execution_count": 166,
     "metadata": {},
     "output_type": "execute_result"
    }
   ],
   "source": [
    "l3"
   ]
  },
  {
   "cell_type": "code",
   "execution_count": 167,
   "id": "d95693e7-0321-4e05-91fc-9c8ebb9ae330",
   "metadata": {},
   "outputs": [
    {
     "data": {
      "text/plain": [
       "[45, 56, 67, [34, 59]]"
      ]
     },
     "execution_count": 167,
     "metadata": {},
     "output_type": "execute_result"
    }
   ],
   "source": [
    "l4"
   ]
  },
  {
   "cell_type": "code",
   "execution_count": 168,
   "id": "12df86da-ab57-4671-a445-424cf64a2972",
   "metadata": {},
   "outputs": [],
   "source": [
    "l3[3].append('Pranali')"
   ]
  },
  {
   "cell_type": "code",
   "execution_count": 169,
   "id": "bda42b94-1658-4c8d-b6db-d1a6bc54115e",
   "metadata": {},
   "outputs": [
    {
     "data": {
      "text/plain": [
       "[45, 56, 67, [34, 59, 'Pranali']]"
      ]
     },
     "execution_count": 169,
     "metadata": {},
     "output_type": "execute_result"
    }
   ],
   "source": [
    "l3"
   ]
  },
  {
   "cell_type": "code",
   "execution_count": 170,
   "id": "b26f9133-836e-492d-b58a-23ca898c139c",
   "metadata": {},
   "outputs": [
    {
     "data": {
      "text/plain": [
       "[45, 56, 67, [34, 59, 'Pranali']]"
      ]
     },
     "execution_count": 170,
     "metadata": {},
     "output_type": "execute_result"
    }
   ],
   "source": [
    "l4"
   ]
  },
  {
   "cell_type": "code",
   "execution_count": 171,
   "id": "8e7f380b-d3ed-466d-bd96-bb85cfa0fc19",
   "metadata": {},
   "outputs": [
    {
     "data": {
      "text/plain": [
       "[1, 2, 12, 90, 177]"
      ]
     },
     "execution_count": 171,
     "metadata": {},
     "output_type": "execute_result"
    }
   ],
   "source": [
    "l"
   ]
  },
  {
   "cell_type": "code",
   "execution_count": 181,
   "id": "47772249-6378-462d-89f1-3667800979bf",
   "metadata": {},
   "outputs": [
    {
     "name": "stdout",
     "output_type": "stream",
     "text": [
      "0 1\n",
      "1 2\n",
      "2 12\n",
      "3 90\n",
      "4 177\n"
     ]
    }
   ],
   "source": [
    "# iterate over a list and print index as well as value\n",
    "\n",
    "for n in l:\n",
    "   print(l.index(n),n) # but we have problem in this method  "
   ]
  },
  {
   "cell_type": "code",
   "execution_count": 182,
   "id": "7ae5787f-ab89-4a81-a820-9c4aee2847b8",
   "metadata": {},
   "outputs": [
    {
     "name": "stdout",
     "output_type": "stream",
     "text": [
      "0 1\n",
      "1 2\n",
      "2 12\n",
      "3 90\n",
      "4 177\n"
     ]
    }
   ],
   "source": [
    "for index,n in enumerate(l):\n",
    "    print(index,n) #This is the correct way of printing index as well as value"
   ]
  },
  {
   "cell_type": "markdown",
   "id": "7f711287-10a2-48ae-ab2f-d9f59962d662",
   "metadata": {},
   "source": [
    "###Tuple"
   ]
  },
  {
   "cell_type": "code",
   "execution_count": 183,
   "id": "b62ee206-adf8-439b-bb17-2a0be6066185",
   "metadata": {},
   "outputs": [],
   "source": [
    "t =(12,23,45,12,67)"
   ]
  },
  {
   "cell_type": "code",
   "execution_count": 184,
   "id": "ee0578f5-fd87-4592-b9e3-92c0351d5207",
   "metadata": {},
   "outputs": [
    {
     "data": {
      "text/plain": [
       "(12, 23, 45, 12, 67)"
      ]
     },
     "execution_count": 184,
     "metadata": {},
     "output_type": "execute_result"
    }
   ],
   "source": [
    "t"
   ]
  },
  {
   "cell_type": "code",
   "execution_count": 185,
   "id": "c57e2098-549a-462a-9f2f-4f3c45cc6c15",
   "metadata": {},
   "outputs": [
    {
     "data": {
      "text/plain": [
       "tuple"
      ]
     },
     "execution_count": 185,
     "metadata": {},
     "output_type": "execute_result"
    }
   ],
   "source": [
    "type(t)"
   ]
  },
  {
   "cell_type": "code",
   "execution_count": 186,
   "id": "2ea3a923-9a78-4fed-88c6-65c412885a20",
   "metadata": {},
   "outputs": [],
   "source": [
    "t = (12,23,45,12,67,'A')"
   ]
  },
  {
   "cell_type": "code",
   "execution_count": 187,
   "id": "45f88800-f02c-4415-8e61-ea7f4b9cf29d",
   "metadata": {},
   "outputs": [
    {
     "data": {
      "text/plain": [
       "(12, 23, 45, 12, 67, 'A')"
      ]
     },
     "execution_count": 187,
     "metadata": {},
     "output_type": "execute_result"
    }
   ],
   "source": [
    "t"
   ]
  },
  {
   "cell_type": "code",
   "execution_count": 189,
   "id": "ad8c9916-ff40-48fb-a72b-57dd3a5ea26f",
   "metadata": {},
   "outputs": [
    {
     "ename": "TypeError",
     "evalue": "'tuple' object does not support item assignment",
     "output_type": "error",
     "traceback": [
      "\u001b[1;31m---------------------------------------------------------------------------\u001b[0m",
      "\u001b[1;31mTypeError\u001b[0m                                 Traceback (most recent call last)",
      "Cell \u001b[1;32mIn[189], line 1\u001b[0m\n\u001b[1;32m----> 1\u001b[0m t[\u001b[38;5;241m2\u001b[39m]\u001b[38;5;241m=\u001b[39m\u001b[38;5;241m69\u001b[39m\n",
      "\u001b[1;31mTypeError\u001b[0m: 'tuple' object does not support item assignment"
     ]
    }
   ],
   "source": [
    "t[2]=69"
   ]
  },
  {
   "cell_type": "code",
   "execution_count": 190,
   "id": "61eacd59-eecf-4d10-b218-7296105c4fe5",
   "metadata": {},
   "outputs": [
    {
     "ename": "AttributeError",
     "evalue": "'tuple' object has no attribute 'add'",
     "output_type": "error",
     "traceback": [
      "\u001b[1;31m---------------------------------------------------------------------------\u001b[0m",
      "\u001b[1;31mAttributeError\u001b[0m                            Traceback (most recent call last)",
      "Cell \u001b[1;32mIn[190], line 1\u001b[0m\n\u001b[1;32m----> 1\u001b[0m t\u001b[38;5;241m.\u001b[39madd(\u001b[38;5;241m12\u001b[39m)\n",
      "\u001b[1;31mAttributeError\u001b[0m: 'tuple' object has no attribute 'add'"
     ]
    }
   ],
   "source": [
    "t.add(12)"
   ]
  },
  {
   "cell_type": "code",
   "execution_count": 191,
   "id": "3cd25548-3f08-486e-88dc-4d50ac126bff",
   "metadata": {},
   "outputs": [
    {
     "data": {
      "text/plain": [
       "(12, 23, 45, 12, 67, 'A')"
      ]
     },
     "execution_count": 191,
     "metadata": {},
     "output_type": "execute_result"
    }
   ],
   "source": [
    "t"
   ]
  },
  {
   "cell_type": "code",
   "execution_count": 193,
   "id": "b8e8efe7-79ea-4a6b-94ad-497ca9d01cb1",
   "metadata": {},
   "outputs": [],
   "source": [
    "t1 = list(t)"
   ]
  },
  {
   "cell_type": "code",
   "execution_count": 194,
   "id": "d917d01c-aa08-4ced-ab53-86cfbb086916",
   "metadata": {},
   "outputs": [
    {
     "data": {
      "text/plain": [
       "[12, 23, 45, 12, 67, 'A']"
      ]
     },
     "execution_count": 194,
     "metadata": {},
     "output_type": "execute_result"
    }
   ],
   "source": [
    "t1"
   ]
  },
  {
   "cell_type": "code",
   "execution_count": 195,
   "id": "84d91a27-5600-46ec-baed-15ae315e075a",
   "metadata": {},
   "outputs": [
    {
     "data": {
      "text/plain": [
       "list"
      ]
     },
     "execution_count": 195,
     "metadata": {},
     "output_type": "execute_result"
    }
   ],
   "source": [
    "type(t1)"
   ]
  },
  {
   "cell_type": "code",
   "execution_count": 196,
   "id": "05520a8e-3187-49d3-8112-9bdf1003ba92",
   "metadata": {},
   "outputs": [
    {
     "data": {
      "text/plain": [
       "(12, 23, 45, 12, 67, 'A')"
      ]
     },
     "execution_count": 196,
     "metadata": {},
     "output_type": "execute_result"
    }
   ],
   "source": [
    "tuple(t1)"
   ]
  },
  {
   "cell_type": "code",
   "execution_count": 197,
   "id": "9651bb78-aba0-424b-82e8-4aaf8d8adaa2",
   "metadata": {},
   "outputs": [
    {
     "name": "stdout",
     "output_type": "stream",
     "text": [
      "Help on class tuple in module builtins:\n",
      "\n",
      "class tuple(object)\n",
      " |  tuple(iterable=(), /)\n",
      " |  \n",
      " |  Built-in immutable sequence.\n",
      " |  \n",
      " |  If no argument is given, the constructor returns an empty tuple.\n",
      " |  If iterable is specified the tuple is initialized from iterable's items.\n",
      " |  \n",
      " |  If the argument is a tuple, the return value is the same object.\n",
      " |  \n",
      " |  Built-in subclasses:\n",
      " |      asyncgen_hooks\n",
      " |      UnraisableHookArgs\n",
      " |  \n",
      " |  Methods defined here:\n",
      " |  \n",
      " |  __add__(self, value, /)\n",
      " |      Return self+value.\n",
      " |  \n",
      " |  __contains__(self, key, /)\n",
      " |      Return key in self.\n",
      " |  \n",
      " |  __eq__(self, value, /)\n",
      " |      Return self==value.\n",
      " |  \n",
      " |  __ge__(self, value, /)\n",
      " |      Return self>=value.\n",
      " |  \n",
      " |  __getattribute__(self, name, /)\n",
      " |      Return getattr(self, name).\n",
      " |  \n",
      " |  __getitem__(self, key, /)\n",
      " |      Return self[key].\n",
      " |  \n",
      " |  __getnewargs__(self, /)\n",
      " |  \n",
      " |  __gt__(self, value, /)\n",
      " |      Return self>value.\n",
      " |  \n",
      " |  __hash__(self, /)\n",
      " |      Return hash(self).\n",
      " |  \n",
      " |  __iter__(self, /)\n",
      " |      Implement iter(self).\n",
      " |  \n",
      " |  __le__(self, value, /)\n",
      " |      Return self<=value.\n",
      " |  \n",
      " |  __len__(self, /)\n",
      " |      Return len(self).\n",
      " |  \n",
      " |  __lt__(self, value, /)\n",
      " |      Return self<value.\n",
      " |  \n",
      " |  __mul__(self, value, /)\n",
      " |      Return self*value.\n",
      " |  \n",
      " |  __ne__(self, value, /)\n",
      " |      Return self!=value.\n",
      " |  \n",
      " |  __repr__(self, /)\n",
      " |      Return repr(self).\n",
      " |  \n",
      " |  __rmul__(self, value, /)\n",
      " |      Return value*self.\n",
      " |  \n",
      " |  count(self, value, /)\n",
      " |      Return number of occurrences of value.\n",
      " |  \n",
      " |  index(self, value, start=0, stop=9223372036854775807, /)\n",
      " |      Return first index of value.\n",
      " |      \n",
      " |      Raises ValueError if the value is not present.\n",
      " |  \n",
      " |  ----------------------------------------------------------------------\n",
      " |  Class methods defined here:\n",
      " |  \n",
      " |  __class_getitem__(...) from builtins.type\n",
      " |      See PEP 585\n",
      " |  \n",
      " |  ----------------------------------------------------------------------\n",
      " |  Static methods defined here:\n",
      " |  \n",
      " |  __new__(*args, **kwargs) from builtins.type\n",
      " |      Create and return a new object.  See help(type) for accurate signature.\n",
      "\n"
     ]
    }
   ],
   "source": [
    "help(tuple)"
   ]
  },
  {
   "cell_type": "markdown",
   "id": "9ae450c2-ac0b-4ec5-9fca-a5796be9f4df",
   "metadata": {},
   "source": [
    "###SET"
   ]
  },
  {
   "cell_type": "code",
   "execution_count": 207,
   "id": "8718eef4-8767-4949-adf7-fdb6c2193d41",
   "metadata": {},
   "outputs": [],
   "source": [
    "s = {34,45,56,34,78,'a'}"
   ]
  },
  {
   "cell_type": "code",
   "execution_count": 208,
   "id": "df54fee2-a0fe-41f4-8e13-51cadf88b500",
   "metadata": {},
   "outputs": [
    {
     "data": {
      "text/plain": [
       "{34, 45, 56, 78, 'a'}"
      ]
     },
     "execution_count": 208,
     "metadata": {},
     "output_type": "execute_result"
    }
   ],
   "source": [
    "s"
   ]
  },
  {
   "cell_type": "code",
   "execution_count": 201,
   "id": "7b2a1815-53f6-4157-8b6d-bf758eaa9ea5",
   "metadata": {},
   "outputs": [
    {
     "data": {
      "text/plain": [
       "set"
      ]
     },
     "execution_count": 201,
     "metadata": {},
     "output_type": "execute_result"
    }
   ],
   "source": [
    "type(s)"
   ]
  },
  {
   "cell_type": "code",
   "execution_count": 202,
   "id": "b74d8c80-fc34-4ca7-b0ff-071238e065fa",
   "metadata": {},
   "outputs": [],
   "source": [
    "#set does not allow duplicate value\n",
    "# it is also hetrogenious"
   ]
  },
  {
   "cell_type": "code",
   "execution_count": 204,
   "id": "e001c2fe-8133-4cc3-8f8b-63a951163ca5",
   "metadata": {},
   "outputs": [
    {
     "ename": "TypeError",
     "evalue": "'set' object is not subscriptable",
     "output_type": "error",
     "traceback": [
      "\u001b[1;31m---------------------------------------------------------------------------\u001b[0m",
      "\u001b[1;31mTypeError\u001b[0m                                 Traceback (most recent call last)",
      "Cell \u001b[1;32mIn[204], line 1\u001b[0m\n\u001b[1;32m----> 1\u001b[0m s[\u001b[38;5;241m3\u001b[39m]\n",
      "\u001b[1;31mTypeError\u001b[0m: 'set' object is not subscriptable"
     ]
    }
   ],
   "source": [
    "s[3]"
   ]
  },
  {
   "cell_type": "code",
   "execution_count": 210,
   "id": "b84db961-f096-4696-9a11-6915f81af194",
   "metadata": {},
   "outputs": [],
   "source": [
    "s.add(6)"
   ]
  },
  {
   "cell_type": "code",
   "execution_count": 211,
   "id": "c0168666-e3e1-4171-b25d-37232a427672",
   "metadata": {},
   "outputs": [
    {
     "data": {
      "text/plain": [
       "{34, 45, 56, 6, 78, 'a'}"
      ]
     },
     "execution_count": 211,
     "metadata": {},
     "output_type": "execute_result"
    }
   ],
   "source": [
    "s"
   ]
  },
  {
   "cell_type": "code",
   "execution_count": 212,
   "id": "bc016296-01eb-4b3b-bd8d-d3b16e72e896",
   "metadata": {},
   "outputs": [],
   "source": [
    "s1 = frozenset(s)"
   ]
  },
  {
   "cell_type": "code",
   "execution_count": 214,
   "id": "b15f80dd-5415-47eb-ae53-17a487e09d0b",
   "metadata": {},
   "outputs": [
    {
     "data": {
      "text/plain": [
       "frozenset({34, 45, 56, 6, 78, 'a'})"
      ]
     },
     "execution_count": 214,
     "metadata": {},
     "output_type": "execute_result"
    }
   ],
   "source": [
    "s1"
   ]
  },
  {
   "cell_type": "markdown",
   "id": "11e24a08-5629-4dc4-90ae-007831ce7f7e",
   "metadata": {},
   "source": [
    "###Dictionary"
   ]
  },
  {
   "cell_type": "code",
   "execution_count": 216,
   "id": "4ddefbff-b46b-43f5-baa4-d81347f4a3c8",
   "metadata": {},
   "outputs": [],
   "source": [
    "d = {1:67,2:89,3:78,7:57}"
   ]
  },
  {
   "cell_type": "code",
   "execution_count": 217,
   "id": "f63df740-e999-4ac4-8ffe-edad4111939a",
   "metadata": {},
   "outputs": [
    {
     "data": {
      "text/plain": [
       "{1: 67, 2: 89, 3: 78, 7: 57}"
      ]
     },
     "execution_count": 217,
     "metadata": {},
     "output_type": "execute_result"
    }
   ],
   "source": [
    "d"
   ]
  },
  {
   "cell_type": "code",
   "execution_count": 218,
   "id": "7af96015-33dd-411a-b5c5-764941ca338a",
   "metadata": {},
   "outputs": [
    {
     "data": {
      "text/plain": [
       "dict"
      ]
     },
     "execution_count": 218,
     "metadata": {},
     "output_type": "execute_result"
    }
   ],
   "source": [
    "type(d)"
   ]
  },
  {
   "cell_type": "code",
   "execution_count": 219,
   "id": "486c7c7f-5408-46ce-968d-cd9a1f2b61c0",
   "metadata": {},
   "outputs": [],
   "source": [
    "# it is a collection of key and values\n",
    "# duplicate keys are not allowed but value can be duplicate"
   ]
  },
  {
   "cell_type": "code",
   "execution_count": 220,
   "id": "ccfbfdf5-4394-41a2-aba7-6b38ab70620d",
   "metadata": {},
   "outputs": [
    {
     "data": {
      "text/plain": [
       "78"
      ]
     },
     "execution_count": 220,
     "metadata": {},
     "output_type": "execute_result"
    }
   ],
   "source": [
    "d[3]"
   ]
  },
  {
   "cell_type": "code",
   "execution_count": 221,
   "id": "4755068c-9bd1-44b1-b1fd-98c00cf6da07",
   "metadata": {},
   "outputs": [
    {
     "data": {
      "text/plain": [
       "57"
      ]
     },
     "execution_count": 221,
     "metadata": {},
     "output_type": "execute_result"
    }
   ],
   "source": [
    "d[7]"
   ]
  },
  {
   "cell_type": "code",
   "execution_count": 222,
   "id": "6112b2bc-2d9c-452b-b7e6-558598268be8",
   "metadata": {},
   "outputs": [],
   "source": [
    "d[10] = 73"
   ]
  },
  {
   "cell_type": "code",
   "execution_count": 223,
   "id": "f90af7d8-e9e0-4b25-bf61-edba8579ffdd",
   "metadata": {},
   "outputs": [
    {
     "data": {
      "text/plain": [
       "{1: 67, 2: 89, 3: 78, 7: 57, 10: 73}"
      ]
     },
     "execution_count": 223,
     "metadata": {},
     "output_type": "execute_result"
    }
   ],
   "source": [
    "d"
   ]
  },
  {
   "cell_type": "code",
   "execution_count": 224,
   "id": "0a9ef2ca-a379-4169-93f7-a137b5187c9a",
   "metadata": {},
   "outputs": [],
   "source": [
    "d[3] = 73"
   ]
  },
  {
   "cell_type": "code",
   "execution_count": 225,
   "id": "4845f514-bced-4981-8be4-dae4cb77e019",
   "metadata": {},
   "outputs": [
    {
     "data": {
      "text/plain": [
       "{1: 67, 2: 89, 3: 73, 7: 57, 10: 73}"
      ]
     },
     "execution_count": 225,
     "metadata": {},
     "output_type": "execute_result"
    }
   ],
   "source": [
    "d"
   ]
  },
  {
   "cell_type": "code",
   "execution_count": 226,
   "id": "6819425f-b8b1-4b64-aaeb-17a6ec129859",
   "metadata": {},
   "outputs": [],
   "source": [
    "d[11] = 89,'Pranali'"
   ]
  },
  {
   "cell_type": "code",
   "execution_count": 227,
   "id": "f1e21b50-bb35-4fff-83a5-7b998dde11d2",
   "metadata": {},
   "outputs": [
    {
     "data": {
      "text/plain": [
       "{1: 67, 2: 89, 3: 73, 7: 57, 10: 73, 11: (89, 'Pranali')}"
      ]
     },
     "execution_count": 227,
     "metadata": {},
     "output_type": "execute_result"
    }
   ],
   "source": [
    "d"
   ]
  },
  {
   "cell_type": "code",
   "execution_count": 228,
   "id": "6775387a-7601-4fab-957d-e6795ba9a3e9",
   "metadata": {},
   "outputs": [
    {
     "data": {
      "text/plain": [
       "dict_keys([1, 2, 3, 7, 10, 11])"
      ]
     },
     "execution_count": 228,
     "metadata": {},
     "output_type": "execute_result"
    }
   ],
   "source": [
    "d.keys()"
   ]
  },
  {
   "cell_type": "code",
   "execution_count": 229,
   "id": "ea16bf1f-d1b0-42ae-81bb-af1e6e4c3ba1",
   "metadata": {},
   "outputs": [
    {
     "data": {
      "text/plain": [
       "dict_values([67, 89, 73, 57, 73, (89, 'Pranali')])"
      ]
     },
     "execution_count": 229,
     "metadata": {},
     "output_type": "execute_result"
    }
   ],
   "source": [
    "d.values()"
   ]
  },
  {
   "cell_type": "code",
   "execution_count": null,
   "id": "ea98fd9b-7663-4fed-adab-40f80f352d1f",
   "metadata": {},
   "outputs": [],
   "source": []
  }
 ],
 "metadata": {
  "kernelspec": {
   "display_name": "Python 3 (ipykernel)",
   "language": "python",
   "name": "python3"
  },
  "language_info": {
   "codemirror_mode": {
    "name": "ipython",
    "version": 3
   },
   "file_extension": ".py",
   "mimetype": "text/x-python",
   "name": "python",
   "nbconvert_exporter": "python",
   "pygments_lexer": "ipython3",
   "version": "3.11.7"
  }
 },
 "nbformat": 4,
 "nbformat_minor": 5
}
