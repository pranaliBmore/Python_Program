{
 "cells": [
  {
   "cell_type": "code",
   "execution_count": 1,
   "id": "ea81bd3d-c257-4b31-921e-c95137b1ea60",
   "metadata": {},
   "outputs": [],
   "source": [
    "class Employee():  # class creation\n",
    "    pass"
   ]
  },
  {
   "cell_type": "code",
   "execution_count": 2,
   "id": "b56d5ecc-85a0-44b3-b5e0-5111c2542478",
   "metadata": {},
   "outputs": [],
   "source": [
    "emp1 = Employee() # instance of a class\n",
    "emp2 = Employee()"
   ]
  },
  {
   "cell_type": "code",
   "execution_count": 3,
   "id": "d8a749f0-44f9-4a1a-bcc1-8cfa133a9470",
   "metadata": {},
   "outputs": [
    {
     "name": "stdout",
     "output_type": "stream",
     "text": [
      "<__main__.Employee object at 0x0000021ABE177250>\n",
      "<__main__.Employee object at 0x0000021ABDDBDE10>\n"
     ]
    }
   ],
   "source": [
    "print(emp1)\n",
    "print(emp2)"
   ]
  },
  {
   "cell_type": "code",
   "execution_count": 4,
   "id": "965ffb54-eab5-4a7c-b523-e00b325f487f",
   "metadata": {},
   "outputs": [],
   "source": [
    "emp1.first = \"Pranali\"  # instance variable\n",
    "emp1.last = \"Negi\"\n",
    "emp1.salary = '52000'"
   ]
  },
  {
   "cell_type": "code",
   "execution_count": 5,
   "id": "d8bfcd71-c81d-4c07-8960-7f3b58995975",
   "metadata": {},
   "outputs": [],
   "source": [
    "emp2.first = \"Natasha\"  # instance variable\n",
    "emp2.last = \"More\"\n",
    "emp2.salary = '52000'"
   ]
  },
  {
   "cell_type": "code",
   "execution_count": 6,
   "id": "9aff69a7-7043-48f7-9017-bba4a909be6f",
   "metadata": {},
   "outputs": [
    {
     "name": "stdout",
     "output_type": "stream",
     "text": [
      "Pranali\n"
     ]
    }
   ],
   "source": [
    "print(emp1.first)"
   ]
  },
  {
   "cell_type": "code",
   "execution_count": 7,
   "id": "864900c6-3118-4e1d-b3f1-d86ed9dedb96",
   "metadata": {},
   "outputs": [
    {
     "name": "stdout",
     "output_type": "stream",
     "text": [
      "52000\n"
     ]
    }
   ],
   "source": [
    "print(emp2.salary)"
   ]
  },
  {
   "cell_type": "code",
   "execution_count": 8,
   "id": "95ddc272-8e0e-4a9c-8436-d52879d790f8",
   "metadata": {},
   "outputs": [
    {
     "name": "stdout",
     "output_type": "stream",
     "text": [
      "Negi\n"
     ]
    }
   ],
   "source": [
    "print(emp1.last)"
   ]
  },
  {
   "cell_type": "code",
   "execution_count": 32,
   "id": "4bd494a7-3ad0-4e68-aa30-863aabd9be24",
   "metadata": {},
   "outputs": [],
   "source": [
    "class Employee():\n",
    "    \n",
    "    def __init__(self,first,last,salary):\n",
    "        self.first = first    # => emp1.first = 'Ravi'\n",
    "        self.last = last\n",
    "        self.salary = salary\n",
    "\n",
    "    def show(self):\n",
    "        print(self.first+ ' '+'OK')\n"
   ]
  },
  {
   "cell_type": "code",
   "execution_count": 33,
   "id": "d2bd2262-ceea-498a-83c8-2e94d4a181a4",
   "metadata": {},
   "outputs": [],
   "source": [
    "emp1 = Employee('Ravi','Tyagi',55000)\n",
    "emp2 = Employee('Neha','Kulkarni',54000)"
   ]
  },
  {
   "cell_type": "code",
   "execution_count": 15,
   "id": "70a03d2d-50e1-454f-a3ad-3db2bc73e6b7",
   "metadata": {},
   "outputs": [
    {
     "data": {
      "text/plain": [
       "'Ravi'"
      ]
     },
     "execution_count": 15,
     "metadata": {},
     "output_type": "execute_result"
    }
   ],
   "source": [
    "emp1.first"
   ]
  },
  {
   "cell_type": "code",
   "execution_count": 34,
   "id": "84391fcc-f521-48ef-84f9-eef2b20fd5ff",
   "metadata": {},
   "outputs": [
    {
     "name": "stdout",
     "output_type": "stream",
     "text": [
      "Ravi OK\n"
     ]
    }
   ],
   "source": [
    "emp1.show()"
   ]
  },
  {
   "cell_type": "code",
   "execution_count": 56,
   "id": "d8e66db0-9eb3-45b0-b375-360ed2678faa",
   "metadata": {},
   "outputs": [],
   "source": [
    "# Encapsulation\n",
    "\n",
    "class Employee1():\n",
    "    \n",
    "    def __init__(self,first,last,salary):\n",
    "        self.first = first    # => emp1.first = 'Ravi'\n",
    "        self.last = last\n",
    "        self.__salary = salary  # Creating a private variable\n",
    "    def display(self):\n",
    "        print('salary is',self.__salary)"
   ]
  },
  {
   "cell_type": "code",
   "execution_count": 58,
   "id": "2a08c31b-8562-4c91-a43d-cdf981c86cef",
   "metadata": {},
   "outputs": [],
   "source": [
    "emp3 = Employee1('Akash','Tyagi',30000)\n",
    "emp4 = Employee1('Pranav','Patil',32000)"
   ]
  },
  {
   "cell_type": "code",
   "execution_count": 40,
   "id": "b25f86dd-eb67-464d-a0d0-0046633b632d",
   "metadata": {},
   "outputs": [
    {
     "data": {
      "text/plain": [
       "'Akash'"
      ]
     },
     "execution_count": 40,
     "metadata": {},
     "output_type": "execute_result"
    }
   ],
   "source": [
    "emp3.first"
   ]
  },
  {
   "cell_type": "code",
   "execution_count": 41,
   "id": "b2f3c0c7-ac7e-4d0c-ae0a-8912e84c6d52",
   "metadata": {},
   "outputs": [
    {
     "ename": "AttributeError",
     "evalue": "'Employee1' object has no attribute 'salary'",
     "output_type": "error",
     "traceback": [
      "\u001b[1;31m---------------------------------------------------------------------------\u001b[0m",
      "\u001b[1;31mAttributeError\u001b[0m                            Traceback (most recent call last)",
      "Cell \u001b[1;32mIn[41], line 1\u001b[0m\n\u001b[1;32m----> 1\u001b[0m emp3\u001b[38;5;241m.\u001b[39msalary\n",
      "\u001b[1;31mAttributeError\u001b[0m: 'Employee1' object has no attribute 'salary'"
     ]
    }
   ],
   "source": [
    "emp3.salary # salary is a private variable so, no one will know the salary"
   ]
  },
  {
   "cell_type": "code",
   "execution_count": 59,
   "id": "1cef8cdd-dc42-4f3c-928e-464678525152",
   "metadata": {},
   "outputs": [
    {
     "name": "stdout",
     "output_type": "stream",
     "text": [
      "salary is 30000\n"
     ]
    }
   ],
   "source": [
    "emp3.display()"
   ]
  },
  {
   "cell_type": "code",
   "execution_count": 60,
   "id": "d27a66e6-e6da-4f30-8ffe-136eaebf5660",
   "metadata": {},
   "outputs": [],
   "source": [
    "# Inheritance\n",
    "\n",
    "class Employee2(Employee1):\n",
    "    pass"
   ]
  },
  {
   "cell_type": "code",
   "execution_count": 61,
   "id": "a1b8e9b5-a9b9-4ddb-a595-57de295413aa",
   "metadata": {},
   "outputs": [],
   "source": [
    "emp5 = Employee2('Aniket','Rana',60000)"
   ]
  },
  {
   "cell_type": "code",
   "execution_count": 64,
   "id": "74d59417-837d-4726-860d-a725a3fd9b97",
   "metadata": {},
   "outputs": [
    {
     "name": "stdout",
     "output_type": "stream",
     "text": [
      "salary is 60000\n"
     ]
    }
   ],
   "source": [
    "emp5.display()"
   ]
  },
  {
   "cell_type": "code",
   "execution_count": 84,
   "id": "e3a94552-fa9c-4f65-a4fa-0812b3e15ccf",
   "metadata": {},
   "outputs": [],
   "source": [
    "'''\n",
    "Create a class called person\n",
    "take in name,age,hobby....[make use of default paramaeters also]\n",
    "create multiple objects\n",
    "create a method to display all the info\n",
    "'''\n",
    "\n",
    "class Person():\n",
    "    def __init__(self,n,a = 22):\n",
    "       self.name = n    # => emp1.first = 'Ravi'\n",
    "       self.age = a\n",
    "    \n",
    "    def info(self):\n",
    "        print('Person name',self.name, 'Age:',self.age)\n"
   ]
  },
  {
   "cell_type": "code",
   "execution_count": 86,
   "id": "1b89f6f5-aa4e-4431-a2a3-e97adafaddfa",
   "metadata": {},
   "outputs": [],
   "source": [
    "person1 = ('Pranali',17)\n",
    "person2 = ('Sneha',)"
   ]
  },
  {
   "cell_type": "code",
   "execution_count": 87,
   "id": "b96397e2-2855-49b3-866b-867d5d4193ed",
   "metadata": {},
   "outputs": [
    {
     "ename": "AttributeError",
     "evalue": "'tuple' object has no attribute 'info'",
     "output_type": "error",
     "traceback": [
      "\u001b[1;31m---------------------------------------------------------------------------\u001b[0m",
      "\u001b[1;31mAttributeError\u001b[0m                            Traceback (most recent call last)",
      "Cell \u001b[1;32mIn[87], line 1\u001b[0m\n\u001b[1;32m----> 1\u001b[0m person1\u001b[38;5;241m.\u001b[39minfo()\n",
      "\u001b[1;31mAttributeError\u001b[0m: 'tuple' object has no attribute 'info'"
     ]
    }
   ],
   "source": [
    "person1.info()"
   ]
  },
  {
   "cell_type": "code",
   "execution_count": null,
   "id": "7cf84306-983e-424a-a276-e31bfe56e3ef",
   "metadata": {},
   "outputs": [],
   "source": []
  }
 ],
 "metadata": {
  "kernelspec": {
   "display_name": "Python 3 (ipykernel)",
   "language": "python",
   "name": "python3"
  },
  "language_info": {
   "codemirror_mode": {
    "name": "ipython",
    "version": 3
   },
   "file_extension": ".py",
   "mimetype": "text/x-python",
   "name": "python",
   "nbconvert_exporter": "python",
   "pygments_lexer": "ipython3",
   "version": "3.11.7"
  }
 },
 "nbformat": 4,
 "nbformat_minor": 5
}
