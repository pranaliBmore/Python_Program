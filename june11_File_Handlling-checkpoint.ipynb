{
 "cells": [
  {
   "cell_type": "markdown",
   "id": "c154f4ed-d62f-4b24-bcf7-da32a41b1d72",
   "metadata": {},
   "source": [
    "### File Handlling in python"
   ]
  },
  {
   "cell_type": "code",
   "execution_count": 1,
   "id": "7b80f7e3-169d-40bb-918d-ce5879d8089d",
   "metadata": {},
   "outputs": [],
   "source": [
    "f = open('maha.txt', 'r') # F is file handeller variable"
   ]
  },
  {
   "cell_type": "code",
   "execution_count": 2,
   "id": "4e751213-44a5-4769-af38-efd993b6019f",
   "metadata": {},
   "outputs": [
    {
     "data": {
      "text/plain": [
       "\"Maharashtra is one of the most industrialised states in India. The state's capital, Mumbai, is India's financial and commercial capital.[24] India's largest stock exchange Bombay Stock Exchange, the oldest in Asia, is located in the city, as is National Stock Exchange, which is the second largest stock exchange in India and one of world's largest derivatives exchanges. The state has played a significant role in the country's social and political life and is widely considered a leader in terms of agricultural and industrial production, trade and transport, and education.[25] Maharashtra is the ninth-highest ranking among Indian states in the human development index.\""
      ]
     },
     "execution_count": 2,
     "metadata": {},
     "output_type": "execute_result"
    }
   ],
   "source": [
    "f.read()"
   ]
  },
  {
   "cell_type": "code",
   "execution_count": 3,
   "id": "057105b0-7e9f-41ff-b5fb-9c04231b0135",
   "metadata": {},
   "outputs": [
    {
     "name": "stdout",
     "output_type": "stream",
     "text": [
      "maha.txt\n"
     ]
    }
   ],
   "source": [
    "print(f.name)"
   ]
  },
  {
   "cell_type": "code",
   "execution_count": 4,
   "id": "94c93480-83d8-4901-920f-88aa976a5eae",
   "metadata": {},
   "outputs": [
    {
     "name": "stdout",
     "output_type": "stream",
     "text": [
      "r\n"
     ]
    }
   ],
   "source": [
    "print(f.mode)"
   ]
  },
  {
   "cell_type": "code",
   "execution_count": 5,
   "id": "b71bb57b-70c7-4bc0-8f07-0ace69eb23af",
   "metadata": {},
   "outputs": [
    {
     "name": "stdout",
     "output_type": "stream",
     "text": [
      "False\n"
     ]
    }
   ],
   "source": [
    "print(f.closed)"
   ]
  },
  {
   "cell_type": "code",
   "execution_count": 6,
   "id": "bbd94cd0-c064-4477-b69b-60a189618475",
   "metadata": {},
   "outputs": [],
   "source": [
    "f.close()"
   ]
  },
  {
   "cell_type": "code",
   "execution_count": 7,
   "id": "4389ec9e-7aab-4168-bad8-0a80eb83dcc7",
   "metadata": {},
   "outputs": [
    {
     "name": "stdout",
     "output_type": "stream",
     "text": [
      "True\n"
     ]
    }
   ],
   "source": [
    "print(f.closed)"
   ]
  },
  {
   "cell_type": "code",
   "execution_count": 9,
   "id": "6dd74ec2-de36-414f-a372-70bbedb1613b",
   "metadata": {},
   "outputs": [
    {
     "data": {
      "text/plain": [
       "<_io.TextIOWrapper name='maha.txt' mode='r' encoding='cp1252'>"
      ]
     },
     "execution_count": 9,
     "metadata": {},
     "output_type": "execute_result"
    }
   ],
   "source": [
    "f #variable is accesesible but data is not accesesible"
   ]
  },
  {
   "cell_type": "code",
   "execution_count": 10,
   "id": "2dd6b135-e093-491b-a80f-c0b42387ea5a",
   "metadata": {},
   "outputs": [],
   "source": [
    "with open('maha.txt','r') as f:\n",
    "    pass  # opening with context manager it is easy,atuomatically colse our file"
   ]
  },
  {
   "cell_type": "code",
   "execution_count": 11,
   "id": "f8f09a7b-cee8-47a7-a9b7-b0fe1c2219db",
   "metadata": {},
   "outputs": [
    {
     "name": "stdout",
     "output_type": "stream",
     "text": [
      "True\n"
     ]
    }
   ],
   "source": [
    "print(f.closed)"
   ]
  },
  {
   "cell_type": "code",
   "execution_count": 12,
   "id": "70b0239c-8a64-4954-a83b-452d797f2dbf",
   "metadata": {},
   "outputs": [
    {
     "name": "stdout",
     "output_type": "stream",
     "text": [
      "Maharashtra is one of the most industrialised states in India. The state's capital, Mumbai, is India's financial and commercial capital.[24] India's largest stock exchange Bombay Stock Exchange, the oldest in Asia, is located in the city, as is National Stock Exchange, which is the second largest stock exchange in India and one of world's largest derivatives exchanges. The state has played a significant role in the country's social and political life and is widely considered a leader in terms of agricultural and industrial production, trade and transport, and education.[25] Maharashtra is the ninth-highest ranking among Indian states in the human development index.\n"
     ]
    }
   ],
   "source": [
    "with open('maha.txt','r') as f:\n",
    "    content = f.read()\n",
    "    print(content)"
   ]
  },
  {
   "cell_type": "code",
   "execution_count": 13,
   "id": "9028c632-d972-449f-8454-0694c3b75829",
   "metadata": {},
   "outputs": [
    {
     "name": "stdout",
     "output_type": "stream",
     "text": [
      "['This is 1st line.\\n', 'This is 2nd line.\\n', 'This is 3rd line.\\n', 'This is 4th line.\\n', 'This is 5th line.']\n"
     ]
    }
   ],
   "source": [
    "with open('test1.txt','r') as f:\n",
    "    content = f.readlines() # it fetch the data line by line\n",
    "    print(content)"
   ]
  },
  {
   "cell_type": "code",
   "execution_count": 14,
   "id": "db0e6947-3951-4e67-87e0-eebf46e320b2",
   "metadata": {},
   "outputs": [
    {
     "name": "stdout",
     "output_type": "stream",
     "text": [
      "This is 1st line.\n",
      "\n"
     ]
    }
   ],
   "source": [
    "with open('test1.txt','r') as f:\n",
    "    content = f.readline() # This will read only 1st line.\n",
    "    print(content)"
   ]
  },
  {
   "cell_type": "code",
   "execution_count": 31,
   "id": "94802c19-34a8-4bd7-af3c-2fa95cb13e93",
   "metadata": {},
   "outputs": [
    {
     "name": "stdout",
     "output_type": "stream",
     "text": [
      "This is 1st line.\n",
      "This is 2nd line.\n"
     ]
    }
   ],
   "source": [
    "with open('test1.txt','r') as f:\n",
    "    content = f.readline() # it fetch the data line by line\n",
    "    print(content, end = \"\")\n",
    "\n",
    "    content = f.readline() # This will move to the next line \n",
    "    print(content, end = \"\")"
   ]
  },
  {
   "cell_type": "code",
   "execution_count": 29,
   "id": "bd8e23e0-6e3d-44f0-ad26-d42204ccdcec",
   "metadata": {},
   "outputs": [
    {
     "name": "stdout",
     "output_type": "stream",
     "text": [
      "This is 1st line.\n",
      "This is 2nd line.\n",
      "This is 3rd line.\n",
      "This is 4th line.\n",
      "This is 5th line."
     ]
    }
   ],
   "source": [
    "# use loop\n",
    "\n",
    "with open('test1.txt','r') as f:\n",
    "    for line in f:\n",
    "        print(line, end = \"\")"
   ]
  },
  {
   "cell_type": "code",
   "execution_count": 32,
   "id": "4172ee5e-a700-45e3-aefe-2135cf45b85e",
   "metadata": {},
   "outputs": [
    {
     "name": "stdout",
     "output_type": "stream",
     "text": [
      "This \n"
     ]
    }
   ],
   "source": [
    "with open('test1.txt','r') as f:\n",
    "    content = f.read(5)\n",
    "    print(content)"
   ]
  },
  {
   "cell_type": "code",
   "execution_count": 40,
   "id": "4a8049f8-ca87-4a4f-9a7a-56f545015f2a",
   "metadata": {
    "scrolled": true
   },
   "outputs": [
    {
     "name": "stdout",
     "output_type": "stream",
     "text": [
      "This is 1st line.\n",
      "This is 2nd line.\n",
      "This is 3rd line.\n",
      "This is 4th line.\n",
      "This is 5th line."
     ]
    }
   ],
   "source": [
    "# use while loop\n",
    "\n",
    "with open('test1.txt','r') as f:\n",
    "    size = 5\n",
    "    content = f.read(size)\n",
    "    \n",
    "    while len(content) > 0:\n",
    "         print(content, end = '')\n",
    "         content = f.read(size)"
   ]
  },
  {
   "cell_type": "code",
   "execution_count": 42,
   "id": "3bfab737-e678-46c6-9973-35569005c5d1",
   "metadata": {},
   "outputs": [
    {
     "name": "stdout",
     "output_type": "stream",
     "text": [
      "This \n",
      "This \n"
     ]
    }
   ],
   "source": [
    "with open('test1.txt','r') as f:\n",
    "    content = f.read(5)\n",
    "    print(content)\n",
    "\n",
    "    f.seek(0)\n",
    "    \n",
    "    content = f.read(5)\n",
    "    print(content)"
   ]
  },
  {
   "cell_type": "markdown",
   "id": "c89dffaf-70a4-4b5d-ba48-20cfc04283d1",
   "metadata": {},
   "source": [
    "###Write"
   ]
  },
  {
   "cell_type": "code",
   "execution_count": 43,
   "id": "04e57535-6b7d-4dd6-9772-0de5f5bd59bb",
   "metadata": {},
   "outputs": [],
   "source": [
    "with open('test2.txt','w') as w:\n",
    "    pass"
   ]
  },
  {
   "cell_type": "code",
   "execution_count": 44,
   "id": "3dccf024-3045-4e92-ad34-788a2cb4d37c",
   "metadata": {},
   "outputs": [],
   "source": [
    "with open('test2.txt','w') as w:\n",
    "    w.write('Hii, i am learning python')"
   ]
  },
  {
   "cell_type": "code",
   "execution_count": 48,
   "id": "f0a56c1f-a367-4403-b730-40ef90d38eb1",
   "metadata": {},
   "outputs": [],
   "source": [
    "with open('test2.txt','w') as w:\n",
    "    w.write('slide')\n",
    "    w.write('glide')"
   ]
  },
  {
   "cell_type": "code",
   "execution_count": 56,
   "id": "44afe1d9-7585-42bc-9dbd-5e137ce66167",
   "metadata": {},
   "outputs": [],
   "source": [
    "with open('test2.txt','w') as w:\n",
    "    w.write('slide')\n",
    "    w.seek(0)\n",
    "    w.write('g')"
   ]
  },
  {
   "cell_type": "code",
   "execution_count": 65,
   "id": "2fdf03ca-8cec-4003-b518-034165edc3cf",
   "metadata": {},
   "outputs": [],
   "source": [
    "with open('test1.txt','r') as r:\n",
    "    with open('second.txt','w') as w: \n",
    "        for line in r: \n",
    "            w.write(line)"
   ]
  },
  {
   "cell_type": "code",
   "execution_count": 68,
   "id": "6221d65f-3d52-4093-800d-6712744ba3d8",
   "metadata": {},
   "outputs": [],
   "source": [
    "with open('second_copy.txt','w') as w:\n",
    "    with open('test1.txt','r') as r:\n",
    "        for line in r: \n",
    "            w.write(line)"
   ]
  },
  {
   "cell_type": "code",
   "execution_count": null,
   "id": "c9e3cbf4-3df9-4ca1-a42b-5e9e405ca0ea",
   "metadata": {},
   "outputs": [],
   "source": [
    "# image\n",
    "\n",
    "with open('Wallpaper1.jpg','rb') as rf:\n",
    "    with open('Wallpaper_copy','wb') as wb:\n",
    "        "
   ]
  }
 ],
 "metadata": {
  "kernelspec": {
   "display_name": "Python 3 (ipykernel)",
   "language": "python",
   "name": "python3"
  },
  "language_info": {
   "codemirror_mode": {
    "name": "ipython",
    "version": 3
   },
   "file_extension": ".py",
   "mimetype": "text/x-python",
   "name": "python",
   "nbconvert_exporter": "python",
   "pygments_lexer": "ipython3",
   "version": "3.11.7"
  }
 },
 "nbformat": 4,
 "nbformat_minor": 5
}
