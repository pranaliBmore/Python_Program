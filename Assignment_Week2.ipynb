{
 "cells": [
  {
   "cell_type": "code",
   "execution_count": null,
   "id": "7193bbf1-6806-40a0-8f2f-149813cbbe00",
   "metadata": {},
   "outputs": [],
   "source": [
    "'''\n",
    "Q.1\n",
    "Create a package named 'cricket' which will contain modules named batsman and bowler.\n",
    "Create following functions in respective modules.\n",
    "Import the package and call all these functions in your program batsman:findaverage(runs, matches), \n",
    "strikerate(runs, balls) bowler: findavg(runs, wickets),economyrate(overs, runs).\n",
    "'''"
   ]
  },
  {
   "cell_type": "code",
   "execution_count": 24,
   "id": "d9a29497-1996-4a31-b1c2-de0f58b1e566",
   "metadata": {},
   "outputs": [],
   "source": [
    "from cricket import batsman, bowler\n",
    "\n",
    "def main():\n",
    "    # Batsman \n",
    "    runs_batsman = int(input(\"Enter the batsman runs:\"))\n",
    "    matches_batsman = int(input(\"Enter the number of matches:\"))\n",
    "    balls_faced = int(input(\"Enter the Total balls:\"))\n",
    "    \n",
    "    # Bowler \n",
    "    runs_bowler = int(input(\"Enter the bowler runs:\"))\n",
    "    wickets_taken = int(input(\"Enter how many wickets are taken:\"))\n",
    "    overs_balled = int(input(\"Enter the overs:\"))\n",
    "\n",
    "    # Batsman calculations\n",
    "    avg_batsman = batsman.findaverage(runs_batsman, matches_batsman)\n",
    "    sr_batsman = batsman.strikerate(runs_batsman, balls_faced)\n",
    "\n",
    "    # Bowler calculations\n",
    "    avg_bowler = bowler.findavg(runs_bowler, wickets_taken)\n",
    "    economy_bowler = bowler.economyrate(overs_balled, runs_bowler)\n",
    "\n",
    "    # Print results\n",
    "    print(f\"Batsman's average:\",avg_batsman)\n",
    "    print(f\"Batsman's strike rate:\",sr_batsman)\n",
    "    print(f\"Bowler's average:\",avg_bowler)\n",
    "    print(f\"Bowler's economy rate:\",economy_bowler)"
   ]
  },
  {
   "cell_type": "code",
   "execution_count": 23,
   "id": "13bc2e09-629e-44b0-abc1-78124d1b0c4d",
   "metadata": {},
   "outputs": [
    {
     "name": "stdin",
     "output_type": "stream",
     "text": [
      "Enter the batsman runs: 30\n",
      "Enter the number of matches: 2\n",
      "Enter the Total balls: 12\n",
      "Enter the bowler runs: 17\n",
      "Enter how many wickets are taken: 5\n",
      "Enter the overs: 5\n"
     ]
    },
    {
     "name": "stdout",
     "output_type": "stream",
     "text": [
      "Batsman's average: 15.0\n",
      "Batsman's strike rate: 250.0\n",
      "Bowler's average: 3.4\n",
      "Bowler's economy rate: 3.4\n"
     ]
    }
   ],
   "source": [
    "main()"
   ]
  },
  {
   "cell_type": "code",
   "execution_count": 47,
   "id": "01007363-870e-4bfc-9c87-93c911b860e2",
   "metadata": {},
   "outputs": [],
   "source": [
    "'''\n",
    "Q.2\n",
    "Write a Python function to find whether the number if prime or not.\n",
    "def isPrime(num)\n",
    "'''\n",
    "def isPrime(num):\n",
    "        # If num is less than or equal to 1, it's not prime\n",
    "    if num <= 1:\n",
    "        return 'not prime'\n",
    "    # Check for factors from 2 to sqrt(num)\n",
    "    for i in range(2, int(num**0.5) + 1):\n",
    "        if num % i == 0:\n",
    "            return 'not prime'\n",
    "        else:  \n",
    "            return 'prime'"
   ]
  },
  {
   "cell_type": "code",
   "execution_count": 48,
   "id": "1bd7dc5a-0292-46a3-9b61-8ea7891ebb11",
   "metadata": {},
   "outputs": [
    {
     "data": {
      "text/plain": [
       "'prime'"
      ]
     },
     "execution_count": 48,
     "metadata": {},
     "output_type": "execute_result"
    }
   ],
   "source": [
    "isPrime(11)"
   ]
  },
  {
   "cell_type": "code",
   "execution_count": null,
   "id": "6599104b-5600-4869-b5d3-1a79c54d8557",
   "metadata": {},
   "outputs": [],
   "source": [
    "'''\n",
    "Q.3\n",
    "Write a function is_palindrome(string) that takes a string as input and \n",
    "returns true if the string reads the same backward as forward(e.g..,\"racecar\" is a paladrome)\n",
    "'''"
   ]
  },
  {
   "cell_type": "code",
   "execution_count": 68,
   "id": "d220d47f-0c09-47b6-9fea-e7d193dc3003",
   "metadata": {},
   "outputs": [],
   "source": [
    "def is_palinrome(string):          #Function with parameter\n",
    "    if(string == string[::-1]):    #Slicing \n",
    "        return 'The string is a palindrome'\n",
    "    else:\n",
    "        return 'This is not  palindrome'"
   ]
  },
  {
   "cell_type": "code",
   "execution_count": 69,
   "id": "36fc912e-4cce-4a49-85ff-a7dcdee72143",
   "metadata": {},
   "outputs": [
    {
     "data": {
      "text/plain": [
       "'This is not  palindrome'"
      ]
     },
     "execution_count": 69,
     "metadata": {},
     "output_type": "execute_result"
    }
   ],
   "source": [
    "is_palinrome('pranali')"
   ]
  },
  {
   "cell_type": "code",
   "execution_count": null,
   "id": "63501699-4f14-497a-9c68-bdb5bc0426df",
   "metadata": {},
   "outputs": [],
   "source": [
    "'''\n",
    "Q.4\n",
    "Write a function reverse_list(data) that takes a list as input and \n",
    "returns a new list with the elements in reverse order\n",
    "(e.g..,, reverse_list([1, 2, 3])returns([3, 2, 1]).\n",
    "'''"
   ]
  },
  {
   "cell_type": "code",
   "execution_count": 75,
   "id": "ca6c5c1f-38fd-436f-883e-af74a61d653c",
   "metadata": {},
   "outputs": [],
   "source": [
    "def reverse_list(data):              #Function with parameter\n",
    "    return data[::-1]                #Slicing\n",
    "   # reverse_list(original_list)      #Data transferred to the Reverse_List\n",
    "   # print('original list', original_list)\n",
    "   # print(' reverse list', reverse_list)"
   ]
  },
  {
   "cell_type": "code",
   "execution_count": 78,
   "id": "6b438b90-160e-4d08-9487-33ca453ab252",
   "metadata": {},
   "outputs": [
    {
     "data": {
      "text/plain": [
       "[78, 7, 56, 3]"
      ]
     },
     "execution_count": 78,
     "metadata": {},
     "output_type": "execute_result"
    }
   ],
   "source": [
    "reverse_list([3,56,7,78])"
   ]
  },
  {
   "cell_type": "code",
   "execution_count": null,
   "id": "90dbb865-9d60-423c-b500-ed70f53e6f6d",
   "metadata": {},
   "outputs": [],
   "source": [
    "'''\n",
    "Q.5\n",
    "Write a function write_file(filename, content) that takes a filename and \n",
    "content as input and writes the content to the specified file.\n",
    "'''"
   ]
  },
  {
   "cell_type": "code",
   "execution_count": 79,
   "id": "c2736d29-4033-4e26-bf75-229bfddcafe7",
   "metadata": {},
   "outputs": [],
   "source": [
    "def write_file(filename, content):\n",
    "    #filename = str(input('Enter the file name'))\n",
    "    #content = str(input('Enter the file content'))\n",
    "    with open(filename, 'w') as file:\n",
    "        file.write(content)"
   ]
  },
  {
   "cell_type": "code",
   "execution_count": 80,
   "id": "c41241da-b65b-45bc-879a-fb3bbeb961fa",
   "metadata": {},
   "outputs": [],
   "source": [
    "write_file('Demo.text', 'This  is the content of file')"
   ]
  },
  {
   "cell_type": "code",
   "execution_count": null,
   "id": "632f9827-dd02-439c-93cb-40789273a0a7",
   "metadata": {},
   "outputs": [],
   "source": [
    "'''\n",
    "Q.6\n",
    "Write a function copy_file(source_filename, destination_filename) that\n",
    "takes the source and destination filenames as input and copies the content of the source\n",
    "file to the destination file. Handle cases where the source file doesn't exist.\n",
    "'''"
   ]
  },
  {
   "cell_type": "code",
   "execution_count": 12,
   "id": "359f2bf5-2bf7-4461-9eef-2ea7135d05b4",
   "metadata": {},
   "outputs": [],
   "source": [
    "def copy_file(source_filename, destination_filename):\n",
    "    #source_filename = string(input('Enter the source file name'))\n",
    "    #destination_filename = string(input('Enter the destination_filename'))\n",
    "   try:\n",
    "       with open(source_filename, 'r') as source_file:\n",
    "           content = source_file.read()\n",
    "           with open(destination_filename, 'w') as destination_file:\n",
    "               destination_file.write(content)\n",
    "               print('file content copied from source_filename to destination_filename ')\n",
    "   except FileNotFoundError:\n",
    "       print('The  source file does not exist')\n",
    "   except Exception as e:\n",
    "       print('An error occurre',e)"
   ]
  },
  {
   "cell_type": "code",
   "execution_count": 16,
   "id": "1018ed9b-6a96-4b7d-b28e-ed7cb24c7968",
   "metadata": {},
   "outputs": [
    {
     "name": "stdout",
     "output_type": "stream",
     "text": [
      "file content copied from source_filename to destination_filename \n"
     ]
    }
   ],
   "source": [
    "copy_file('test2.txt','des.txt' )"
   ]
  },
  {
   "cell_type": "code",
   "execution_count": null,
   "id": "e69d2794-de19-49f7-aaf9-1c1bde2f4498",
   "metadata": {},
   "outputs": [],
   "source": [
    "'''\n",
    "Q.7\n",
    "Implement a function to calculate the dot product of two NumPy arrays.\n",
    "'''"
   ]
  },
  {
   "cell_type": "code",
   "execution_count": 10,
   "id": "e6fc3e2a-f1a0-4b69-995d-d218541afbd5",
   "metadata": {},
   "outputs": [],
   "source": [
    "import numpy as np"
   ]
  },
  {
   "cell_type": "code",
   "execution_count": 15,
   "id": "efab80d0-38a9-49e8-a1b9-72390c958bde",
   "metadata": {},
   "outputs": [],
   "source": [
    "def calculate_dot_product(array1, array2):\n",
    "    return np.dot(array1, array2)\n",
    "    result = calculate_dot_product(array1, array2)\n",
    "    print('Dot product:', result)\n"
   ]
  },
  {
   "cell_type": "code",
   "execution_count": 16,
   "id": "e002b988-277e-4832-bdfb-2aa7575b6bce",
   "metadata": {},
   "outputs": [
    {
     "data": {
      "text/plain": [
       "231"
      ]
     },
     "execution_count": 16,
     "metadata": {},
     "output_type": "execute_result"
    }
   ],
   "source": [
    "calculate_dot_product(([25+8]),([3+4]))"
   ]
  },
  {
   "cell_type": "code",
   "execution_count": null,
   "id": "f4939d98-edd0-48ea-a97e-964be5f263ba",
   "metadata": {},
   "outputs": [],
   "source": [
    "'''\n",
    "Q.8\n",
    "Implement a GUI with a radio button selection for choosing a favorite color (e.g., red,\n",
    "green, blue). Change the background color of the window based on the selected radio\n",
    "button.\n",
    "'''"
   ]
  },
  {
   "cell_type": "code",
   "execution_count": 17,
   "id": "fb15d95b-87b9-47ea-84b1-38441f16cbeb",
   "metadata": {},
   "outputs": [],
   "source": [
    "import tkinter as tk\n",
    "from tkinter.ttk import * "
   ]
  },
  {
   "cell_type": "code",
   "execution_count": 23,
   "id": "da24740f-afb8-4aef-9454-61f704d718d5",
   "metadata": {},
   "outputs": [],
   "source": [
    "window = tk.Tk()\n",
    "window.title(\"Radio button\")\n",
    "window.geometry('800x800')\n",
    "\n",
    "def change_color():\n",
    "\n",
    "    choose_color = color_var.get()\n",
    "    \n",
    "    if choose_color == \"Pink\":\n",
    "        window.configure(bg=\"Pink\")\n",
    "    elif choose_color == \"Grey\":\n",
    "        window.configure(bg=\"Grey\")\n",
    "    elif choose_color == \"Yellow\":\n",
    "        window.configure(bg=\"Yellow\")\n",
    "\n",
    "color_var = tk.StringVar()\n",
    "\n",
    "#b1 = tk.Button(window, text ='Use_Radio_Button',font = ('Times New Roman',10),cursor = 'hand2',command = change_color).place(x = 200, y = 100)\n",
    "lab = tk.Label(window,text = 'Use_Radio_Button',font = ('Broadway',13)).place(x=200,y=200)\n",
    "\n",
    "pink_radio = tk.Radiobutton(window, text=\"Pink\", variable=color_var, value=\"Pink\", command=change_color)\n",
    "pink_radio.place(x=200,y=250)\n",
    "\n",
    "grey_radio = tk.Radiobutton(window, text=\"Grey\", variable=color_var, value=\"Grey\", command=change_color)\n",
    "grey_radio.place(x=200,y=300)\n",
    "\n",
    "yellow_radio = tk.Radiobutton(window, text=\"Yellow\", variable=color_var, value=\"Yellow\", command=change_color)\n",
    "yellow_radio.place(x=200,y=350)\n",
    "                \n",
    "window.mainloop()"
   ]
  },
  {
   "cell_type": "code",
   "execution_count": null,
   "id": "9f113128-4aa2-4034-a5ba-4aeb87f5f487",
   "metadata": {},
   "outputs": [],
   "source": [
    "'''\n",
    "Q.9\n",
    "Design a currency converter GUI. Allow users to enter an amount and select the\n",
    "currencies they want to convert between (e.g., USD, EUR). Display the converted\n",
    "amount in the selected currency.\n",
    "'''"
   ]
  },
  {
   "cell_type": "code",
   "execution_count": 80,
   "id": "e28b704b-e21d-4cae-a06b-65139413a301",
   "metadata": {},
   "outputs": [],
   "source": [
    "import tkinter as tk\n",
    "from tkinter import ttk"
   ]
  },
  {
   "cell_type": "code",
   "execution_count": 92,
   "id": "6ffc8e1f-8241-4cfe-832d-264690e962eb",
   "metadata": {},
   "outputs": [],
   "source": [
    "# Initialize tkinter\n",
    "app = tk.Tk()\n",
    "app.title('CURRENCY CONVERTER')\n",
    "app.geometry('700x500')\n",
    "app.configure(bg = 'pink')\n",
    "\n",
    "\n",
    "# Predefined conversion rates (for demonstration purposes)\n",
    "conversion_rates = {\n",
    "    'Rupees': {'Rupees': 1.0, 'doller': 85.56, 'EUR': 0.75},\n",
    "    'EUR': {'Rupees': 1.18, 'EUR': 1.0, 'dolller': 0.88},\n",
    "    'Doller': {'Ruppes': 1.33, 'EUR': 1.14, 'doller': 1.0},\n",
    "}\n",
    "\n",
    "\n",
    "# Function to perform conversion\n",
    "def currency_converter():\n",
    "    try:\n",
    "        amount = float(amount_entry.get())\n",
    "        from_currency = from_currency_var.get()\n",
    "        to_currency = to_currency_var.get()\n",
    "\n",
    "        if from_currency == to_currency:\n",
    "            converted_amount = amount\n",
    "        else:\n",
    "            conversion_rate = conversion_rates[from_currency][to_currency]\n",
    "            converted_amount = amount * conversion_rate\n",
    "\n",
    "        result_label.config(text=f\"Converted Amount: {converted_amount:.2f} {to_currency}\")\n",
    "    except ValueError:\n",
    "        result_label.config(text=\"Please enter a valid number\")\n",
    "\n",
    "# Create labels\n",
    "amount_label = ttk.Label(app, text=\"Enter Amount:\",font = ('Times New Roman',10))\n",
    "amount_label.place(x=100,y = 100)\n",
    "result_label = ttk.Label(app, text=\"\",font = ('Times New Roman',10))\n",
    "result_label.place(x=100,y = 300)\n",
    "\n",
    "# Create entry for amount\n",
    "amount_entry = ttk.Entry(app, width=20)\n",
    "amount_entry.place(x = 200,y = 100)\n",
    "\n",
    "# Create dropdowns for selecting currencies\n",
    "currencies = ['Rupees', 'EUR', 'Doller']  # Add more currencies as needed\n",
    "from_currency_var = tk.StringVar()\n",
    "to_currency_var = tk.StringVar()\n",
    "\n",
    "from_currency_label = ttk.Label(app, text=\"From Currency:\",font = ('Times New Roman',10))\n",
    "from_currency_label.place(x=100,y = 150)\n",
    "\n",
    "from_currency_dropdown = ttk.Combobox(app, textvariable=from_currency_var, values=currencies)\n",
    "from_currency_dropdown.place(x=200,y = 150)\n",
    "from_currency_dropdown.current(0)  # Set default value\n",
    "\n",
    "to_currency_label = ttk.Label(app, text=\"To Currency:\",font = ('Times New Roman',10))\n",
    "to_currency_label.place(x=400,y = 150)\n",
    "\n",
    "to_currency_dropdown = ttk.Combobox(app, textvariable=to_currency_var, values=currencies)\n",
    "to_currency_dropdown.place(x=500,y = 150)\n",
    "to_currency_dropdown.current(1)  # Set default value\n",
    "\n",
    "# Create convert button\n",
    "convert_button = ttk.Button(app, text=\"Convert\",command=convert_currency)\n",
    "convert_button.place(x=350,y = 200)\n",
    "\n",
    "# Start the GUI main loop\n",
    "app.mainloop()"
   ]
  },
  {
   "cell_type": "code",
   "execution_count": null,
   "id": "dbc9e065-56c4-484e-80e4-fbf8bac5846f",
   "metadata": {},
   "outputs": [],
   "source": []
  }
 ],
 "metadata": {
  "kernelspec": {
   "display_name": "Python 3 (ipykernel)",
   "language": "python",
   "name": "python3"
  },
  "language_info": {
   "codemirror_mode": {
    "name": "ipython",
    "version": 3
   },
   "file_extension": ".py",
   "mimetype": "text/x-python",
   "name": "python",
   "nbconvert_exporter": "python",
   "pygments_lexer": "ipython3",
   "version": "3.11.7"
  }
 },
 "nbformat": 4,
 "nbformat_minor": 5
}
