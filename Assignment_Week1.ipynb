{
 "cells": [
  {
   "cell_type": "code",
   "execution_count": 8,
   "id": "88585a33-65b4-43dc-bd0a-29d249a48c5a",
   "metadata": {},
   "outputs": [
    {
     "name": "stdin",
     "output_type": "stream",
     "text": [
      "Enter the number of Days: 300\n"
     ]
    },
    {
     "name": "stdout",
     "output_type": "stream",
     "text": [
      "Conversion is 0.821917808219178 : 42.857142857142854 : 300\n"
     ]
    }
   ],
   "source": [
    "'''Q.1\n",
    "Write a program to convert specified days into years, weeks and days.\n",
    "Take user input.\n",
    "Note: Ignore leap year\n",
    "''';\n",
    "\n",
    "days = int(input('Enter the number of Days:'))\n",
    "Years = days / 365\n",
    "weeks = (days % 365)/ 7\n",
    "print('Conversion is', Years,':',weeks,':',days)"
   ]
  },
  {
   "cell_type": "code",
   "execution_count": 2,
   "id": "91c06ad4-8132-4cd2-812a-9bfd84749192",
   "metadata": {},
   "outputs": [
    {
     "name": "stdin",
     "output_type": "stream",
     "text": [
      "Enter Basic_Salary of employee: 95029\n"
     ]
    },
    {
     "name": "stdout",
     "output_type": "stream",
     "text": [
      "Gross_Salary: 218566.7\n"
     ]
    }
   ],
   "source": [
    "'''Q.2\n",
    "Write a python program to input basic Python salary of an employee and \n",
    "calculate its Gross salary according to following:\n",
    "Basic Salary <= 10000: HRA = 20%, DA = 80%\n",
    "Basic Salary <= 20000: HRA = 30%, DA = 90%\n",
    "Basic Salary  > 20000: HRA = 35%, DA = 95%\n",
    "'''\n",
    "Basic_Salary = int(input('Enter Basic_Salary of employee:'))\n",
    "if Basic_Salary <= 10000:\n",
    "    HRA = (Basic_Salary*20)/100\n",
    "    DA = (Basic_Salary*80)/100\n",
    "    Gross_Salary = Basic_Salary + HRA + DA\n",
    "    print('Gross_Salary:',Gross_Salary)\n",
    "elif Basic_Salary <= 20000:\n",
    "    HRA = (Basic_Salary*30)/100\n",
    "    DA = (Basic_Salary*90)/100\n",
    "    Gross_Salary = Basic_Salary + HRA + DA\n",
    "    print('Gross_Salary:',Gross_Salary)\n",
    "else:\n",
    "    if Basic_Salary > 20000:\n",
    "        HRA = (Basic_Salary*35)/100\n",
    "        DA = (Basic_Salary*95)/100\n",
    "        Gross_Salary = Basic_Salary + HRA + DA\n",
    "        print('Gross_Salary:',Gross_Salary)\n"
   ]
  },
  {
   "cell_type": "code",
   "execution_count": 6,
   "id": "2e1d93ef-6e23-4961-83f0-ed26e8832dc9",
   "metadata": {},
   "outputs": [
    {
     "name": "stdin",
     "output_type": "stream",
     "text": [
      "Enter the number of units: 400\n"
     ]
    },
    {
     "name": "stdout",
     "output_type": "stream",
     "text": [
      "You're total bill is: 526.5\n"
     ]
    }
   ],
   "source": [
    "'''Q.3\n",
    "Write python programme to input electricity unit charges and \n",
    "calculate total electricity bill according to the given condition:\n",
    "For first 50 units Rs. 0.50/unit\n",
    "For next 100 units Rs. 0.75/unit\n",
    "For next 100 units Rs. 1.25/unit\n",
    "For above unit 250 Rs. 1.50/unit\n",
    "An additional surcharge of 17% is added to the bill\n",
    "'''\n",
    "units = float(input('Enter the number of units:'))\n",
    "if units <= 50:\n",
    "    bill = units*0.50 \n",
    "elif units <= 150:\n",
    "    bill = (50*0.50)+((units-50)*0.75)   \n",
    "elif units <=250:\n",
    "    bill = (50*0.50)+(100*0.75)+((units-150)*1.25)\n",
    "else:\n",
    "    bill = (50*0.50)+(100*0.75)+(100*1.25)+ ((units-250)*1.50)\n",
    "    charge =bill*0.17\n",
    "    Total_Bill = bill + charge\n",
    "    print(\"You're total bill is:\",Total_Bill)"
   ]
  },
  {
   "cell_type": "code",
   "execution_count": 4,
   "id": "c411eaab-19ce-43fc-b299-c73bdc0a71ca",
   "metadata": {},
   "outputs": [
    {
     "name": "stdin",
     "output_type": "stream",
     "text": [
      "Enter the number of rows: 5\n"
     ]
    },
    {
     "name": "stdout",
     "output_type": "stream",
     "text": [
      "1 \n",
      "2 2 \n",
      "3 3 3 \n",
      "4 4 4 4 \n",
      "5 5 5 5 5 \n"
     ]
    }
   ],
   "source": [
    "'''Q.4\n",
    "Write a Python program to print the given number patterns.\n",
    "1\n",
    "2 2\n",
    "3 3 3\n",
    "4 4 4 4\n",
    "5 5 5 5 5\n",
    "'''\n",
    "\n",
    "row=int(input('Enter the number of rows:'))\n",
    "\n",
    "for i in range(row):\n",
    "    for j in range(i+1): \n",
    "        print(i+1,end=' ')\n",
    "    print()"
   ]
  },
  {
   "cell_type": "code",
   "execution_count": 5,
   "id": "80162275-66dc-4f51-a764-02f179233c0c",
   "metadata": {},
   "outputs": [
    {
     "name": "stdin",
     "output_type": "stream",
     "text": [
      "Enter the number: 1234\n"
     ]
    },
    {
     "name": "stdout",
     "output_type": "stream",
     "text": [
      "Product of digits is: 24\n"
     ]
    }
   ],
   "source": [
    "'''Q.5\n",
    "Write a python program to calculate product of digits of a number.\n",
    "Read value of n from user.\n",
    "'''\n",
    "num =int(input('Enter the number:'))\n",
    "POD = 1\n",
    "while num > 1:\n",
    "    rem = num % 10\n",
    "    POD = POD * rem\n",
    "    num = num // 10\n",
    "print('Product of digits is:',POD)"
   ]
  },
  {
   "cell_type": "code",
   "execution_count": 25,
   "id": "aecd443f-0c17-4624-a65f-578660dc0a72",
   "metadata": {},
   "outputs": [
    {
     "data": {
      "text/plain": [
       "[45, 67, 12, 'Hello', 23.45, 'World']"
      ]
     },
     "execution_count": 25,
     "metadata": {},
     "output_type": "execute_result"
    }
   ],
   "source": [
    "'''Q.6. \n",
    "Create a list of elements like: x = [45,67,12,'Hello',23.45,'World'] and\n",
    "perform following operations\n",
    "1. Extract only string values from this list.\n",
    "2. Create a new list with strings in upper case.\n",
    "3. Find the addition of integer values.\n",
    "4. Check that the value 56 is present in it or not.\n",
    "5. Print the list in reverse order.\n",
    "6. Delete the string 'Hello' from it.\n",
    "7. Insert a new value of 36 at 5th position in list.\n",
    "8. Count total number of elements in list now.\n",
    "9. Extract the values from 2nd index to 5th index.\n",
    "10. Append[34,'Pune'] to this list.\n",
    "11. Delete the last element from list.\n",
    "'''\n",
    "x = [45,67,12,'Hello',23.45,'World']\n",
    "x"
   ]
  },
  {
   "cell_type": "code",
   "execution_count": 7,
   "id": "7bd18c7b-d140-4171-8937-9541632d12a2",
   "metadata": {},
   "outputs": [
    {
     "data": {
      "text/plain": [
       "('Hello', 'World')"
      ]
     },
     "execution_count": 7,
     "metadata": {},
     "output_type": "execute_result"
    }
   ],
   "source": [
    "### 1. Extract only string values from this list.\n",
    "x[3],x[5]"
   ]
  },
  {
   "cell_type": "code",
   "execution_count": 8,
   "id": "f336d62d-5d01-4260-aa1d-14272cd80a5a",
   "metadata": {},
   "outputs": [
    {
     "name": "stdout",
     "output_type": "stream",
     "text": [
      "['Hello', 'World']\n"
     ]
    }
   ],
   "source": [
    "str = [i for i in x if isinstance(i,str)]\n",
    "print(str)"
   ]
  },
  {
   "cell_type": "code",
   "execution_count": 9,
   "id": "d499180c-a973-48ad-8143-076e23716c1c",
   "metadata": {},
   "outputs": [
    {
     "data": {
      "text/plain": [
       "['Pranali', 'Dnyaneshwari', 'Amruta', 'Sneha', 'Pranali']"
      ]
     },
     "execution_count": 9,
     "metadata": {},
     "output_type": "execute_result"
    }
   ],
   "source": [
    "### 2. Create a new list with strings in upper case.\n",
    "\n",
    "names =  ['Pranali','Dnyaneshwari','Amruta','Sneha','Pranali',]\n",
    "names"
   ]
  },
  {
   "cell_type": "code",
   "execution_count": 10,
   "id": "0da4dc17-8eb8-458f-a39a-98a040553067",
   "metadata": {},
   "outputs": [
    {
     "data": {
      "text/plain": [
       "['PRANALI', 'DNYANESHWARI', 'AMRUTA', 'SNEHA', 'PRANALI']"
      ]
     },
     "execution_count": 10,
     "metadata": {},
     "output_type": "execute_result"
    }
   ],
   "source": [
    "[n.upper() for n in names]"
   ]
  },
  {
   "cell_type": "code",
   "execution_count": 11,
   "id": "df17d42c-af21-4316-a7a3-e4fb55f170f7",
   "metadata": {},
   "outputs": [
    {
     "name": "stdout",
     "output_type": "stream",
     "text": [
      "Sum of integer values: 45\n",
      "Sum of integer values: 112\n",
      "Sum of integer values: 124\n"
     ]
    }
   ],
   "source": [
    "### 3. Find the addition of integer values.\n",
    "x = [45,67,12,'Hello',23.45,'World']\n",
    "sum = 0\n",
    "for i in x:\n",
    "    if isinstance(i,int):\n",
    "        sum += i\n",
    "        print('Sum of integer values:',sum)"
   ]
  },
  {
   "cell_type": "code",
   "execution_count": 12,
   "id": "9c79996d-2d29-4c53-9515-12575a860cb0",
   "metadata": {},
   "outputs": [
    {
     "data": {
      "text/plain": [
       "False"
      ]
     },
     "execution_count": 12,
     "metadata": {},
     "output_type": "execute_result"
    }
   ],
   "source": [
    "### 4. Check that the value 56 is present in it or not.\n",
    "56 in x"
   ]
  },
  {
   "cell_type": "code",
   "execution_count": 13,
   "id": "7f852f88-1aa5-4a8e-a1ca-6a7f8c142e84",
   "metadata": {},
   "outputs": [
    {
     "data": {
      "text/plain": [
       "[45, 67, 12, 'Hello', 23.45, 'World']"
      ]
     },
     "execution_count": 13,
     "metadata": {},
     "output_type": "execute_result"
    }
   ],
   "source": [
    "### 5. Print the list in reverse order.\n",
    "x"
   ]
  },
  {
   "cell_type": "code",
   "execution_count": 14,
   "id": "9324c299-8a55-4443-9941-79fb75ebe487",
   "metadata": {},
   "outputs": [],
   "source": [
    "x.reverse()"
   ]
  },
  {
   "cell_type": "code",
   "execution_count": 15,
   "id": "a3ae48dc-d0a0-4939-86c2-e3383322690f",
   "metadata": {},
   "outputs": [
    {
     "data": {
      "text/plain": [
       "['World', 23.45, 'Hello', 12, 67, 45]"
      ]
     },
     "execution_count": 15,
     "metadata": {},
     "output_type": "execute_result"
    }
   ],
   "source": [
    "x"
   ]
  },
  {
   "cell_type": "code",
   "execution_count": 16,
   "id": "6177f2ff-885d-4b09-ac87-f227fd6c33eb",
   "metadata": {},
   "outputs": [],
   "source": [
    "### 6. Delete the string 'Hello' from it.\n",
    "x.remove('Hello')"
   ]
  },
  {
   "cell_type": "code",
   "execution_count": 17,
   "id": "784489c3-545d-44d4-a1b0-2da67051d432",
   "metadata": {},
   "outputs": [
    {
     "data": {
      "text/plain": [
       "['World', 23.45, 12, 67, 45]"
      ]
     },
     "execution_count": 17,
     "metadata": {},
     "output_type": "execute_result"
    }
   ],
   "source": [
    "x"
   ]
  },
  {
   "cell_type": "code",
   "execution_count": 18,
   "id": "f3a73772-98db-4795-818b-6e35677e6430",
   "metadata": {},
   "outputs": [],
   "source": [
    "### 7. Insert a new value of 36 at 5th position in list.\n",
    "x.insert(5,36)"
   ]
  },
  {
   "cell_type": "code",
   "execution_count": 19,
   "id": "37456cfc-5942-4b11-b93a-414d80ef6ea7",
   "metadata": {},
   "outputs": [
    {
     "data": {
      "text/plain": [
       "['World', 23.45, 12, 67, 45, 36]"
      ]
     },
     "execution_count": 19,
     "metadata": {},
     "output_type": "execute_result"
    }
   ],
   "source": [
    "x"
   ]
  },
  {
   "cell_type": "code",
   "execution_count": 20,
   "id": "8d82d67b-e576-4e28-996a-55ca144cdea2",
   "metadata": {},
   "outputs": [
    {
     "data": {
      "text/plain": [
       "6"
      ]
     },
     "execution_count": 20,
     "metadata": {},
     "output_type": "execute_result"
    }
   ],
   "source": [
    "### 8. Count total number of elements in list now.\n",
    "len(x)"
   ]
  },
  {
   "cell_type": "code",
   "execution_count": 21,
   "id": "69faa2b0-a4ad-4335-affd-8eb14d5a280f",
   "metadata": {},
   "outputs": [
    {
     "data": {
      "text/plain": [
       "[12, 67, 45, 36]"
      ]
     },
     "execution_count": 21,
     "metadata": {},
     "output_type": "execute_result"
    }
   ],
   "source": [
    "### 9. Extract the values from 2nd index to 5th index.\n",
    "x[2:6]"
   ]
  },
  {
   "cell_type": "code",
   "execution_count": 22,
   "id": "e9217fb6-5520-4a03-83ef-2f5411b195f7",
   "metadata": {},
   "outputs": [],
   "source": [
    "###10. Append[34,'Pune'] to this list.\n",
    "x.append([36,'Pune'])"
   ]
  },
  {
   "cell_type": "code",
   "execution_count": 23,
   "id": "71ec2623-3053-4242-8f69-fb95e2bce838",
   "metadata": {},
   "outputs": [
    {
     "data": {
      "text/plain": [
       "['World', 23.45, 12, 67, 45, 36, [36, 'Pune']]"
      ]
     },
     "execution_count": 23,
     "metadata": {},
     "output_type": "execute_result"
    }
   ],
   "source": [
    "x"
   ]
  },
  {
   "cell_type": "code",
   "execution_count": 26,
   "id": "18293e19-d161-4aef-aecf-f5f1a5b209c2",
   "metadata": {},
   "outputs": [
    {
     "data": {
      "text/plain": [
       "[45, 67, 12, 'Hello', 23.45, 'World']"
      ]
     },
     "execution_count": 26,
     "metadata": {},
     "output_type": "execute_result"
    }
   ],
   "source": [
    "### 11. Delete the last element from list.\n",
    "x"
   ]
  },
  {
   "cell_type": "code",
   "execution_count": 27,
   "id": "abd13842-fbde-4583-bcad-d654311fc518",
   "metadata": {},
   "outputs": [
    {
     "data": {
      "text/plain": [
       "'World'"
      ]
     },
     "execution_count": 27,
     "metadata": {},
     "output_type": "execute_result"
    }
   ],
   "source": [
    "x.pop()"
   ]
  },
  {
   "cell_type": "code",
   "execution_count": 28,
   "id": "268dd2b2-0cfe-4816-863f-8ae88897f559",
   "metadata": {},
   "outputs": [
    {
     "data": {
      "text/plain": [
       "(12.5, 23.45, 45.12, 42.34, 67.9)"
      ]
     },
     "execution_count": 28,
     "metadata": {},
     "output_type": "execute_result"
    }
   ],
   "source": [
    "'''Q.7\n",
    "Create a tuple of elements with 5 float values in it and perform following operations.\n",
    "1. Print the data in sorted manner.\n",
    "2. Check to see that the element 50 is present in it.\n",
    "3. Convert this tuple in set.\n",
    "'''\n",
    "### Create tuple of elements with 5 float values\n",
    "t =(12.50,23.45,45.12,42.34,67.90)\n",
    "t"
   ]
  },
  {
   "cell_type": "code",
   "execution_count": 29,
   "id": "6140614f-bbb4-4276-9c7f-8faf97e8798b",
   "metadata": {},
   "outputs": [
    {
     "data": {
      "text/plain": [
       "[12.5, 23.45, 45.12, 42.34, 67.9]"
      ]
     },
     "execution_count": 29,
     "metadata": {},
     "output_type": "execute_result"
    }
   ],
   "source": [
    "### 1.Print the data in sorted manner.\n",
    "t1 = list(t)\n",
    "t1"
   ]
  },
  {
   "cell_type": "code",
   "execution_count": 30,
   "id": "01250b11-e41e-47e9-a038-d15d0fe8450e",
   "metadata": {},
   "outputs": [],
   "source": [
    "t1.sort()"
   ]
  },
  {
   "cell_type": "code",
   "execution_count": 31,
   "id": "f0147933-bb50-4b36-a553-b509b61654dd",
   "metadata": {},
   "outputs": [
    {
     "data": {
      "text/plain": [
       "[12.5, 23.45, 42.34, 45.12, 67.9]"
      ]
     },
     "execution_count": 31,
     "metadata": {},
     "output_type": "execute_result"
    }
   ],
   "source": [
    "t1"
   ]
  },
  {
   "cell_type": "code",
   "execution_count": 32,
   "id": "c0da2f4a-2086-4ef3-b6ec-b4957a90c5c6",
   "metadata": {},
   "outputs": [
    {
     "data": {
      "text/plain": [
       "False"
      ]
     },
     "execution_count": 32,
     "metadata": {},
     "output_type": "execute_result"
    }
   ],
   "source": [
    "### 2.Check to see that the element 50 is present in it.\n",
    "50 in t1"
   ]
  },
  {
   "cell_type": "code",
   "execution_count": 33,
   "id": "01f6314e-ed81-4953-993d-525683ca6862",
   "metadata": {},
   "outputs": [
    {
     "data": {
      "text/plain": [
       "True"
      ]
     },
     "execution_count": 33,
     "metadata": {},
     "output_type": "execute_result"
    }
   ],
   "source": [
    "45.12 in t1"
   ]
  },
  {
   "cell_type": "code",
   "execution_count": 34,
   "id": "3ab1ecff-d5b2-4aab-b80f-0fdda96df627",
   "metadata": {},
   "outputs": [],
   "source": [
    "### 3.Convert this tuple in set.\n",
    "s = set(t)"
   ]
  },
  {
   "cell_type": "code",
   "execution_count": 35,
   "id": "fe32dd48-12b1-45e9-b3de-a8cc2adb4578",
   "metadata": {},
   "outputs": [
    {
     "data": {
      "text/plain": [
       "{12.5, 23.45, 42.34, 45.12, 67.9}"
      ]
     },
     "execution_count": 35,
     "metadata": {},
     "output_type": "execute_result"
    }
   ],
   "source": [
    "s"
   ]
  },
  {
   "cell_type": "code",
   "execution_count": 36,
   "id": "e6af96b1-0319-455c-8ee8-7f4c5e2c7661",
   "metadata": {},
   "outputs": [],
   "source": [
    "'''Q.8\n",
    "Create a dictionary of elements: {'a':'apple','b','ball','c':'cat','d':'doll','K':'king'} and\n",
    "perform following operations.\n",
    "\n",
    "1. Access the data at key 'k'.\n",
    "2. Add a new values 'z': 'zebra'\n",
    "3. Replace the contents of 'd' as 'dog'\n",
    "4. Print all the values from this dictionary.\n",
    "5. Find the lenght of this dictionary.\n",
    "'''\n",
    "\n",
    "d = {'a':'apple','b':'ball','c':'cat','d':'doll','K':'king'}"
   ]
  },
  {
   "cell_type": "code",
   "execution_count": 37,
   "id": "2700e24d-da4e-4180-b524-1317e1d675d3",
   "metadata": {},
   "outputs": [
    {
     "data": {
      "text/plain": [
       "{'a': 'apple', 'b': 'ball', 'c': 'cat', 'd': 'doll', 'K': 'king'}"
      ]
     },
     "execution_count": 37,
     "metadata": {},
     "output_type": "execute_result"
    }
   ],
   "source": [
    "d"
   ]
  },
  {
   "cell_type": "code",
   "execution_count": 38,
   "id": "70ae360b-d6ec-485c-8901-39c8e764a280",
   "metadata": {},
   "outputs": [
    {
     "data": {
      "text/plain": [
       "'king'"
      ]
     },
     "execution_count": 38,
     "metadata": {},
     "output_type": "execute_result"
    }
   ],
   "source": [
    "#1. Access the data at key 'k'.\n",
    "d['K']"
   ]
  },
  {
   "cell_type": "code",
   "execution_count": 39,
   "id": "a2800f87-a406-46d4-a938-9393c58cd102",
   "metadata": {},
   "outputs": [],
   "source": [
    "#2. Add a new values 'z': 'zebra'\n",
    "d['z'] = 'zebra'"
   ]
  },
  {
   "cell_type": "code",
   "execution_count": 40,
   "id": "f7209cac-5057-49de-8b2a-8c41cb5b1fd4",
   "metadata": {},
   "outputs": [
    {
     "data": {
      "text/plain": [
       "{'a': 'apple', 'b': 'ball', 'c': 'cat', 'd': 'doll', 'K': 'king', 'z': 'zebra'}"
      ]
     },
     "execution_count": 40,
     "metadata": {},
     "output_type": "execute_result"
    }
   ],
   "source": [
    "d"
   ]
  },
  {
   "cell_type": "code",
   "execution_count": 41,
   "id": "6468ab4b-83b2-4af0-9251-113dca6cb882",
   "metadata": {},
   "outputs": [],
   "source": [
    "#3. Replace the contents of 'd' as 'dog'\n",
    "d['d'] = 'dog'"
   ]
  },
  {
   "cell_type": "code",
   "execution_count": 42,
   "id": "5fbf88e5-5c99-452e-bbfe-5c10c5c0842d",
   "metadata": {},
   "outputs": [
    {
     "data": {
      "text/plain": [
       "{'a': 'apple', 'b': 'ball', 'c': 'cat', 'd': 'dog', 'K': 'king', 'z': 'zebra'}"
      ]
     },
     "execution_count": 42,
     "metadata": {},
     "output_type": "execute_result"
    }
   ],
   "source": [
    "d"
   ]
  },
  {
   "cell_type": "code",
   "execution_count": 43,
   "id": "2f2dcd5b-9cf8-4532-bd95-9dbe1f91ed99",
   "metadata": {},
   "outputs": [
    {
     "data": {
      "text/plain": [
       "dict_values(['apple', 'ball', 'cat', 'dog', 'king', 'zebra'])"
      ]
     },
     "execution_count": 43,
     "metadata": {},
     "output_type": "execute_result"
    }
   ],
   "source": [
    "#4. Print all the values from this dictionary.\n",
    "d.values()"
   ]
  },
  {
   "cell_type": "code",
   "execution_count": 44,
   "id": "2b264334-bc70-46af-8766-fb5c3855a25f",
   "metadata": {},
   "outputs": [
    {
     "data": {
      "text/plain": [
       "6"
      ]
     },
     "execution_count": 44,
     "metadata": {},
     "output_type": "execute_result"
    }
   ],
   "source": [
    "#5. Find the lenght of this dictionary.\n",
    "len(d)"
   ]
  },
  {
   "cell_type": "code",
   "execution_count": 45,
   "id": "5133dc0d-1e56-4bac-8d68-2baeb3eb6d02",
   "metadata": {},
   "outputs": [],
   "source": [
    "'''Q.9\n",
    "Write a program to find the second largest element in a list.\n",
    "'''\n",
    "\n",
    "l = [19,25,8,7,23]"
   ]
  },
  {
   "cell_type": "code",
   "execution_count": 46,
   "id": "d1c774bd-9f2c-49cc-96ed-4335a044527f",
   "metadata": {},
   "outputs": [
    {
     "data": {
      "text/plain": [
       "[19, 25, 8, 7, 23]"
      ]
     },
     "execution_count": 46,
     "metadata": {},
     "output_type": "execute_result"
    }
   ],
   "source": [
    "l"
   ]
  },
  {
   "cell_type": "code",
   "execution_count": 47,
   "id": "594da945-af8a-45c2-91e9-a51121ef4567",
   "metadata": {},
   "outputs": [
    {
     "data": {
      "text/plain": [
       "[25, 23, 19, 8, 7]"
      ]
     },
     "execution_count": 47,
     "metadata": {},
     "output_type": "execute_result"
    }
   ],
   "source": [
    "l1 = sorted(l, reverse = True)\n",
    "l1"
   ]
  },
  {
   "cell_type": "code",
   "execution_count": 48,
   "id": "d940faf7-f926-4306-8242-845fe4fc6231",
   "metadata": {},
   "outputs": [
    {
     "data": {
      "text/plain": [
       "23"
      ]
     },
     "execution_count": 48,
     "metadata": {},
     "output_type": "execute_result"
    }
   ],
   "source": [
    "l1[1]"
   ]
  },
  {
   "cell_type": "code",
   "execution_count": 49,
   "id": "2221215c-83fe-4b4a-985c-a4347e7e58be",
   "metadata": {},
   "outputs": [],
   "source": [
    "'''Q.10\n",
    "This is a list of some metallic elements.\n",
    "metals = ['silver','gold',...]\n",
    "Make a new list that is almost identical to the metals list:\n",
    "The new contains the same items, in the same order, except that it does not contain the item 'copper'.\n",
    "'''\n",
    "metals = ['silver','gold','mercury','iron']"
   ]
  },
  {
   "cell_type": "code",
   "execution_count": 50,
   "id": "4ecf8cd7-6506-4392-a457-63d2a34ab5f5",
   "metadata": {},
   "outputs": [
    {
     "data": {
      "text/plain": [
       "['silver', 'gold', 'mercury', 'iron']"
      ]
     },
     "execution_count": 50,
     "metadata": {},
     "output_type": "execute_result"
    }
   ],
   "source": [
    "metals"
   ]
  },
  {
   "cell_type": "code",
   "execution_count": 51,
   "id": "a93ad190-1183-4f89-a7d6-488fd2a045a5",
   "metadata": {},
   "outputs": [
    {
     "name": "stdout",
     "output_type": "stream",
     "text": [
      "['silver', 'gold', 'mercury', 'iron']\n"
     ]
    }
   ],
   "source": [
    "# Create a new list without copper\n",
    "new_List = [metals for metals in metals if metals != 'copper']\n",
    "print(new_List)"
   ]
  },
  {
   "cell_type": "code",
   "execution_count": null,
   "id": "a9c72327-30e5-4be4-a31e-ed383d5e73f0",
   "metadata": {},
   "outputs": [],
   "source": []
  }
 ],
 "metadata": {
  "kernelspec": {
   "display_name": "Python 3 (ipykernel)",
   "language": "python",
   "name": "python3"
  },
  "language_info": {
   "codemirror_mode": {
    "name": "ipython",
    "version": 3
   },
   "file_extension": ".py",
   "mimetype": "text/x-python",
   "name": "python",
   "nbconvert_exporter": "python",
   "pygments_lexer": "ipython3",
   "version": "3.11.7"
  }
 },
 "nbformat": 4,
 "nbformat_minor": 5
}
