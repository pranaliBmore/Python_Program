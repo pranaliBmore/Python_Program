{
 "cells": [
  {
   "cell_type": "code",
   "execution_count": 1,
   "id": "4e038189-d441-4b56-a299-1a75524c0547",
   "metadata": {},
   "outputs": [
    {
     "name": "stdout",
     "output_type": "stream",
     "text": [
      "OK\n"
     ]
    }
   ],
   "source": [
    "# Check if the number is greater than 50\n",
    "num = 78\n",
    "if num > 50:\n",
    "    print(\"OK\")"
   ]
  },
  {
   "cell_type": "code",
   "execution_count": 4,
   "id": "64025986-734f-432a-905c-4c7c2725b185",
   "metadata": {},
   "outputs": [
    {
     "name": "stdin",
     "output_type": "stream",
     "text": [
      "Enter a number 76\n"
     ]
    },
    {
     "name": "stdout",
     "output_type": "stream",
     "text": [
      "OK\n"
     ]
    }
   ],
   "source": [
    "num = int(input('Enter a number'))\n",
    "if num > 50:\n",
    "    print('OK')\n"
   ]
  },
  {
   "cell_type": "code",
   "execution_count": 7,
   "id": "9d087ce1-a710-45f6-988f-749f95b7df0b",
   "metadata": {},
   "outputs": [
    {
     "name": "stdin",
     "output_type": "stream",
     "text": [
      "Enter the number 56\n"
     ]
    },
    {
     "name": "stdout",
     "output_type": "stream",
     "text": [
      "Positive\n",
      "ok\n"
     ]
    }
   ],
   "source": [
    "#positive or negative\n",
    "num = int(input('Enter the number'))\n",
    "if num>0:\n",
    "    print('Positive')\n",
    "    print('ok')\n",
    "else:\n",
    "     print('Negative')\n",
    "     print('GoodBye')"
   ]
  },
  {
   "cell_type": "code",
   "execution_count": 9,
   "id": "7b592220-7153-4155-9291-b7077d825113",
   "metadata": {},
   "outputs": [
    {
     "name": "stdin",
     "output_type": "stream",
     "text": [
      "Enter the number: 0\n"
     ]
    },
    {
     "name": "stdout",
     "output_type": "stream",
     "text": [
      "zero\n"
     ]
    }
   ],
   "source": [
    "#For zero\n",
    "num = int(input('Enter the number:'))\n",
    "if num>0:\n",
    "     print('Positive')\n",
    "elif num ==0:\n",
    "    print('zero')\n",
    "else:\n",
    "    print('Negative')"
   ]
  },
  {
   "cell_type": "code",
   "execution_count": 12,
   "id": "25511ae8-7ab7-4706-9edc-292e56493a14",
   "metadata": {},
   "outputs": [
    {
     "name": "stdin",
     "output_type": "stream",
     "text": [
      "Enter the number: 4\n"
     ]
    },
    {
     "name": "stdout",
     "output_type": "stream",
     "text": [
      "Number is even\n"
     ]
    }
   ],
   "source": [
    "#check if the number is odd or even\n",
    "num = int(input('Enter the number:'))\n",
    "if num % 2 == 0:\n",
    "    print('Number is even')\n",
    "else:\n",
    "    print('Odd')"
   ]
  },
  {
   "cell_type": "code",
   "execution_count": 13,
   "id": "2be0c306-95e7-424a-8e43-87a92485d1f7",
   "metadata": {},
   "outputs": [
    {
     "data": {
      "text/plain": [
       "1"
      ]
     },
     "execution_count": 13,
     "metadata": {},
     "output_type": "execute_result"
    }
   ],
   "source": [
    "int(True)"
   ]
  },
  {
   "cell_type": "code",
   "execution_count": 15,
   "id": "546943af-d97c-41c5-a660-b837853573c4",
   "metadata": {},
   "outputs": [
    {
     "data": {
      "text/plain": [
       "0"
      ]
     },
     "execution_count": 15,
     "metadata": {},
     "output_type": "execute_result"
    }
   ],
   "source": [
    "int(False)"
   ]
  },
  {
   "cell_type": "code",
   "execution_count": 16,
   "id": "20bb9c68-f119-4ec0-bfe3-3d0e07c17dfa",
   "metadata": {},
   "outputs": [
    {
     "data": {
      "text/plain": [
       "2"
      ]
     },
     "execution_count": 16,
     "metadata": {},
     "output_type": "execute_result"
    }
   ],
   "source": [
    "True+True-False"
   ]
  },
  {
   "cell_type": "code",
   "execution_count": 17,
   "id": "556b39d6-48f0-4e83-8f04-e8aa23467168",
   "metadata": {},
   "outputs": [
    {
     "name": "stdout",
     "output_type": "stream",
     "text": [
      "!!!!!!\n"
     ]
    }
   ],
   "source": [
    "a = 12\n",
    "\n",
    "if a:\n",
    "    print('!!!!!!')"
   ]
  },
  {
   "cell_type": "code",
   "execution_count": 19,
   "id": "05f41e85-e7f7-4832-a37a-0957c13a9ff7",
   "metadata": {},
   "outputs": [
    {
     "name": "stdin",
     "output_type": "stream",
     "text": [
      "Enter the number: 3\n"
     ]
    },
    {
     "name": "stdout",
     "output_type": "stream",
     "text": [
      "Incorrect\n"
     ]
    }
   ],
   "source": [
    "#check if the num is between 50 and 150\n",
    "num = int(input('Enter the number:'))\n",
    "if num >50:\n",
    "    if num < 150:\n",
    "        print('correct')\n",
    "    else:\n",
    "        print('greater than 150')\n",
    "else:\n",
    "    print('Incorrect')"
   ]
  },
  {
   "cell_type": "code",
   "execution_count": 20,
   "id": "1012d034-7158-4bd0-a6c1-746092785ee1",
   "metadata": {},
   "outputs": [
    {
     "name": "stdin",
     "output_type": "stream",
     "text": [
      "Enter the number: 90\n"
     ]
    },
    {
     "name": "stdout",
     "output_type": "stream",
     "text": [
      "Correct\n"
     ]
    }
   ],
   "source": [
    "#Using Operator\n",
    "num = int(input('Enter the number:'))\n",
    "if num > 50 and num < 150:\n",
    "    print('Correct')\n",
    "else:\n",
    "    print('C\\Incorrect')"
   ]
  },
  {
   "cell_type": "code",
   "execution_count": 24,
   "id": "e3d22c15-1ca1-4f8e-80a7-4760f244533f",
   "metadata": {},
   "outputs": [
    {
     "name": "stdin",
     "output_type": "stream",
     "text": [
      "Enter the Purchase Cost: 890\n",
      "Enter the Selling Cost: 400\n"
     ]
    },
    {
     "name": "stdout",
     "output_type": "stream",
     "text": [
      "loss 490\n"
     ]
    }
   ],
   "source": [
    "# read selling cost and purchase cost\n",
    "# find profit or loss and how much?\n",
    "Purchase_cost = int(input('Enter the Purchase Cost:'))\n",
    "Selling_cost = int(input('Enter the Selling Cost:'))\n",
    "\n",
    "if  Selling_cost > Purchase_cost:\n",
    "    print('Profit', Selling_cost - Purchase_cost)\n",
    "else:\n",
    "    print('loss', Purchase_cost - Selling_cost)   \n"
   ]
  },
  {
   "cell_type": "code",
   "execution_count": 9,
   "id": "c892327b-124d-4050-a421-b169d04118db",
   "metadata": {},
   "outputs": [
    {
     "name": "stdin",
     "output_type": "stream",
     "text": [
      "Enter the 1st number: 3\n",
      "Enter the 2nd number: 50\n",
      "Enter the 3rd number: 6\n"
     ]
    },
    {
     "name": "stdout",
     "output_type": "stream",
     "text": [
      "Largest is num2 50\n"
     ]
    }
   ],
   "source": [
    "#find the largest  of 3 numbers\n",
    "#'and','or'\n",
    "num1 = int(input('Enter the 1st number:'))\n",
    "num2 = int(input('Enter the 2nd number:'))\n",
    "num3 = int(input('Enter the 3rd number:'))\n",
    "if num1 > num2:\n",
    "    if num1 > num3:\n",
    "        print('Largest is num1', num1)\n",
    "    else:\n",
    "        print('Largest is num3', num3)\n",
    "else:\n",
    "    if num2 > num3:\n",
    "        print('Largest is num2', num2)\n",
    "    else:\n",
    "        print(\"Largest is num3\",num3)\n",
    "    \n"
   ]
  },
  {
   "cell_type": "code",
   "execution_count": 45,
   "id": "b87fd5bb-8d8f-46b3-868a-6ebe516383e0",
   "metadata": {},
   "outputs": [
    {
     "name": "stdin",
     "output_type": "stream",
     "text": [
      "Enter Year: 1800\n"
     ]
    },
    {
     "name": "stdout",
     "output_type": "stream",
     "text": [
      "Century but not Leap Year\n"
     ]
    }
   ],
   "source": [
    "#2020 => Leap Year\n",
    "#2018 => Not Leap\n",
    "#2000 => leap\n",
    "#1800 => Not leap => century year\n",
    "\n",
    "year = int(input('Enter Year:'))\n",
    "\n",
    "if year % 4 == 0:\n",
    "    if year % 100 == 0:\n",
    "         if year % 400 == 0:\n",
    "             print('Leap Century Year')\n",
    "         else:\n",
    "            print('Century but not Leap Year')\n",
    "    else:\n",
    "        print('Leap Year', year)\n",
    "else:\n",
    "    print('Not leap year')\n",
    "\n",
    "  \n",
    " "
   ]
  },
  {
   "cell_type": "code",
   "execution_count": 52,
   "id": "48b79568-73f7-405c-9ac3-fa66075b22b5",
   "metadata": {},
   "outputs": [
    {
     "name": "stdin",
     "output_type": "stream",
     "text": [
      "Enter Marks of Physics: 80\n",
      "Enter Marks of Chemistry 80\n",
      "Enter Marks of Biology: 80\n",
      "Enter Marks of Mathematics: 80\n",
      "Enter Marks of computer: 80\n"
     ]
    },
    {
     "name": "stdout",
     "output_type": "stream",
     "text": [
      "Grade B\n"
     ]
    }
   ],
   "source": [
    "'''\n",
    "Write a Python program to input marks of five subjects \n",
    "Physics, Chemistry, Biology, Mathematics and Computer. \n",
    "Calculate percentage and grade according to following:\n",
    "Percentage >= 90% : Grade A\n",
    "Percentage >= 80% : Grade B\n",
    "Percentage >= 70% : Grade C\n",
    "Percentage >= 60% : Grade D\n",
    "Percentage >= 40% : Grade E\n",
    "Percentage  < 40% : Grade F\n",
    "'''\n",
    "Phy = float(input('Enter Marks of Physics:'))\n",
    "Chem = float(input('Enter Marks of Chemistry'))\n",
    "Bio = float(input('Enter Marks of Biology:'))\n",
    "Math = float(input('Enter Marks of Mathematics:'))\n",
    "Comp = float(input('Enter Marks of computer:'))\n",
    "per = ((Phy+Chem+Bio+Math+Comp)/500)*100\n",
    "if per >= 90:\n",
    "    print('Grade A')\n",
    "elif per >=80:\n",
    "    print('Grade B')\n",
    "elif per >=70:\n",
    "    print('Grade C')\n",
    "elif per >=60:\n",
    "    print('Grade D')\n",
    "elif per >=40:\n",
    "    print('Grade E')\n",
    "else:\n",
    "    print('Grade F')\n"
   ]
  },
  {
   "cell_type": "code",
   "execution_count": 1,
   "id": "5c9d229d-7b81-4670-9cfb-2a9cf6189580",
   "metadata": {},
   "outputs": [
    {
     "name": "stdin",
     "output_type": "stream",
     "text": [
      "Enter the number: 5\n"
     ]
    },
    {
     "name": "stdout",
     "output_type": "stream",
     "text": [
      "MENU\n",
      "1.Square\n",
      "2.Cube\n",
      "3.Check +ve or -ve\n"
     ]
    },
    {
     "name": "stdin",
     "output_type": "stream",
     "text": [
      "Enter your choice: 6433\n"
     ]
    },
    {
     "name": "stdout",
     "output_type": "stream",
     "text": [
      "OOPS! you must've forgotten ur specs or brain\n"
     ]
    }
   ],
   "source": [
    "#Menu driven\n",
    "'''\n",
    "take a number and based on the choice perform \n",
    "1.Square, 2.Cube and 3.Check positive or negative\n",
    "'''\n",
    "\n",
    "num = int(input('Enter the number:'))\n",
    "print(\"MENU\\n1.Square\\n2.Cube\\n3.Check +ve or -ve\")\n",
    "choice = int(input('Enter your choice:'))\n",
    "if choice ==1:\n",
    "    print('Square is',num*num)\n",
    "elif choice ==2:\n",
    "    print('Cube is',num**3)\n",
    "elif choice ==3:\n",
    "    if num >0:\n",
    "        print('Positive')\n",
    "    else:\n",
    "        print('negative')\n",
    "else:\n",
    "    print(\"OOPS! you must've forgotten ur specs or brain\")\n",
    "    "
   ]
  },
  {
   "cell_type": "code",
   "execution_count": 5,
   "id": "c6111626-b28f-4ba3-8d3b-7db7da498a02",
   "metadata": {},
   "outputs": [
    {
     "name": "stdin",
     "output_type": "stream",
     "text": [
      "Enter the number: 25\n",
      "Enter the 2number: 90\n"
     ]
    },
    {
     "name": "stdout",
     "output_type": "stream",
     "text": [
      "MENU\n",
      "1.Addition\n",
      "2.floor div\n",
      "3.check +ve or -ve\n"
     ]
    },
    {
     "name": "stdin",
     "output_type": "stream",
     "text": [
      "Enter your choice: 1\n"
     ]
    },
    {
     "name": "stdout",
     "output_type": "stream",
     "text": [
      "Addition= 124\n"
     ]
    }
   ],
   "source": [
    "'''\n",
    "take 2 numbers and based on the choice perform\n",
    "1.Additon, 2.floor div and 3.Check which one is largest\n",
    "'''\n",
    "num1 = int(input('Enter the 1st number:'))\n",
    "num2 = int(input('Enter the 2nd number:'))\n",
    "\n",
    "print(\"MENU\\n1.Addition\\n2.floor div\\n3.check +ve or -ve\")\n",
    "choice = int(input('Enter your choice:'))\n",
    "if choice ==1:\n",
    "    print('Addition=',num+num2)\n",
    "elif choice == 2:\n",
    "    print('Division=',num1/num2)\n",
    "elif choice == 3:\n",
    "    if num1>num2:\n",
    "        print(\"num1 is largest number\")\n",
    "    else:\n",
    "        print(\"num2 is smallest number\")\n",
    "else:\n",
    "    print(\"You enter wrong choice\")\n",
    "\n"
   ]
  },
  {
   "cell_type": "code",
   "execution_count": null,
   "id": "9422dd45-67a6-466c-b959-17efd8184b20",
   "metadata": {},
   "outputs": [],
   "source": []
  }
 ],
 "metadata": {
  "kernelspec": {
   "display_name": "Python 3 (ipykernel)",
   "language": "python",
   "name": "python3"
  },
  "language_info": {
   "codemirror_mode": {
    "name": "ipython",
    "version": 3
   },
   "file_extension": ".py",
   "mimetype": "text/x-python",
   "name": "python",
   "nbconvert_exporter": "python",
   "pygments_lexer": "ipython3",
   "version": "3.11.7"
  }
 },
 "nbformat": 4,
 "nbformat_minor": 5
}
