{
 "cells": [
  {
   "cell_type": "code",
   "execution_count": 1,
   "id": "8e3c5735-492c-42d1-92d2-3df3af298f1f",
   "metadata": {},
   "outputs": [
    {
     "name": "stdout",
     "output_type": "stream",
     "text": [
      "Hello World\n"
     ]
    }
   ],
   "source": [
    "print(\"Hello World\")"
   ]
  },
  {
   "cell_type": "code",
   "execution_count": 2,
   "id": "6922f1d3-d1e2-4b4b-94f9-fc4d145bf0fb",
   "metadata": {},
   "outputs": [],
   "source": [
    "num = 10"
   ]
  },
  {
   "cell_type": "code",
   "execution_count": 3,
   "id": "d054eae7-a6a7-4701-ae37-c01f42f18796",
   "metadata": {},
   "outputs": [
    {
     "name": "stdout",
     "output_type": "stream",
     "text": [
      "10\n"
     ]
    }
   ],
   "source": [
    "print(num)"
   ]
  },
  {
   "cell_type": "code",
   "execution_count": 4,
   "id": "f67cc765-62c9-4977-a2e1-07c3076f5348",
   "metadata": {},
   "outputs": [
    {
     "data": {
      "text/plain": [
       "10"
      ]
     },
     "execution_count": 4,
     "metadata": {},
     "output_type": "execute_result"
    }
   ],
   "source": [
    "num"
   ]
  },
  {
   "cell_type": "code",
   "execution_count": 5,
   "id": "1434c544-f460-4708-9569-a771a0c6f7da",
   "metadata": {},
   "outputs": [
    {
     "name": "stdout",
     "output_type": "stream",
     "text": [
      "20\n"
     ]
    }
   ],
   "source": [
    "num1 = 20\n",
    "print(num1)"
   ]
  },
  {
   "cell_type": "code",
   "execution_count": 6,
   "id": "06b661f5-2663-4822-aaab-901a757739a8",
   "metadata": {},
   "outputs": [],
   "source": [
    "num = 1"
   ]
  },
  {
   "cell_type": "code",
   "execution_count": 7,
   "id": "e5b37e57-bb7a-430d-83a4-6334e69e1c36",
   "metadata": {},
   "outputs": [
    {
     "name": "stdout",
     "output_type": "stream",
     "text": [
      "1\n"
     ]
    }
   ],
   "source": [
    "print(num)"
   ]
  },
  {
   "cell_type": "code",
   "execution_count": 8,
   "id": "92059ff9-e923-4b02-8591-96cf3aae199a",
   "metadata": {},
   "outputs": [],
   "source": [
    "rate_of_interest = 50"
   ]
  },
  {
   "cell_type": "code",
   "execution_count": 9,
   "id": "70d48e5c-44c0-46a9-98a4-07e08893dcdb",
   "metadata": {},
   "outputs": [
    {
     "data": {
      "text/plain": [
       "50"
      ]
     },
     "execution_count": 9,
     "metadata": {},
     "output_type": "execute_result"
    }
   ],
   "source": [
    "rate_of_interest"
   ]
  },
  {
   "cell_type": "code",
   "execution_count": 10,
   "id": "4722ea52-78d0-49f8-9f77-4a0a24273056",
   "metadata": {},
   "outputs": [],
   "source": [
    "num3 = 'Pranali'"
   ]
  },
  {
   "cell_type": "code",
   "execution_count": 11,
   "id": "2ecb4cb5-4b0b-498a-ae55-e4ae625e36fa",
   "metadata": {},
   "outputs": [
    {
     "data": {
      "text/plain": [
       "'Pranali'"
      ]
     },
     "execution_count": 11,
     "metadata": {},
     "output_type": "execute_result"
    }
   ],
   "source": [
    "num3"
   ]
  },
  {
   "cell_type": "code",
   "execution_count": 12,
   "id": "e50ce9ed-58b6-4fa1-9349-050cda5525b0",
   "metadata": {},
   "outputs": [
    {
     "name": "stdout",
     "output_type": "stream",
     "text": [
      "Pranali\n"
     ]
    }
   ],
   "source": [
    "print(num3)"
   ]
  },
  {
   "cell_type": "code",
   "execution_count": 13,
   "id": "7daaec0f-0a93-4175-a3c8-1e5651c22e73",
   "metadata": {},
   "outputs": [],
   "source": [
    "num1 = 67\n",
    "num2 = 55.67\n",
    "num3 = 'Pranali'"
   ]
  },
  {
   "cell_type": "code",
   "execution_count": 14,
   "id": "5f5247c9-19f9-4eb8-863f-183a33b43665",
   "metadata": {},
   "outputs": [
    {
     "data": {
      "text/plain": [
       "int"
      ]
     },
     "execution_count": 14,
     "metadata": {},
     "output_type": "execute_result"
    }
   ],
   "source": [
    "type(num1)"
   ]
  },
  {
   "cell_type": "code",
   "execution_count": 15,
   "id": "6fe16b0e-ce8c-41c7-8fc5-f20744c06ac5",
   "metadata": {},
   "outputs": [
    {
     "data": {
      "text/plain": [
       "float"
      ]
     },
     "execution_count": 15,
     "metadata": {},
     "output_type": "execute_result"
    }
   ],
   "source": [
    "type(num2)"
   ]
  },
  {
   "cell_type": "code",
   "execution_count": 16,
   "id": "7d1ee021-2a35-4fee-8baa-ba08c6dcbca3",
   "metadata": {},
   "outputs": [
    {
     "data": {
      "text/plain": [
       "str"
      ]
     },
     "execution_count": 16,
     "metadata": {},
     "output_type": "execute_result"
    }
   ],
   "source": [
    "type(num3)"
   ]
  },
  {
   "cell_type": "code",
   "execution_count": 17,
   "id": "6fececa9-887a-4883-b494-75f143c3d237",
   "metadata": {},
   "outputs": [],
   "source": [
    "pass1 = 67.32 #pass => keyword"
   ]
  },
  {
   "cell_type": "code",
   "execution_count": 18,
   "id": "191eb4c7-9803-409a-8fb9-d6b4e019fb9f",
   "metadata": {},
   "outputs": [],
   "source": [
    "num = 35"
   ]
  },
  {
   "cell_type": "code",
   "execution_count": 19,
   "id": "766b5d92-e8f1-417b-84b7-d013a734a25a",
   "metadata": {},
   "outputs": [
    {
     "data": {
      "text/plain": [
       "50"
      ]
     },
     "execution_count": 19,
     "metadata": {},
     "output_type": "execute_result"
    }
   ],
   "source": [
    "num + 15"
   ]
  },
  {
   "cell_type": "code",
   "execution_count": 20,
   "id": "577e4854-2bab-4c0d-bc63-d30b25b8255e",
   "metadata": {},
   "outputs": [
    {
     "data": {
      "text/plain": [
       "35"
      ]
     },
     "execution_count": 20,
     "metadata": {},
     "output_type": "execute_result"
    }
   ],
   "source": [
    "num"
   ]
  },
  {
   "cell_type": "code",
   "execution_count": 21,
   "id": "448a52a4-cce3-40be-a86d-d56d38265369",
   "metadata": {},
   "outputs": [
    {
     "name": "stdout",
     "output_type": "stream",
     "text": [
      "50\n"
     ]
    }
   ],
   "source": [
    "result = num + 15\n",
    "print(result)"
   ]
  },
  {
   "cell_type": "code",
   "execution_count": 22,
   "id": "11651889-c022-4c27-b8b1-8b489969b62d",
   "metadata": {},
   "outputs": [],
   "source": [
    "#float datatype"
   ]
  },
  {
   "cell_type": "code",
   "execution_count": 23,
   "id": "f9cabc46-cee5-4f22-837a-8fcbbe3825f4",
   "metadata": {},
   "outputs": [],
   "source": [
    "num = 67.12"
   ]
  },
  {
   "cell_type": "code",
   "execution_count": 24,
   "id": "3e048670-9f55-4792-adca-60fb67158811",
   "metadata": {},
   "outputs": [],
   "source": [
    "result = num * 11.22"
   ]
  },
  {
   "cell_type": "code",
   "execution_count": 25,
   "id": "a77083ee-d168-41d8-b961-3b5997a8e30b",
   "metadata": {},
   "outputs": [
    {
     "data": {
      "text/plain": [
       "753.0864000000001"
      ]
     },
     "execution_count": 25,
     "metadata": {},
     "output_type": "execute_result"
    }
   ],
   "source": [
    "result"
   ]
  },
  {
   "cell_type": "code",
   "execution_count": 26,
   "id": "c0344843-dc0d-4526-a206-512140fb4b7e",
   "metadata": {},
   "outputs": [],
   "source": [
    "a = 18e4 #e4 => 10**4"
   ]
  },
  {
   "cell_type": "code",
   "execution_count": 27,
   "id": "0cf6bda4-1577-4c74-83d8-41318d4e4707",
   "metadata": {},
   "outputs": [
    {
     "data": {
      "text/plain": [
       "180000.0"
      ]
     },
     "execution_count": 27,
     "metadata": {},
     "output_type": "execute_result"
    }
   ],
   "source": [
    "a"
   ]
  },
  {
   "cell_type": "code",
   "execution_count": 28,
   "id": "3e624b63-b16c-445e-af55-934aa5d6a9f4",
   "metadata": {},
   "outputs": [],
   "source": [
    "#string datatype"
   ]
  },
  {
   "cell_type": "code",
   "execution_count": 29,
   "id": "6b275bd2-dc9c-492b-ae1a-4a3a74791b3a",
   "metadata": {},
   "outputs": [],
   "source": [
    "name = 'Pranali'"
   ]
  },
  {
   "cell_type": "code",
   "execution_count": 30,
   "id": "987c3482-eb92-4854-9ae7-679838b57e62",
   "metadata": {},
   "outputs": [
    {
     "name": "stdout",
     "output_type": "stream",
     "text": [
      "Pranali\n"
     ]
    }
   ],
   "source": [
    "print(name)"
   ]
  },
  {
   "cell_type": "code",
   "execution_count": 31,
   "id": "79973cd2-4f21-44a4-b30a-e1dd311d9572",
   "metadata": {},
   "outputs": [],
   "source": [
    "sent = \"I like 'Python' programming\""
   ]
  },
  {
   "cell_type": "code",
   "execution_count": 32,
   "id": "6888a33a-2732-4ed6-96e0-49b774c5fda1",
   "metadata": {},
   "outputs": [
    {
     "name": "stdout",
     "output_type": "stream",
     "text": [
      "I like 'Python' programming\n"
     ]
    }
   ],
   "source": [
    "print(sent)"
   ]
  },
  {
   "cell_type": "code",
   "execution_count": 33,
   "id": "8a25c2a2-4f06-4b89-875d-1689813dab19",
   "metadata": {},
   "outputs": [],
   "source": [
    "num1, num2, num3 = 42,45,'Pranali'"
   ]
  },
  {
   "cell_type": "code",
   "execution_count": 35,
   "id": "90b89f00-b095-49d2-8ce2-4de0c3de2a00",
   "metadata": {},
   "outputs": [
    {
     "name": "stdout",
     "output_type": "stream",
     "text": [
      "42\n"
     ]
    }
   ],
   "source": [
    "print(num1)"
   ]
  },
  {
   "cell_type": "code",
   "execution_count": 36,
   "id": "949a7c7a-b83c-45fd-b525-466932dfe60f",
   "metadata": {},
   "outputs": [
    {
     "name": "stdout",
     "output_type": "stream",
     "text": [
      "45\n"
     ]
    }
   ],
   "source": [
    "print(num2)"
   ]
  },
  {
   "cell_type": "code",
   "execution_count": 37,
   "id": "a6d35a72-0c37-4ac5-8d11-ab0748a1a4b0",
   "metadata": {},
   "outputs": [
    {
     "name": "stdout",
     "output_type": "stream",
     "text": [
      "Pranali\n"
     ]
    }
   ],
   "source": [
    "print(num3)"
   ]
  },
  {
   "cell_type": "code",
   "execution_count": 38,
   "id": "7a3a5024-ce2c-467f-a83b-b5dd38c386c2",
   "metadata": {},
   "outputs": [],
   "source": [
    "num1 = 45\n",
    "num2 = 50"
   ]
  },
  {
   "cell_type": "code",
   "execution_count": 39,
   "id": "c666a959-bedd-4f9c-b5cc-34012c637c34",
   "metadata": {},
   "outputs": [
    {
     "data": {
      "text/plain": [
       "95"
      ]
     },
     "execution_count": 39,
     "metadata": {},
     "output_type": "execute_result"
    }
   ],
   "source": [
    "result = num1 + num2\n",
    "result"
   ]
  },
  {
   "cell_type": "code",
   "execution_count": 40,
   "id": "3f9a528f-15f0-47c0-9f73-7276edbb369a",
   "metadata": {},
   "outputs": [],
   "source": [
    "name = 'Pranali'"
   ]
  },
  {
   "cell_type": "code",
   "execution_count": 41,
   "id": "ec23cf22-d1b5-4455-a008-4ee3f7098d62",
   "metadata": {},
   "outputs": [
    {
     "data": {
      "text/plain": [
       "'pranali'"
      ]
     },
     "execution_count": 41,
     "metadata": {},
     "output_type": "execute_result"
    }
   ],
   "source": [
    "name.lower()"
   ]
  },
  {
   "cell_type": "code",
   "execution_count": 42,
   "id": "1416a6cc-1bd9-4309-b176-a7732d625e07",
   "metadata": {},
   "outputs": [
    {
     "data": {
      "text/plain": [
       "'PRANALI'"
      ]
     },
     "execution_count": 42,
     "metadata": {},
     "output_type": "execute_result"
    }
   ],
   "source": [
    "name.upper()"
   ]
  },
  {
   "cell_type": "code",
   "execution_count": 43,
   "id": "89c84843-7dba-44bc-b722-009a7d1e60fd",
   "metadata": {},
   "outputs": [
    {
     "data": {
      "text/plain": [
       "'pRANALI'"
      ]
     },
     "execution_count": 43,
     "metadata": {},
     "output_type": "execute_result"
    }
   ],
   "source": [
    "name.swapcase()"
   ]
  },
  {
   "cell_type": "code",
   "execution_count": 44,
   "id": "cb1c1c17-3c69-4eaa-8384-183fd97b0227",
   "metadata": {},
   "outputs": [
    {
     "data": {
      "text/plain": [
       "7"
      ]
     },
     "execution_count": 44,
     "metadata": {},
     "output_type": "execute_result"
    }
   ],
   "source": [
    "len(name)"
   ]
  },
  {
   "cell_type": "code",
   "execution_count": 45,
   "id": "6251a427-7e63-4145-b9b2-65f82f9bc46f",
   "metadata": {},
   "outputs": [
    {
     "data": {
      "text/plain": [
       "False"
      ]
     },
     "execution_count": 45,
     "metadata": {},
     "output_type": "execute_result"
    }
   ],
   "source": [
    "name.isupper()"
   ]
  },
  {
   "cell_type": "code",
   "execution_count": 46,
   "id": "083fdd62-9647-4b0d-9505-b76d4fe43693",
   "metadata": {},
   "outputs": [
    {
     "data": {
      "text/plain": [
       "False"
      ]
     },
     "execution_count": 46,
     "metadata": {},
     "output_type": "execute_result"
    }
   ],
   "source": [
    "name.islower()"
   ]
  },
  {
   "cell_type": "code",
   "execution_count": 47,
   "id": "19e9678b-f524-4a49-89e1-cb5c91d6df7e",
   "metadata": {},
   "outputs": [
    {
     "data": {
      "text/plain": [
       "True"
      ]
     },
     "execution_count": 47,
     "metadata": {},
     "output_type": "execute_result"
    }
   ],
   "source": [
    "name.istitle()"
   ]
  },
  {
   "cell_type": "code",
   "execution_count": 48,
   "id": "1166ffad-4f41-40f1-8ecc-63a3c3020ba8",
   "metadata": {},
   "outputs": [],
   "source": [
    "data1 = 'Pranali'\n",
    "data2 = '1234'\n",
    "data3 = 'Pra123'"
   ]
  },
  {
   "cell_type": "code",
   "execution_count": 49,
   "id": "b954e7fa-6900-4427-a696-37cec948ec61",
   "metadata": {},
   "outputs": [
    {
     "data": {
      "text/plain": [
       "True"
      ]
     },
     "execution_count": 49,
     "metadata": {},
     "output_type": "execute_result"
    }
   ],
   "source": [
    "data1.isalpha()"
   ]
  },
  {
   "cell_type": "code",
   "execution_count": 50,
   "id": "65e4f3af-6258-452c-b1f4-aaeae9247af2",
   "metadata": {},
   "outputs": [
    {
     "data": {
      "text/plain": [
       "False"
      ]
     },
     "execution_count": 50,
     "metadata": {},
     "output_type": "execute_result"
    }
   ],
   "source": [
    "data2.isalpha()"
   ]
  },
  {
   "cell_type": "code",
   "execution_count": 51,
   "id": "cc0fb356-13d6-43b3-82a7-65994ec24e46",
   "metadata": {},
   "outputs": [
    {
     "data": {
      "text/plain": [
       "False"
      ]
     },
     "execution_count": 51,
     "metadata": {},
     "output_type": "execute_result"
    }
   ],
   "source": [
    "data3.isalpha()"
   ]
  },
  {
   "cell_type": "code",
   "execution_count": 52,
   "id": "f418db23-62fc-4470-b951-fb6e0e6fae93",
   "metadata": {},
   "outputs": [
    {
     "data": {
      "text/plain": [
       "False"
      ]
     },
     "execution_count": 52,
     "metadata": {},
     "output_type": "execute_result"
    }
   ],
   "source": [
    "data1.isdigit()"
   ]
  },
  {
   "cell_type": "code",
   "execution_count": 53,
   "id": "f56c91d8-b4ab-4cd8-be35-4d3f3c2f32d0",
   "metadata": {},
   "outputs": [
    {
     "data": {
      "text/plain": [
       "True"
      ]
     },
     "execution_count": 53,
     "metadata": {},
     "output_type": "execute_result"
    }
   ],
   "source": [
    "data2.isdigit()"
   ]
  },
  {
   "cell_type": "code",
   "execution_count": 54,
   "id": "34fab1be-8cde-4db2-a2a4-3a9a79da594d",
   "metadata": {},
   "outputs": [
    {
     "data": {
      "text/plain": [
       "False"
      ]
     },
     "execution_count": 54,
     "metadata": {},
     "output_type": "execute_result"
    }
   ],
   "source": [
    "data3.isdigit()"
   ]
  },
  {
   "cell_type": "code",
   "execution_count": 55,
   "id": "a0f484a7-d642-452c-bdc2-b575bac10fd8",
   "metadata": {},
   "outputs": [
    {
     "data": {
      "text/plain": [
       "True"
      ]
     },
     "execution_count": 55,
     "metadata": {},
     "output_type": "execute_result"
    }
   ],
   "source": [
    "data1.isalnum()"
   ]
  },
  {
   "cell_type": "code",
   "execution_count": 56,
   "id": "faa82d97-53f0-4410-9d89-88eb2f754c32",
   "metadata": {},
   "outputs": [
    {
     "data": {
      "text/plain": [
       "True"
      ]
     },
     "execution_count": 56,
     "metadata": {},
     "output_type": "execute_result"
    }
   ],
   "source": [
    "data2.isalnum()"
   ]
  },
  {
   "cell_type": "code",
   "execution_count": 57,
   "id": "8a78ae2a-2ad9-4ee5-889c-f0478b9410c3",
   "metadata": {},
   "outputs": [
    {
     "data": {
      "text/plain": [
       "True"
      ]
     },
     "execution_count": 57,
     "metadata": {},
     "output_type": "execute_result"
    }
   ],
   "source": [
    "data3.isalnum()"
   ]
  },
  {
   "cell_type": "code",
   "execution_count": 19,
   "id": "43e9b194-cc10-442f-a423-09c1a112f0ac",
   "metadata": {},
   "outputs": [],
   "source": [
    "name = ' Pranali '"
   ]
  },
  {
   "cell_type": "code",
   "execution_count": 63,
   "id": "8c712623-e4d2-4009-8776-ab06a1ba1a07",
   "metadata": {},
   "outputs": [
    {
     "name": "stdout",
     "output_type": "stream",
     "text": [
      " Pranali \n"
     ]
    }
   ],
   "source": [
    "print(name)"
   ]
  },
  {
   "cell_type": "code",
   "execution_count": 64,
   "id": "1a7e8c8a-d896-429d-a199-2d4458884dd4",
   "metadata": {},
   "outputs": [
    {
     "data": {
      "text/plain": [
       "'Pranali '"
      ]
     },
     "execution_count": 64,
     "metadata": {},
     "output_type": "execute_result"
    }
   ],
   "source": [
    "name.lstrip()"
   ]
  },
  {
   "cell_type": "code",
   "execution_count": 66,
   "id": "de99f057-0ac8-4e93-a84d-a6fe7948c6ee",
   "metadata": {},
   "outputs": [
    {
     "data": {
      "text/plain": [
       "' Pranali'"
      ]
     },
     "execution_count": 66,
     "metadata": {},
     "output_type": "execute_result"
    }
   ],
   "source": [
    "name.rstrip()"
   ]
  },
  {
   "cell_type": "code",
   "execution_count": 67,
   "id": "bfe7db9a-5694-4af4-a1c9-7d28ad597e8a",
   "metadata": {},
   "outputs": [
    {
     "data": {
      "text/plain": [
       "'Pranali'"
      ]
     },
     "execution_count": 67,
     "metadata": {},
     "output_type": "execute_result"
    }
   ],
   "source": [
    "name.strip()"
   ]
  },
  {
   "cell_type": "code",
   "execution_count": 68,
   "id": "84fdbbe6-908a-4f81-9b34-5dbcffed4647",
   "metadata": {},
   "outputs": [
    {
     "data": {
      "text/plain": [
       "' Pranali '"
      ]
     },
     "execution_count": 68,
     "metadata": {},
     "output_type": "execute_result"
    }
   ],
   "source": [
    "name"
   ]
  },
  {
   "cell_type": "code",
   "execution_count": 69,
   "id": "f7627b00-932b-427c-922f-ea06a9a7fbef",
   "metadata": {},
   "outputs": [
    {
     "data": {
      "text/plain": [
       "True"
      ]
     },
     "execution_count": 69,
     "metadata": {},
     "output_type": "execute_result"
    }
   ],
   "source": [
    "name.startswith(' P')"
   ]
  },
  {
   "cell_type": "code",
   "execution_count": 70,
   "id": "606a6e81-efbc-4364-a14a-cd914565d309",
   "metadata": {},
   "outputs": [
    {
     "data": {
      "text/plain": [
       "True"
      ]
     },
     "execution_count": 70,
     "metadata": {},
     "output_type": "execute_result"
    }
   ],
   "source": [
    "name.endswith('i ')"
   ]
  },
  {
   "cell_type": "code",
   "execution_count": 75,
   "id": "f5316166-7586-4b05-97df-c884aadb6f35",
   "metadata": {},
   "outputs": [
    {
     "data": {
      "text/plain": [
       "' Pranali '"
      ]
     },
     "execution_count": 75,
     "metadata": {},
     "output_type": "execute_result"
    }
   ],
   "source": [
    "name.replace('Pp', 'p')"
   ]
  },
  {
   "cell_type": "code",
   "execution_count": 78,
   "id": "fd461f92-7855-4e1d-b294-4047cbe58b34",
   "metadata": {},
   "outputs": [
    {
     "data": {
      "text/plain": [
       "'Pranali'"
      ]
     },
     "execution_count": 78,
     "metadata": {},
     "output_type": "execute_result"
    }
   ],
   "source": [
    "name = name.strip()\n",
    "name"
   ]
  },
  {
   "cell_type": "code",
   "execution_count": 82,
   "id": "2caa0de0-34dd-4ee0-acbe-0fc3e3bd9f46",
   "metadata": {},
   "outputs": [
    {
     "data": {
      "text/plain": [
       "3"
      ]
     },
     "execution_count": 82,
     "metadata": {},
     "output_type": "execute_result"
    }
   ],
   "source": [
    "name.find('n')"
   ]
  },
  {
   "cell_type": "code",
   "execution_count": 83,
   "id": "407b0609-be4e-4a66-9d17-9febdcfa844c",
   "metadata": {},
   "outputs": [
    {
     "data": {
      "text/plain": [
       "['__add__',\n",
       " '__class__',\n",
       " '__contains__',\n",
       " '__delattr__',\n",
       " '__dir__',\n",
       " '__doc__',\n",
       " '__eq__',\n",
       " '__format__',\n",
       " '__ge__',\n",
       " '__getattribute__',\n",
       " '__getitem__',\n",
       " '__getnewargs__',\n",
       " '__getstate__',\n",
       " '__gt__',\n",
       " '__hash__',\n",
       " '__init__',\n",
       " '__init_subclass__',\n",
       " '__iter__',\n",
       " '__le__',\n",
       " '__len__',\n",
       " '__lt__',\n",
       " '__mod__',\n",
       " '__mul__',\n",
       " '__ne__',\n",
       " '__new__',\n",
       " '__reduce__',\n",
       " '__reduce_ex__',\n",
       " '__repr__',\n",
       " '__rmod__',\n",
       " '__rmul__',\n",
       " '__setattr__',\n",
       " '__sizeof__',\n",
       " '__str__',\n",
       " '__subclasshook__',\n",
       " 'capitalize',\n",
       " 'casefold',\n",
       " 'center',\n",
       " 'count',\n",
       " 'encode',\n",
       " 'endswith',\n",
       " 'expandtabs',\n",
       " 'find',\n",
       " 'format',\n",
       " 'format_map',\n",
       " 'index',\n",
       " 'isalnum',\n",
       " 'isalpha',\n",
       " 'isascii',\n",
       " 'isdecimal',\n",
       " 'isdigit',\n",
       " 'isidentifier',\n",
       " 'islower',\n",
       " 'isnumeric',\n",
       " 'isprintable',\n",
       " 'isspace',\n",
       " 'istitle',\n",
       " 'isupper',\n",
       " 'join',\n",
       " 'ljust',\n",
       " 'lower',\n",
       " 'lstrip',\n",
       " 'maketrans',\n",
       " 'partition',\n",
       " 'removeprefix',\n",
       " 'removesuffix',\n",
       " 'replace',\n",
       " 'rfind',\n",
       " 'rindex',\n",
       " 'rjust',\n",
       " 'rpartition',\n",
       " 'rsplit',\n",
       " 'rstrip',\n",
       " 'split',\n",
       " 'splitlines',\n",
       " 'startswith',\n",
       " 'strip',\n",
       " 'swapcase',\n",
       " 'title',\n",
       " 'translate',\n",
       " 'upper',\n",
       " 'zfill']"
      ]
     },
     "execution_count": 83,
     "metadata": {},
     "output_type": "execute_result"
    }
   ],
   "source": [
    "dir(name)"
   ]
  },
  {
   "cell_type": "code",
   "execution_count": 84,
   "id": "f98affb4-edd6-4e5c-aa83-e0ea76bdcd93",
   "metadata": {},
   "outputs": [
    {
     "name": "stdout",
     "output_type": "stream",
     "text": [
      "Help on built-in function lower:\n",
      "\n",
      "lower() method of builtins.str instance\n",
      "    Return a copy of the string converted to lowercase.\n",
      "\n"
     ]
    }
   ],
   "source": [
    "help(name.lower)"
   ]
  },
  {
   "cell_type": "code",
   "execution_count": 85,
   "id": "9832c096-633f-48e7-94bd-639f28c7efa8",
   "metadata": {},
   "outputs": [
    {
     "name": "stdout",
     "output_type": "stream",
     "text": [
      "Help on class str in module builtins:\n",
      "\n",
      "class str(object)\n",
      " |  str(object='') -> str\n",
      " |  str(bytes_or_buffer[, encoding[, errors]]) -> str\n",
      " |  \n",
      " |  Create a new string object from the given object. If encoding or\n",
      " |  errors is specified, then the object must expose a data buffer\n",
      " |  that will be decoded using the given encoding and error handler.\n",
      " |  Otherwise, returns the result of object.__str__() (if defined)\n",
      " |  or repr(object).\n",
      " |  encoding defaults to sys.getdefaultencoding().\n",
      " |  errors defaults to 'strict'.\n",
      " |  \n",
      " |  Methods defined here:\n",
      " |  \n",
      " |  __add__(self, value, /)\n",
      " |      Return self+value.\n",
      " |  \n",
      " |  __contains__(self, key, /)\n",
      " |      Return key in self.\n",
      " |  \n",
      " |  __eq__(self, value, /)\n",
      " |      Return self==value.\n",
      " |  \n",
      " |  __format__(self, format_spec, /)\n",
      " |      Return a formatted version of the string as described by format_spec.\n",
      " |  \n",
      " |  __ge__(self, value, /)\n",
      " |      Return self>=value.\n",
      " |  \n",
      " |  __getattribute__(self, name, /)\n",
      " |      Return getattr(self, name).\n",
      " |  \n",
      " |  __getitem__(self, key, /)\n",
      " |      Return self[key].\n",
      " |  \n",
      " |  __getnewargs__(...)\n",
      " |  \n",
      " |  __gt__(self, value, /)\n",
      " |      Return self>value.\n",
      " |  \n",
      " |  __hash__(self, /)\n",
      " |      Return hash(self).\n",
      " |  \n",
      " |  __iter__(self, /)\n",
      " |      Implement iter(self).\n",
      " |  \n",
      " |  __le__(self, value, /)\n",
      " |      Return self<=value.\n",
      " |  \n",
      " |  __len__(self, /)\n",
      " |      Return len(self).\n",
      " |  \n",
      " |  __lt__(self, value, /)\n",
      " |      Return self<value.\n",
      " |  \n",
      " |  __mod__(self, value, /)\n",
      " |      Return self%value.\n",
      " |  \n",
      " |  __mul__(self, value, /)\n",
      " |      Return self*value.\n",
      " |  \n",
      " |  __ne__(self, value, /)\n",
      " |      Return self!=value.\n",
      " |  \n",
      " |  __repr__(self, /)\n",
      " |      Return repr(self).\n",
      " |  \n",
      " |  __rmod__(self, value, /)\n",
      " |      Return value%self.\n",
      " |  \n",
      " |  __rmul__(self, value, /)\n",
      " |      Return value*self.\n",
      " |  \n",
      " |  __sizeof__(self, /)\n",
      " |      Return the size of the string in memory, in bytes.\n",
      " |  \n",
      " |  __str__(self, /)\n",
      " |      Return str(self).\n",
      " |  \n",
      " |  capitalize(self, /)\n",
      " |      Return a capitalized version of the string.\n",
      " |      \n",
      " |      More specifically, make the first character have upper case and the rest lower\n",
      " |      case.\n",
      " |  \n",
      " |  casefold(self, /)\n",
      " |      Return a version of the string suitable for caseless comparisons.\n",
      " |  \n",
      " |  center(self, width, fillchar=' ', /)\n",
      " |      Return a centered string of length width.\n",
      " |      \n",
      " |      Padding is done using the specified fill character (default is a space).\n",
      " |  \n",
      " |  count(...)\n",
      " |      S.count(sub[, start[, end]]) -> int\n",
      " |      \n",
      " |      Return the number of non-overlapping occurrences of substring sub in\n",
      " |      string S[start:end].  Optional arguments start and end are\n",
      " |      interpreted as in slice notation.\n",
      " |  \n",
      " |  encode(self, /, encoding='utf-8', errors='strict')\n",
      " |      Encode the string using the codec registered for encoding.\n",
      " |      \n",
      " |      encoding\n",
      " |        The encoding in which to encode the string.\n",
      " |      errors\n",
      " |        The error handling scheme to use for encoding errors.\n",
      " |        The default is 'strict' meaning that encoding errors raise a\n",
      " |        UnicodeEncodeError.  Other possible values are 'ignore', 'replace' and\n",
      " |        'xmlcharrefreplace' as well as any other name registered with\n",
      " |        codecs.register_error that can handle UnicodeEncodeErrors.\n",
      " |  \n",
      " |  endswith(...)\n",
      " |      S.endswith(suffix[, start[, end]]) -> bool\n",
      " |      \n",
      " |      Return True if S ends with the specified suffix, False otherwise.\n",
      " |      With optional start, test S beginning at that position.\n",
      " |      With optional end, stop comparing S at that position.\n",
      " |      suffix can also be a tuple of strings to try.\n",
      " |  \n",
      " |  expandtabs(self, /, tabsize=8)\n",
      " |      Return a copy where all tab characters are expanded using spaces.\n",
      " |      \n",
      " |      If tabsize is not given, a tab size of 8 characters is assumed.\n",
      " |  \n",
      " |  find(...)\n",
      " |      S.find(sub[, start[, end]]) -> int\n",
      " |      \n",
      " |      Return the lowest index in S where substring sub is found,\n",
      " |      such that sub is contained within S[start:end].  Optional\n",
      " |      arguments start and end are interpreted as in slice notation.\n",
      " |      \n",
      " |      Return -1 on failure.\n",
      " |  \n",
      " |  format(...)\n",
      " |      S.format(*args, **kwargs) -> str\n",
      " |      \n",
      " |      Return a formatted version of S, using substitutions from args and kwargs.\n",
      " |      The substitutions are identified by braces ('{' and '}').\n",
      " |  \n",
      " |  format_map(...)\n",
      " |      S.format_map(mapping) -> str\n",
      " |      \n",
      " |      Return a formatted version of S, using substitutions from mapping.\n",
      " |      The substitutions are identified by braces ('{' and '}').\n",
      " |  \n",
      " |  index(...)\n",
      " |      S.index(sub[, start[, end]]) -> int\n",
      " |      \n",
      " |      Return the lowest index in S where substring sub is found,\n",
      " |      such that sub is contained within S[start:end].  Optional\n",
      " |      arguments start and end are interpreted as in slice notation.\n",
      " |      \n",
      " |      Raises ValueError when the substring is not found.\n",
      " |  \n",
      " |  isalnum(self, /)\n",
      " |      Return True if the string is an alpha-numeric string, False otherwise.\n",
      " |      \n",
      " |      A string is alpha-numeric if all characters in the string are alpha-numeric and\n",
      " |      there is at least one character in the string.\n",
      " |  \n",
      " |  isalpha(self, /)\n",
      " |      Return True if the string is an alphabetic string, False otherwise.\n",
      " |      \n",
      " |      A string is alphabetic if all characters in the string are alphabetic and there\n",
      " |      is at least one character in the string.\n",
      " |  \n",
      " |  isascii(self, /)\n",
      " |      Return True if all characters in the string are ASCII, False otherwise.\n",
      " |      \n",
      " |      ASCII characters have code points in the range U+0000-U+007F.\n",
      " |      Empty string is ASCII too.\n",
      " |  \n",
      " |  isdecimal(self, /)\n",
      " |      Return True if the string is a decimal string, False otherwise.\n",
      " |      \n",
      " |      A string is a decimal string if all characters in the string are decimal and\n",
      " |      there is at least one character in the string.\n",
      " |  \n",
      " |  isdigit(self, /)\n",
      " |      Return True if the string is a digit string, False otherwise.\n",
      " |      \n",
      " |      A string is a digit string if all characters in the string are digits and there\n",
      " |      is at least one character in the string.\n",
      " |  \n",
      " |  isidentifier(self, /)\n",
      " |      Return True if the string is a valid Python identifier, False otherwise.\n",
      " |      \n",
      " |      Call keyword.iskeyword(s) to test whether string s is a reserved identifier,\n",
      " |      such as \"def\" or \"class\".\n",
      " |  \n",
      " |  islower(self, /)\n",
      " |      Return True if the string is a lowercase string, False otherwise.\n",
      " |      \n",
      " |      A string is lowercase if all cased characters in the string are lowercase and\n",
      " |      there is at least one cased character in the string.\n",
      " |  \n",
      " |  isnumeric(self, /)\n",
      " |      Return True if the string is a numeric string, False otherwise.\n",
      " |      \n",
      " |      A string is numeric if all characters in the string are numeric and there is at\n",
      " |      least one character in the string.\n",
      " |  \n",
      " |  isprintable(self, /)\n",
      " |      Return True if the string is printable, False otherwise.\n",
      " |      \n",
      " |      A string is printable if all of its characters are considered printable in\n",
      " |      repr() or if it is empty.\n",
      " |  \n",
      " |  isspace(self, /)\n",
      " |      Return True if the string is a whitespace string, False otherwise.\n",
      " |      \n",
      " |      A string is whitespace if all characters in the string are whitespace and there\n",
      " |      is at least one character in the string.\n",
      " |  \n",
      " |  istitle(self, /)\n",
      " |      Return True if the string is a title-cased string, False otherwise.\n",
      " |      \n",
      " |      In a title-cased string, upper- and title-case characters may only\n",
      " |      follow uncased characters and lowercase characters only cased ones.\n",
      " |  \n",
      " |  isupper(self, /)\n",
      " |      Return True if the string is an uppercase string, False otherwise.\n",
      " |      \n",
      " |      A string is uppercase if all cased characters in the string are uppercase and\n",
      " |      there is at least one cased character in the string.\n",
      " |  \n",
      " |  join(self, iterable, /)\n",
      " |      Concatenate any number of strings.\n",
      " |      \n",
      " |      The string whose method is called is inserted in between each given string.\n",
      " |      The result is returned as a new string.\n",
      " |      \n",
      " |      Example: '.'.join(['ab', 'pq', 'rs']) -> 'ab.pq.rs'\n",
      " |  \n",
      " |  ljust(self, width, fillchar=' ', /)\n",
      " |      Return a left-justified string of length width.\n",
      " |      \n",
      " |      Padding is done using the specified fill character (default is a space).\n",
      " |  \n",
      " |  lower(self, /)\n",
      " |      Return a copy of the string converted to lowercase.\n",
      " |  \n",
      " |  lstrip(self, chars=None, /)\n",
      " |      Return a copy of the string with leading whitespace removed.\n",
      " |      \n",
      " |      If chars is given and not None, remove characters in chars instead.\n",
      " |  \n",
      " |  partition(self, sep, /)\n",
      " |      Partition the string into three parts using the given separator.\n",
      " |      \n",
      " |      This will search for the separator in the string.  If the separator is found,\n",
      " |      returns a 3-tuple containing the part before the separator, the separator\n",
      " |      itself, and the part after it.\n",
      " |      \n",
      " |      If the separator is not found, returns a 3-tuple containing the original string\n",
      " |      and two empty strings.\n",
      " |  \n",
      " |  removeprefix(self, prefix, /)\n",
      " |      Return a str with the given prefix string removed if present.\n",
      " |      \n",
      " |      If the string starts with the prefix string, return string[len(prefix):].\n",
      " |      Otherwise, return a copy of the original string.\n",
      " |  \n",
      " |  removesuffix(self, suffix, /)\n",
      " |      Return a str with the given suffix string removed if present.\n",
      " |      \n",
      " |      If the string ends with the suffix string and that suffix is not empty,\n",
      " |      return string[:-len(suffix)]. Otherwise, return a copy of the original\n",
      " |      string.\n",
      " |  \n",
      " |  replace(self, old, new, count=-1, /)\n",
      " |      Return a copy with all occurrences of substring old replaced by new.\n",
      " |      \n",
      " |        count\n",
      " |          Maximum number of occurrences to replace.\n",
      " |          -1 (the default value) means replace all occurrences.\n",
      " |      \n",
      " |      If the optional argument count is given, only the first count occurrences are\n",
      " |      replaced.\n",
      " |  \n",
      " |  rfind(...)\n",
      " |      S.rfind(sub[, start[, end]]) -> int\n",
      " |      \n",
      " |      Return the highest index in S where substring sub is found,\n",
      " |      such that sub is contained within S[start:end].  Optional\n",
      " |      arguments start and end are interpreted as in slice notation.\n",
      " |      \n",
      " |      Return -1 on failure.\n",
      " |  \n",
      " |  rindex(...)\n",
      " |      S.rindex(sub[, start[, end]]) -> int\n",
      " |      \n",
      " |      Return the highest index in S where substring sub is found,\n",
      " |      such that sub is contained within S[start:end].  Optional\n",
      " |      arguments start and end are interpreted as in slice notation.\n",
      " |      \n",
      " |      Raises ValueError when the substring is not found.\n",
      " |  \n",
      " |  rjust(self, width, fillchar=' ', /)\n",
      " |      Return a right-justified string of length width.\n",
      " |      \n",
      " |      Padding is done using the specified fill character (default is a space).\n",
      " |  \n",
      " |  rpartition(self, sep, /)\n",
      " |      Partition the string into three parts using the given separator.\n",
      " |      \n",
      " |      This will search for the separator in the string, starting at the end. If\n",
      " |      the separator is found, returns a 3-tuple containing the part before the\n",
      " |      separator, the separator itself, and the part after it.\n",
      " |      \n",
      " |      If the separator is not found, returns a 3-tuple containing two empty strings\n",
      " |      and the original string.\n",
      " |  \n",
      " |  rsplit(self, /, sep=None, maxsplit=-1)\n",
      " |      Return a list of the substrings in the string, using sep as the separator string.\n",
      " |      \n",
      " |        sep\n",
      " |          The separator used to split the string.\n",
      " |      \n",
      " |          When set to None (the default value), will split on any whitespace\n",
      " |          character (including \\n \\r \\t \\f and spaces) and will discard\n",
      " |          empty strings from the result.\n",
      " |        maxsplit\n",
      " |          Maximum number of splits (starting from the left).\n",
      " |          -1 (the default value) means no limit.\n",
      " |      \n",
      " |      Splitting starts at the end of the string and works to the front.\n",
      " |  \n",
      " |  rstrip(self, chars=None, /)\n",
      " |      Return a copy of the string with trailing whitespace removed.\n",
      " |      \n",
      " |      If chars is given and not None, remove characters in chars instead.\n",
      " |  \n",
      " |  split(self, /, sep=None, maxsplit=-1)\n",
      " |      Return a list of the substrings in the string, using sep as the separator string.\n",
      " |      \n",
      " |        sep\n",
      " |          The separator used to split the string.\n",
      " |      \n",
      " |          When set to None (the default value), will split on any whitespace\n",
      " |          character (including \\n \\r \\t \\f and spaces) and will discard\n",
      " |          empty strings from the result.\n",
      " |        maxsplit\n",
      " |          Maximum number of splits (starting from the left).\n",
      " |          -1 (the default value) means no limit.\n",
      " |      \n",
      " |      Note, str.split() is mainly useful for data that has been intentionally\n",
      " |      delimited.  With natural text that includes punctuation, consider using\n",
      " |      the regular expression module.\n",
      " |  \n",
      " |  splitlines(self, /, keepends=False)\n",
      " |      Return a list of the lines in the string, breaking at line boundaries.\n",
      " |      \n",
      " |      Line breaks are not included in the resulting list unless keepends is given and\n",
      " |      true.\n",
      " |  \n",
      " |  startswith(...)\n",
      " |      S.startswith(prefix[, start[, end]]) -> bool\n",
      " |      \n",
      " |      Return True if S starts with the specified prefix, False otherwise.\n",
      " |      With optional start, test S beginning at that position.\n",
      " |      With optional end, stop comparing S at that position.\n",
      " |      prefix can also be a tuple of strings to try.\n",
      " |  \n",
      " |  strip(self, chars=None, /)\n",
      " |      Return a copy of the string with leading and trailing whitespace removed.\n",
      " |      \n",
      " |      If chars is given and not None, remove characters in chars instead.\n",
      " |  \n",
      " |  swapcase(self, /)\n",
      " |      Convert uppercase characters to lowercase and lowercase characters to uppercase.\n",
      " |  \n",
      " |  title(self, /)\n",
      " |      Return a version of the string where each word is titlecased.\n",
      " |      \n",
      " |      More specifically, words start with uppercased characters and all remaining\n",
      " |      cased characters have lower case.\n",
      " |  \n",
      " |  translate(self, table, /)\n",
      " |      Replace each character in the string using the given translation table.\n",
      " |      \n",
      " |        table\n",
      " |          Translation table, which must be a mapping of Unicode ordinals to\n",
      " |          Unicode ordinals, strings, or None.\n",
      " |      \n",
      " |      The table must implement lookup/indexing via __getitem__, for instance a\n",
      " |      dictionary or list.  If this operation raises LookupError, the character is\n",
      " |      left untouched.  Characters mapped to None are deleted.\n",
      " |  \n",
      " |  upper(self, /)\n",
      " |      Return a copy of the string converted to uppercase.\n",
      " |  \n",
      " |  zfill(self, width, /)\n",
      " |      Pad a numeric string with zeros on the left, to fill a field of the given width.\n",
      " |      \n",
      " |      The string is never truncated.\n",
      " |  \n",
      " |  ----------------------------------------------------------------------\n",
      " |  Static methods defined here:\n",
      " |  \n",
      " |  __new__(*args, **kwargs) from builtins.type\n",
      " |      Create and return a new object.  See help(type) for accurate signature.\n",
      " |  \n",
      " |  maketrans(...)\n",
      " |      Return a translation table usable for str.translate().\n",
      " |      \n",
      " |      If there is only one argument, it must be a dictionary mapping Unicode\n",
      " |      ordinals (integers) or characters to Unicode ordinals, strings or None.\n",
      " |      Character keys will be then converted to ordinals.\n",
      " |      If there are two arguments, they must be strings of equal length, and\n",
      " |      in the resulting dictionary, each character in x will be mapped to the\n",
      " |      character at the same position in y. If there is a third argument, it\n",
      " |      must be a string, whose characters will be mapped to None in the result.\n",
      "\n"
     ]
    }
   ],
   "source": [
    "help(str)"
   ]
  },
  {
   "cell_type": "code",
   "execution_count": 86,
   "id": "b0675953-d77a-43ed-9ea4-89b110314894",
   "metadata": {},
   "outputs": [],
   "source": [
    "name1 = 'Pranali'\n",
    "name2 = '1234'"
   ]
  },
  {
   "cell_type": "code",
   "execution_count": 87,
   "id": "7f16b63c-b831-4b66-bfdf-177b1caadda4",
   "metadata": {},
   "outputs": [],
   "source": [
    "result = name1 + name2"
   ]
  },
  {
   "cell_type": "code",
   "execution_count": 88,
   "id": "a0694ad5-f985-4452-a319-90ac87fd3845",
   "metadata": {},
   "outputs": [
    {
     "data": {
      "text/plain": [
       "'Pranali1234'"
      ]
     },
     "execution_count": 88,
     "metadata": {},
     "output_type": "execute_result"
    }
   ],
   "source": [
    "result"
   ]
  },
  {
   "cell_type": "code",
   "execution_count": 89,
   "id": "62a3c72c-126f-4415-88e9-ee9a6f5930ee",
   "metadata": {},
   "outputs": [
    {
     "data": {
      "text/plain": [
       "'PranaliPranaliPranali'"
      ]
     },
     "execution_count": 89,
     "metadata": {},
     "output_type": "execute_result"
    }
   ],
   "source": [
    "name1 * 3"
   ]
  },
  {
   "cell_type": "code",
   "execution_count": 90,
   "id": "50a9dbe6-10d8-4375-9c16-efd759f7804d",
   "metadata": {},
   "outputs": [],
   "source": [
    "# escape sequence"
   ]
  },
  {
   "cell_type": "code",
   "execution_count": 91,
   "id": "201c43f5-c110-4c73-8df9-2ffc1603e07b",
   "metadata": {},
   "outputs": [
    {
     "name": "stdout",
     "output_type": "stream",
     "text": [
      "Hello\\*World\n"
     ]
    }
   ],
   "source": [
    "print('Hello\\*World')"
   ]
  },
  {
   "cell_type": "code",
   "execution_count": 93,
   "id": "67f188a1-1726-4dae-a8e1-cb2a218f9081",
   "metadata": {},
   "outputs": [],
   "source": [
    "# doc string\n",
    "'''\n",
    "dsvini\n",
    "wqfwqg\n",
    "wfwq\n",
    "''';"
   ]
  },
  {
   "cell_type": "code",
   "execution_count": 94,
   "id": "8bde7b2d-9f57-42dd-9f9e-1a147f5ccd56",
   "metadata": {},
   "outputs": [
    {
     "name": "stdout",
     "output_type": "stream",
     "text": [
      "this is 1st\n",
      "this is 2nd\n",
      "this is 3rd\n",
      "\n"
     ]
    }
   ],
   "source": [
    "print('''this is 1st\n",
    "this is 2nd\n",
    "this is 3rd\n",
    "''')"
   ]
  },
  {
   "cell_type": "code",
   "execution_count": 95,
   "id": "1cb8cdbc-294e-43c1-a39a-123b314aa3e8",
   "metadata": {},
   "outputs": [],
   "source": [
    "# ASCII"
   ]
  },
  {
   "cell_type": "code",
   "execution_count": 96,
   "id": "b8cb7621-c4bf-4d96-a7ab-a23d4754cd79",
   "metadata": {},
   "outputs": [
    {
     "data": {
      "text/plain": [
       "97"
      ]
     },
     "execution_count": 96,
     "metadata": {},
     "output_type": "execute_result"
    }
   ],
   "source": [
    "ord('a')"
   ]
  },
  {
   "cell_type": "code",
   "execution_count": 97,
   "id": "03abf7f7-5dad-4d4a-a334-6d15af51aa39",
   "metadata": {},
   "outputs": [
    {
     "data": {
      "text/plain": [
       "65"
      ]
     },
     "execution_count": 97,
     "metadata": {},
     "output_type": "execute_result"
    }
   ],
   "source": [
    "ord('A')"
   ]
  },
  {
   "cell_type": "code",
   "execution_count": 98,
   "id": "c5a71006-7801-41a6-8f3a-16c96f12aa95",
   "metadata": {},
   "outputs": [
    {
     "data": {
      "text/plain": [
       "'z'"
      ]
     },
     "execution_count": 98,
     "metadata": {},
     "output_type": "execute_result"
    }
   ],
   "source": [
    "chr(122)"
   ]
  },
  {
   "cell_type": "code",
   "execution_count": 99,
   "id": "6dfa56f8-06a9-4bab-ac21-35017f2ff018",
   "metadata": {},
   "outputs": [],
   "source": [
    "# print function\n",
    "\n",
    "name = 'Pranali'\n",
    "marks = 79.80"
   ]
  },
  {
   "cell_type": "code",
   "execution_count": 104,
   "id": "3a2e348d-becf-4ceb-8977-00269bac8828",
   "metadata": {},
   "outputs": [
    {
     "name": "stdout",
     "output_type": "stream",
     "text": [
      "my name is %s and marks are %.my name is Pranali and marks are 79.801\n"
     ]
    }
   ],
   "source": [
    "# formatted\n",
    "print('my name is %s and marks are %.my name is Pranali and marks are 79.801')"
   ]
  },
  {
   "cell_type": "code",
   "execution_count": 105,
   "id": "a78461b0-5b53-4d9e-9455-c16c2edde742",
   "metadata": {},
   "outputs": [],
   "source": [
    "city = 'Pune'"
   ]
  },
  {
   "cell_type": "code",
   "execution_count": 106,
   "id": "b4bbd10b-d1f3-4425-bd39-b0262bed6105",
   "metadata": {},
   "outputs": [
    {
     "name": "stdout",
     "output_type": "stream",
     "text": [
      "Pranali 79.8 Pune\n"
     ]
    }
   ],
   "source": [
    "print(name,marks,city)"
   ]
  },
  {
   "cell_type": "code",
   "execution_count": 107,
   "id": "87e4c96f-6549-444d-a7d1-d058bfa3e35e",
   "metadata": {},
   "outputs": [
    {
     "name": "stdout",
     "output_type": "stream",
     "text": [
      "Pranali\n",
      "79.8\n",
      "Pune\n"
     ]
    }
   ],
   "source": [
    "print(name, marks, city, sep='\\n')"
   ]
  },
  {
   "cell_type": "code",
   "execution_count": 108,
   "id": "420fb145-18c6-46ff-8de0-a20f6c5dc0ee",
   "metadata": {},
   "outputs": [
    {
     "name": "stdout",
     "output_type": "stream",
     "text": [
      "Pranali\t79.8\tPune\n"
     ]
    }
   ],
   "source": [
    "print(name, marks, city, sep='\\t')"
   ]
  },
  {
   "cell_type": "code",
   "execution_count": 109,
   "id": "2912712d-270e-4906-a04d-ef92992f6071",
   "metadata": {},
   "outputs": [
    {
     "name": "stdout",
     "output_type": "stream",
     "text": [
      "Pranali 79.8 Pune * "
     ]
    }
   ],
   "source": [
    "print(name, marks, city, end =' * ')"
   ]
  },
  {
   "cell_type": "code",
   "execution_count": 110,
   "id": "bb3b4bde-477b-46e1-9900-0da3c6be527d",
   "metadata": {},
   "outputs": [
    {
     "name": "stdout",
     "output_type": "stream",
     "text": [
      "Pranali 79.8 Pune*"
     ]
    }
   ],
   "source": [
    "print(name, marks, city, end ='*')"
   ]
  },
  {
   "cell_type": "markdown",
   "id": "e3041faf-65eb-4ddb-9dac-4287132857ba",
   "metadata": {},
   "source": [
    "###Arithmetic Operators "
   ]
  },
  {
   "cell_type": "code",
   "execution_count": 14,
   "id": "a5d4d408-ccba-42d2-8203-a546f22d7776",
   "metadata": {},
   "outputs": [],
   "source": [
    "num1 = 54.66\n",
    "num2 = 2"
   ]
  },
  {
   "cell_type": "code",
   "execution_count": 112,
   "id": "0fc115b1-85a9-4ee4-aabc-c74c17445989",
   "metadata": {},
   "outputs": [
    {
     "data": {
      "text/plain": [
       "56.66"
      ]
     },
     "execution_count": 112,
     "metadata": {},
     "output_type": "execute_result"
    }
   ],
   "source": [
    "num1+num2"
   ]
  },
  {
   "cell_type": "code",
   "execution_count": 113,
   "id": "d8ef0360-e491-45d8-bb63-4025c1661418",
   "metadata": {},
   "outputs": [
    {
     "data": {
      "text/plain": [
       "52.66"
      ]
     },
     "execution_count": 113,
     "metadata": {},
     "output_type": "execute_result"
    }
   ],
   "source": [
    "num1 - num2"
   ]
  },
  {
   "cell_type": "code",
   "execution_count": 114,
   "id": "7ef50123-4dfd-4062-b047-5de1553c217e",
   "metadata": {},
   "outputs": [
    {
     "data": {
      "text/plain": [
       "27.33"
      ]
     },
     "execution_count": 114,
     "metadata": {},
     "output_type": "execute_result"
    }
   ],
   "source": [
    "num1 / num2"
   ]
  },
  {
   "cell_type": "code",
   "execution_count": 115,
   "id": "8b6e8f25-e801-4524-8334-62c35e358f94",
   "metadata": {},
   "outputs": [
    {
     "data": {
      "text/plain": [
       "109.32"
      ]
     },
     "execution_count": 115,
     "metadata": {},
     "output_type": "execute_result"
    }
   ],
   "source": [
    "num1 * num2"
   ]
  },
  {
   "cell_type": "code",
   "execution_count": 116,
   "id": "08fe46ea-2632-483a-bdac-9674bdf73b5a",
   "metadata": {},
   "outputs": [
    {
     "data": {
      "text/plain": [
       "2987.7155999999995"
      ]
     },
     "execution_count": 116,
     "metadata": {},
     "output_type": "execute_result"
    }
   ],
   "source": [
    "num1**num2"
   ]
  },
  {
   "cell_type": "code",
   "execution_count": 117,
   "id": "6ad27adc-b9d4-4ff4-b1e6-f95b5d0a9b89",
   "metadata": {},
   "outputs": [
    {
     "data": {
      "text/plain": [
       "27.0"
      ]
     },
     "execution_count": 117,
     "metadata": {},
     "output_type": "execute_result"
    }
   ],
   "source": [
    "num1 // num2"
   ]
  },
  {
   "cell_type": "code",
   "execution_count": 118,
   "id": "b6f08c6b-3247-4bc5-99fa-d75df2a291a7",
   "metadata": {},
   "outputs": [
    {
     "data": {
      "text/plain": [
       "0.6599999999999966"
      ]
     },
     "execution_count": 118,
     "metadata": {},
     "output_type": "execute_result"
    }
   ],
   "source": [
    "num1 % num2"
   ]
  },
  {
   "cell_type": "markdown",
   "id": "eb3147da-fcd4-4e2e-8e1c-5612ed4395c0",
   "metadata": {},
   "source": [
    "###Relational Operators "
   ]
  },
  {
   "cell_type": "code",
   "execution_count": 119,
   "id": "c173be05-ca10-40eb-921c-8ceebc11c226",
   "metadata": {},
   "outputs": [
    {
     "data": {
      "text/plain": [
       "True"
      ]
     },
     "execution_count": 119,
     "metadata": {},
     "output_type": "execute_result"
    }
   ],
   "source": [
    "num1 > num2"
   ]
  },
  {
   "cell_type": "code",
   "execution_count": 120,
   "id": "444c1e46-04b6-49ff-ba05-2226d1a0b895",
   "metadata": {},
   "outputs": [
    {
     "data": {
      "text/plain": [
       "False"
      ]
     },
     "execution_count": 120,
     "metadata": {},
     "output_type": "execute_result"
    }
   ],
   "source": [
    "num1 <= num2"
   ]
  },
  {
   "cell_type": "code",
   "execution_count": 121,
   "id": "42395608-413d-4c2f-b8c3-8b0f6e03ac1d",
   "metadata": {},
   "outputs": [
    {
     "data": {
      "text/plain": [
       "False"
      ]
     },
     "execution_count": 121,
     "metadata": {},
     "output_type": "execute_result"
    }
   ],
   "source": [
    "num1 == num2"
   ]
  },
  {
   "cell_type": "code",
   "execution_count": 122,
   "id": "9f7ebff2-a397-46d4-a19e-d12fd1ec15ca",
   "metadata": {},
   "outputs": [
    {
     "data": {
      "text/plain": [
       "True"
      ]
     },
     "execution_count": 122,
     "metadata": {},
     "output_type": "execute_result"
    }
   ],
   "source": [
    "num1 != num2"
   ]
  },
  {
   "cell_type": "markdown",
   "id": "c447c9a8-bbd0-4eab-a454-9ffe4af0d6e5",
   "metadata": {},
   "source": [
    "###Assignment Operators "
   ]
  },
  {
   "cell_type": "code",
   "execution_count": 7,
   "id": "f4e73868-a0b6-4224-914f-ad31e0b69a6c",
   "metadata": {},
   "outputs": [],
   "source": [
    "num1 = 45"
   ]
  },
  {
   "cell_type": "code",
   "execution_count": 8,
   "id": "8d431b48-f0b7-4239-8863-dd565b96b6eb",
   "metadata": {},
   "outputs": [],
   "source": [
    "num1 += 50   # num1 = num1+50"
   ]
  },
  {
   "cell_type": "code",
   "execution_count": 9,
   "id": "fdea10d0-0635-4108-bdeb-6a05b21493a7",
   "metadata": {},
   "outputs": [
    {
     "data": {
      "text/plain": [
       "95"
      ]
     },
     "execution_count": 9,
     "metadata": {},
     "output_type": "execute_result"
    }
   ],
   "source": [
    "num1"
   ]
  },
  {
   "cell_type": "code",
   "execution_count": 11,
   "id": "128fd8d2-e22a-43ff-8845-feedbabf10c7",
   "metadata": {},
   "outputs": [],
   "source": [
    "num1 -=45"
   ]
  },
  {
   "cell_type": "code",
   "execution_count": 12,
   "id": "5b886891-b352-4b19-90d8-a45b7c6ff769",
   "metadata": {},
   "outputs": [
    {
     "data": {
      "text/plain": [
       "50"
      ]
     },
     "execution_count": 12,
     "metadata": {},
     "output_type": "execute_result"
    }
   ],
   "source": [
    "num1"
   ]
  },
  {
   "cell_type": "markdown",
   "id": "e7b8c8ba-f0f4-4209-b088-3d22a8d83f0f",
   "metadata": {},
   "source": [
    "Logical Operators"
   ]
  },
  {
   "cell_type": "code",
   "execution_count": 15,
   "id": "e2bdadfa-f0bf-4263-b37d-a98fadbb6c62",
   "metadata": {},
   "outputs": [
    {
     "data": {
      "text/plain": [
       "False"
      ]
     },
     "execution_count": 15,
     "metadata": {},
     "output_type": "execute_result"
    }
   ],
   "source": [
    "num1 < num2 and num1 > 0"
   ]
  },
  {
   "cell_type": "code",
   "execution_count": 16,
   "id": "b7bbdc08-9f43-495e-94a9-5ce6e48e15b9",
   "metadata": {},
   "outputs": [
    {
     "data": {
      "text/plain": [
       "True"
      ]
     },
     "execution_count": 16,
     "metadata": {},
     "output_type": "execute_result"
    }
   ],
   "source": [
    "num1 < num2 or num1 > 0"
   ]
  },
  {
   "cell_type": "code",
   "execution_count": 17,
   "id": "05178d00-7941-45c8-8279-b004715b51af",
   "metadata": {},
   "outputs": [],
   "source": [
    "# membership selection"
   ]
  },
  {
   "cell_type": "code",
   "execution_count": 20,
   "id": "81f00c09-fed7-4c4d-b2a1-c76eb06bfe4c",
   "metadata": {},
   "outputs": [
    {
     "data": {
      "text/plain": [
       "' Pranali '"
      ]
     },
     "execution_count": 20,
     "metadata": {},
     "output_type": "execute_result"
    }
   ],
   "source": [
    "name"
   ]
  },
  {
   "cell_type": "code",
   "execution_count": 21,
   "id": "252adcf2-1079-4cde-ba28-2e68bdb532e8",
   "metadata": {},
   "outputs": [
    {
     "data": {
      "text/plain": [
       "True"
      ]
     },
     "execution_count": 21,
     "metadata": {},
     "output_type": "execute_result"
    }
   ],
   "source": [
    "'i' in name "
   ]
  },
  {
   "cell_type": "code",
   "execution_count": 22,
   "id": "c93d2b3f-d843-4e08-bd40-bebe764b1bc7",
   "metadata": {},
   "outputs": [
    {
     "data": {
      "text/plain": [
       "False"
      ]
     },
     "execution_count": 22,
     "metadata": {},
     "output_type": "execute_result"
    }
   ],
   "source": [
    "'i' not in name "
   ]
  },
  {
   "cell_type": "code",
   "execution_count": 23,
   "id": "5713510d-2d14-400f-b401-9efa4a3ed99c",
   "metadata": {},
   "outputs": [],
   "source": [
    "# type casting"
   ]
  },
  {
   "cell_type": "code",
   "execution_count": 24,
   "id": "6ec55327-2165-49e3-b960-ca47f5936846",
   "metadata": {},
   "outputs": [],
   "source": [
    "num1 = 34\n",
    "num2 = 33.12"
   ]
  },
  {
   "cell_type": "code",
   "execution_count": 25,
   "id": "c1e7df4d-6d89-4288-bec3-3f2948f49658",
   "metadata": {},
   "outputs": [
    {
     "data": {
      "text/plain": [
       "67.12"
      ]
     },
     "execution_count": 25,
     "metadata": {},
     "output_type": "execute_result"
    }
   ],
   "source": [
    "num1 + num2"
   ]
  },
  {
   "cell_type": "code",
   "execution_count": 26,
   "id": "cbaa4ed6-4413-43d6-9bc8-9821186e4f5d",
   "metadata": {},
   "outputs": [
    {
     "data": {
      "text/plain": [
       "67"
      ]
     },
     "execution_count": 26,
     "metadata": {},
     "output_type": "execute_result"
    }
   ],
   "source": [
    "num1 + int(num2)"
   ]
  },
  {
   "cell_type": "code",
   "execution_count": 27,
   "id": "c1b1c01c-0a69-4a35-979a-c6d15b4923b0",
   "metadata": {},
   "outputs": [],
   "source": [
    "num3 = '1234'"
   ]
  },
  {
   "cell_type": "code",
   "execution_count": 28,
   "id": "19674d71-5dc6-4352-a96b-a451bf4721d3",
   "metadata": {},
   "outputs": [
    {
     "data": {
      "text/plain": [
       "'123412341234'"
      ]
     },
     "execution_count": 28,
     "metadata": {},
     "output_type": "execute_result"
    }
   ],
   "source": [
    "num3 * 3"
   ]
  },
  {
   "cell_type": "code",
   "execution_count": 29,
   "id": "5b5c723d-f3da-4f14-b2f9-011b2a19a0ec",
   "metadata": {},
   "outputs": [
    {
     "data": {
      "text/plain": [
       "3702"
      ]
     },
     "execution_count": 29,
     "metadata": {},
     "output_type": "execute_result"
    }
   ],
   "source": [
    "int(num3)*3"
   ]
  },
  {
   "cell_type": "code",
   "execution_count": 30,
   "id": "aeed4193-065f-4c58-9245-2afe092176ae",
   "metadata": {},
   "outputs": [],
   "source": [
    "name = 'Bhagwat'\n",
    "num1 = 67"
   ]
  },
  {
   "cell_type": "code",
   "execution_count": 31,
   "id": "3e575355-f5e1-4804-9d5e-f1e81bd8301f",
   "metadata": {},
   "outputs": [],
   "source": [
    "# my password is Bhagwat67"
   ]
  },
  {
   "cell_type": "code",
   "execution_count": 32,
   "id": "6f1a5cf8-4941-49f6-a402-e0a2684687ea",
   "metadata": {},
   "outputs": [
    {
     "data": {
      "text/plain": [
       "'Bhagwat67'"
      ]
     },
     "execution_count": 32,
     "metadata": {},
     "output_type": "execute_result"
    }
   ],
   "source": [
    "name + str(num1)"
   ]
  },
  {
   "cell_type": "code",
   "execution_count": 33,
   "id": "2d352e3c-80bd-4e90-bbfb-36067124e9af",
   "metadata": {},
   "outputs": [],
   "source": [
    "# user input"
   ]
  },
  {
   "cell_type": "code",
   "execution_count": 34,
   "id": "fe13f4dc-285e-41e5-9bb1-9e09a564e022",
   "metadata": {},
   "outputs": [
    {
     "name": "stdout",
     "output_type": "stream",
     "text": [
      "105\n"
     ]
    }
   ],
   "source": [
    "num1 = 45\n",
    "num2 = 60\n",
    "result = num1 + num2\n",
    "print(result)"
   ]
  },
  {
   "cell_type": "code",
   "execution_count": 35,
   "id": "d0f1e9ff-f3ee-4edd-90db-deb6dee8977a",
   "metadata": {},
   "outputs": [
    {
     "name": "stdin",
     "output_type": "stream",
     "text": [
      "Enter the 1st number: 89\n",
      "Enter the 2nd number: 5\n"
     ]
    },
    {
     "name": "stdout",
     "output_type": "stream",
     "text": [
      "Addition is: 94\n"
     ]
    }
   ],
   "source": [
    "num1 = int(input('Enter the 1st number:'))\n",
    "num2 = int(input('Enter the 2nd number:'))\n",
    "add = num1 + num2\n",
    "print('Addition is:',add)"
   ]
  },
  {
   "cell_type": "code",
   "execution_count": 36,
   "id": "4c0eae03-cb5b-4e90-abdc-78a18a610e6b",
   "metadata": {},
   "outputs": [],
   "source": [
    "# write a program to repeat a string"
   ]
  },
  {
   "cell_type": "code",
   "execution_count": 38,
   "id": "c218b195-f02b-41a8-98dc-14d48c32d965",
   "metadata": {},
   "outputs": [
    {
     "name": "stdin",
     "output_type": "stream",
     "text": [
      "Enter the string ajit\n",
      "Enter the number of repeatation 3\n"
     ]
    },
    {
     "name": "stdout",
     "output_type": "stream",
     "text": [
      "ajitajitajit\n"
     ]
    }
   ],
   "source": [
    "in1 = input('Enter the string')\n",
    "in2 = int(input('Enter the number of repeatation'))\n",
    "print(in1 * in2)"
   ]
  },
  {
   "cell_type": "code",
   "execution_count": 39,
   "id": "0afc1fd7-a1cd-4b23-8435-0c5c44b5d3ea",
   "metadata": {},
   "outputs": [],
   "source": [
    "''' Take base and height of the triangle.\n",
    "find the area of it.''';"
   ]
  },
  {
   "cell_type": "code",
   "execution_count": 41,
   "id": "4cd9ec61-4ec9-42f6-b78b-bd3f3f7c275a",
   "metadata": {},
   "outputs": [
    {
     "name": "stdin",
     "output_type": "stream",
     "text": [
      "Enter the base 5\n",
      "Enter the height 10\n"
     ]
    },
    {
     "name": "stdout",
     "output_type": "stream",
     "text": [
      "Area of a triangle is 25.0\n"
     ]
    }
   ],
   "source": [
    "base = float(input('Enter the base'))\n",
    "height = float(input('Enter the height'))\n",
    "\n",
    "print('Area of a triangle is', 0.5*base*height)"
   ]
  },
  {
   "cell_type": "code",
   "execution_count": 45,
   "id": "5b7f9658-38f6-4b48-9a75-c453231a4120",
   "metadata": {},
   "outputs": [
    {
     "data": {
      "text/plain": [
       "'\\ntake seconds as user input \\ncover to hour:min:sec format\\nex.....3665 sec => 1:01:05\\n'"
      ]
     },
     "execution_count": 45,
     "metadata": {},
     "output_type": "execute_result"
    }
   ],
   "source": [
    "'''\n",
    "take seconds as user input \n",
    "cover to hour:min:sec format\n",
    "ex.....3665 sec => 1:01:05\n",
    "'''"
   ]
  },
  {
   "cell_type": "code",
   "execution_count": 49,
   "id": "e3db8197-02f9-45e0-894e-48f86becb508",
   "metadata": {},
   "outputs": [
    {
     "name": "stdin",
     "output_type": "stream",
     "text": [
      "Enter the number of seconds: 864864\n"
     ]
    },
    {
     "name": "stdout",
     "output_type": "stream",
     "text": [
      "Conversion is 240 : 14 : 24\n"
     ]
    }
   ],
   "source": [
    "sec = int(input('Enter the number of seconds:'))\n",
    "hours = sec // 3600\n",
    "rem_sec = sec % 3600\n",
    "minute = rem_sec // 60\n",
    "seconds = rem_sec % 60\n",
    "print('Conversion is', hours,':',minute,':',seconds)"
   ]
  },
  {
   "cell_type": "code",
   "execution_count": 50,
   "id": "dc3357c2-5be5-48a3-a1c3-8c20a2dd895c",
   "metadata": {},
   "outputs": [
    {
     "name": "stdout",
     "output_type": "stream",
     "text": [
      "Hello\n"
     ]
    }
   ],
   "source": [
    "print('Hello')"
   ]
  },
  {
   "cell_type": "code",
   "execution_count": null,
   "id": "fd76ac43-0049-4b26-a441-fd18362bf3d6",
   "metadata": {},
   "outputs": [],
   "source": []
  }
 ],
 "metadata": {
  "kernelspec": {
   "display_name": "Python 3 (ipykernel)",
   "language": "python",
   "name": "python3"
  },
  "language_info": {
   "codemirror_mode": {
    "name": "ipython",
    "version": 3
   },
   "file_extension": ".py",
   "mimetype": "text/x-python",
   "name": "python",
   "nbconvert_exporter": "python",
   "pygments_lexer": "ipython3",
   "version": "3.11.7"
  }
 },
 "nbformat": 4,
 "nbformat_minor": 5
}
