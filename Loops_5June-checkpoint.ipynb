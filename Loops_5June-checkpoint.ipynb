{
 "cells": [
  {
   "cell_type": "code",
   "execution_count": 1,
   "id": "47581f02-aec3-4b28-806e-a359e80bdb2e",
   "metadata": {},
   "outputs": [
    {
     "name": "stdout",
     "output_type": "stream",
     "text": [
      "Pranali\n",
      "Pranali\n",
      "Pranali\n",
      "Pranali\n",
      "Pranali\n",
      "Pranali\n",
      "Pranali\n",
      "Pranali\n",
      "Pranali\n",
      "Pranali\n",
      "Pranali\n",
      "Pranali\n",
      "Pranali\n",
      "Pranali\n",
      "Pranali\n"
     ]
    }
   ],
   "source": [
    "# printing a name 15 times \n",
    "count = 1\n",
    "while count <= 15:\n",
    "    print('Pranali')\n",
    "    count = count+1\n"
   ]
  },
  {
   "cell_type": "code",
   "execution_count": 7,
   "id": "a0582eb9-74a4-4377-ad7e-d5c539b4f3c0",
   "metadata": {},
   "outputs": [
    {
     "name": "stdout",
     "output_type": "stream",
     "text": [
      "1\n",
      "2\n",
      "3\n",
      "4\n",
      "5\n"
     ]
    }
   ],
   "source": [
    "# print numbers from 1 to 5\n",
    "count = 1\n",
    "while count <=5:\n",
    "    print(count)\n",
    "    count = count+1"
   ]
  },
  {
   "cell_type": "code",
   "execution_count": 13,
   "id": "e5587390-5d3c-4ce9-8a7d-2a6b87ec653f",
   "metadata": {},
   "outputs": [
    {
     "name": "stdout",
     "output_type": "stream",
     "text": [
      "1\n",
      "3\n",
      "5\n",
      "7\n",
      "9\n",
      "11\n",
      "13\n",
      "15\n",
      "17\n",
      "19\n"
     ]
    }
   ],
   "source": [
    "# print odd numbers from 1 to 20\n",
    "count = 1\n",
    "while count <=20:\n",
    "    print(count)\n",
    "    count = count+2"
   ]
  },
  {
   "cell_type": "code",
   "execution_count": 1,
   "id": "0f3ae43e-510b-4d73-b512-1e735f236338",
   "metadata": {},
   "outputs": [
    {
     "name": "stdout",
     "output_type": "stream",
     "text": [
      "Addition is: 55\n"
     ]
    }
   ],
   "source": [
    "# find the addition of all numbers from 1 to 10\n",
    "count = 1\n",
    "add = 0\n",
    "while count <=10:\n",
    "    add =add+count\n",
    "    count+=1\n",
    "print('Addition is:',add)\n"
   ]
  },
  {
   "cell_type": "code",
   "execution_count": 2,
   "id": "a7f0e42a-6d08-4c55-b832-3bd295c31201",
   "metadata": {},
   "outputs": [
    {
     "name": "stdout",
     "output_type": "stream",
     "text": [
      "Addition is: 100\n"
     ]
    }
   ],
   "source": [
    "# find the addition of all the odd numbers from 1 to 20\n",
    "count =1\n",
    "add =0\n",
    "while count <=20:\n",
    "    add =add+count\n",
    "    count +=2\n",
    "print('Addition is:',add)\n",
    "\n"
   ]
  },
  {
   "cell_type": "code",
   "execution_count": 3,
   "id": "4cc920f2-d1c8-4b47-9083-85d006dd40a8",
   "metadata": {},
   "outputs": [
    {
     "name": "stdout",
     "output_type": "stream",
     "text": [
      "factorial is: 120\n"
     ]
    }
   ],
   "source": [
    "#use while loop for find out the factorial of 5\n",
    "#factorial = 5\n",
    "\n",
    "num = 1\n",
    "fact = 1\n",
    "\n",
    "while num<= 5:\n",
    "    fact=fact*num\n",
    "    num +=1\n",
    "print('factorial is:',fact)\n",
    "\n"
   ]
  },
  {
   "cell_type": "code",
   "execution_count": 5,
   "id": "180c5948-d516-4049-8463-c446594232d3",
   "metadata": {},
   "outputs": [
    {
     "name": "stdin",
     "output_type": "stream",
     "text": [
      "Enter the number 5\n"
     ]
    },
    {
     "name": "stdout",
     "output_type": "stream",
     "text": [
      "factorial is: 120\n"
     ]
    }
   ],
   "source": [
    "#factorial\n",
    "num = int(input('Enter the number'))\n",
    "\n",
    "fact = 1\n",
    "while num > 1:\n",
    "    fact = fact*num\n",
    "    num -=1\n",
    "print('factorial is:',fact)"
   ]
  },
  {
   "cell_type": "code",
   "execution_count": 21,
   "id": "2a36d832-4fab-4b28-bf59-70706e438485",
   "metadata": {},
   "outputs": [
    {
     "name": "stdout",
     "output_type": "stream",
     "text": [
      "A A A A A A A A A A A A A A A A A A A A "
     ]
    }
   ],
   "source": [
    "# infint loop\n",
    "count = 1\n",
    "\n",
    "while count <=20:\n",
    "    print('A',end=' ')\n",
    "   \n"
   ]
  },
  {
   "cell_type": "code",
   "execution_count": 22,
   "id": "bcac5736-9f69-4429-b45a-074e0e243507",
   "metadata": {},
   "outputs": [
    {
     "name": "stdout",
     "output_type": "stream",
     "text": [
      "Addition is 100\n"
     ]
    }
   ],
   "source": [
    "# else\n",
    "count =1\n",
    "add = 0\n",
    "while count <=20:\n",
    "    add = add+count\n",
    "    count+=2\n",
    "else:\n",
    "    print('Addition is', add)"
   ]
  },
  {
   "cell_type": "code",
   "execution_count": 4,
   "id": "c3587f94-277c-4699-987e-817b4d09e93d",
   "metadata": {},
   "outputs": [
    {
     "name": "stdin",
     "output_type": "stream",
     "text": [
      "Enter the number: 5789\n"
     ]
    },
    {
     "name": "stdout",
     "output_type": "stream",
     "text": [
      "Addition of digits is: 29\n"
     ]
    }
   ],
   "source": [
    "# find the sum of digits in a number\n",
    "#ex..25=> 2+5=7\n",
    "num =int(input('Enter the number:'))\n",
    "add = 0\n",
    "while num > 0:\n",
    "    rem = num % 10\n",
    "    add = add + rem\n",
    "    num = num // 10\n",
    "print('Addition of digits is:',add)"
   ]
  },
  {
   "cell_type": "code",
   "execution_count": null,
   "id": "aa07629b-fdb1-4e10-ac03-b38b37b435e8",
   "metadata": {},
   "outputs": [],
   "source": []
  }
 ],
 "metadata": {
  "kernelspec": {
   "display_name": "Python 3 (ipykernel)",
   "language": "python",
   "name": "python3"
  },
  "language_info": {
   "codemirror_mode": {
    "name": "ipython",
    "version": 3
   },
   "file_extension": ".py",
   "mimetype": "text/x-python",
   "name": "python",
   "nbconvert_exporter": "python",
   "pygments_lexer": "ipython3",
   "version": "3.11.7"
  }
 },
 "nbformat": 4,
 "nbformat_minor": 5
}
