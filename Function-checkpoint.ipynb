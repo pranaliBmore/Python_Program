{
 "cells": [
  {
   "cell_type": "markdown",
   "id": "e3feb92f-0130-414c-97a7-d5df00cd2771",
   "metadata": {},
   "source": [
    "###Function"
   ]
  },
  {
   "cell_type": "code",
   "execution_count": null,
   "id": "877e2f5e-7a5d-4a42-98eb-c01ba3b7e3fb",
   "metadata": {},
   "outputs": [],
   "source": [
    "'''\n",
    "# function is a block of code which only run when it is called.\n",
    "\n",
    "1. Built-in Function\n",
    "2. User-defined Function\n",
    "\n",
    "''''"
   ]
  },
  {
   "cell_type": "code",
   "execution_count": 1,
   "id": "0c132061-4844-4532-b615-07bc9af80934",
   "metadata": {},
   "outputs": [],
   "source": [
    "def show():      # Function Definition\n",
    "    print('Hello')\n",
    "    print('Welcome')\n",
    "    print('Khana kha ke jaana')"
   ]
  },
  {
   "cell_type": "code",
   "execution_count": 3,
   "id": "e730baac-94fd-4d36-9cee-9cc0efb99cde",
   "metadata": {},
   "outputs": [
    {
     "name": "stdout",
     "output_type": "stream",
     "text": [
      "Hello\n",
      "Welcome\n",
      "Khana kha ke jaana\n"
     ]
    }
   ],
   "source": [
    "show()  #calling the function"
   ]
  },
  {
   "cell_type": "code",
   "execution_count": 4,
   "id": "7786b783-2c99-4a4d-b320-d84fd92360c3",
   "metadata": {},
   "outputs": [
    {
     "name": "stdout",
     "output_type": "stream",
     "text": [
      "Hello\n",
      "Welcome\n",
      "Khana kha ke jaana\n",
      "Hello\n",
      "Welcome\n",
      "Khana kha ke jaana\n",
      "Hello\n",
      "Welcome\n",
      "Khana kha ke jaana\n"
     ]
    }
   ],
   "source": [
    "show() \n",
    "show() \n",
    "show() "
   ]
  },
  {
   "cell_type": "code",
   "execution_count": 5,
   "id": "04ab72f0-a491-411c-8389-5ff4d903e79a",
   "metadata": {},
   "outputs": [],
   "source": [
    "# parameterized function\n",
    "\n",
    "def square(a):\n",
    "    result = a*a\n",
    "    print('Square is',result)"
   ]
  },
  {
   "cell_type": "code",
   "execution_count": 6,
   "id": "750e86f1-e5f1-4e4b-9329-b5a7ef9f1ec3",
   "metadata": {},
   "outputs": [
    {
     "name": "stdout",
     "output_type": "stream",
     "text": [
      "Square is 25\n"
     ]
    }
   ],
   "source": [
    "square(5)"
   ]
  },
  {
   "cell_type": "code",
   "execution_count": 7,
   "id": "457ef342-cc87-45f7-8477-7ee9d33b3093",
   "metadata": {},
   "outputs": [
    {
     "ename": "TypeError",
     "evalue": "square() missing 1 required positional argument: 'a'",
     "output_type": "error",
     "traceback": [
      "\u001b[1;31m---------------------------------------------------------------------------\u001b[0m",
      "\u001b[1;31mTypeError\u001b[0m                                 Traceback (most recent call last)",
      "Cell \u001b[1;32mIn[7], line 1\u001b[0m\n\u001b[1;32m----> 1\u001b[0m square()\n",
      "\u001b[1;31mTypeError\u001b[0m: square() missing 1 required positional argument: 'a'"
     ]
    }
   ],
   "source": [
    "square()  # "
   ]
  },
  {
   "cell_type": "code",
   "execution_count": 12,
   "id": "c583f2ea-0abe-4c12-86aa-676f71b01f54",
   "metadata": {},
   "outputs": [],
   "source": [
    "# multi parametrized function\n",
    "\n",
    "def large(x, y):\n",
    "    if x > y:\n",
    "        print('largest is',x)\n",
    "    elif x ==y:\n",
    "        print('Equal')\n",
    "    else:\n",
    "        print('largest is',y)"
   ]
  },
  {
   "cell_type": "code",
   "execution_count": 10,
   "id": "caea7d2a-9c4e-4ae5-a134-42847031fa4d",
   "metadata": {},
   "outputs": [
    {
     "name": "stdout",
     "output_type": "stream",
     "text": [
      "largest is 12\n"
     ]
    }
   ],
   "source": [
    "large(12,10)"
   ]
  },
  {
   "cell_type": "code",
   "execution_count": 13,
   "id": "ac224089-bb6f-4d41-85ed-d5f7e36f36fe",
   "metadata": {},
   "outputs": [
    {
     "name": "stdout",
     "output_type": "stream",
     "text": [
      "Equal\n"
     ]
    }
   ],
   "source": [
    "large(10,10)"
   ]
  },
  {
   "cell_type": "code",
   "execution_count": 29,
   "id": "3ab99a09-a32c-4910-8114-e7fe75022262",
   "metadata": {},
   "outputs": [],
   "source": [
    "# function which will accept a value and will print n number of times\n",
    "\n",
    "\n",
    "def dis(name,count):\n",
    "    for i in range(count):\n",
    "        print(name)"
   ]
  },
  {
   "cell_type": "code",
   "execution_count": 30,
   "id": "c93dd8f7-0fa1-4f7a-a644-df20c65656a5",
   "metadata": {},
   "outputs": [
    {
     "name": "stdout",
     "output_type": "stream",
     "text": [
      "Pune\n",
      "Pune\n",
      "Pune\n",
      "Pune\n",
      "Pune\n",
      "Pune\n",
      "Pune\n"
     ]
    }
   ],
   "source": [
    "dis('Pune', 7)"
   ]
  },
  {
   "cell_type": "code",
   "execution_count": 78,
   "id": "8716f784-34cd-44ab-b32f-01a12b7ed994",
   "metadata": {},
   "outputs": [],
   "source": [
    "def fact(n):\n",
    "    fact=1\n",
    "    for i in range(1,n+1):\n",
    "        fact = fact*i\n",
    "    return fact\n"
   ]
  },
  {
   "cell_type": "code",
   "execution_count": 38,
   "id": "53bc3fc8-1dd4-414b-87d7-80dfdcdf118b",
   "metadata": {},
   "outputs": [
    {
     "name": "stdout",
     "output_type": "stream",
     "text": [
      "Factorial is: 1\n",
      "Factorial is: 2\n",
      "Factorial is: 6\n",
      "Factorial is: 24\n",
      "Factorial is: 120\n"
     ]
    }
   ],
   "source": [
    "fact(5)"
   ]
  },
  {
   "cell_type": "code",
   "execution_count": 39,
   "id": "746feb6c-aa30-469b-b86a-2fb66edc9b09",
   "metadata": {},
   "outputs": [],
   "source": [
    "# Function returning values\n",
    "\n",
    "def square(n):\n",
    "    result = n*n\n",
    "    return result"
   ]
  },
  {
   "cell_type": "code",
   "execution_count": 40,
   "id": "c2d0e80f-93c4-45af-b8da-730c4d660610",
   "metadata": {},
   "outputs": [
    {
     "data": {
      "text/plain": [
       "25"
      ]
     },
     "execution_count": 40,
     "metadata": {},
     "output_type": "execute_result"
    }
   ],
   "source": [
    "square(5)"
   ]
  },
  {
   "cell_type": "code",
   "execution_count": 61,
   "id": "b2ba620e-62c0-46ad-8957-3b668e2d7a4e",
   "metadata": {},
   "outputs": [
    {
     "name": "stdout",
     "output_type": "stream",
     "text": [
      "12\n",
      "12\n",
      "Addition is: None\n"
     ]
    }
   ],
   "source": [
    "def add(x,y):\n",
    "    result = x+y\n",
    "    print(result) \n",
    "add(5,7)\n",
    "\n",
    "op = add(5,7)\n",
    "\n",
    "print('Addition is:',op)"
   ]
  },
  {
   "cell_type": "code",
   "execution_count": 65,
   "id": "802b865e-cc03-4ef8-9cb4-72a982a3cc49",
   "metadata": {},
   "outputs": [
    {
     "name": "stdout",
     "output_type": "stream",
     "text": [
      "Addition is: 12\n"
     ]
    }
   ],
   "source": [
    "def add(x,y):\n",
    "    result = x+y\n",
    "    return result \n",
    "add(5,7)\n",
    "\n",
    "op = add(5,7)\n",
    "\n",
    "print('Addition is:',op)"
   ]
  },
  {
   "cell_type": "code",
   "execution_count": 67,
   "id": "dc8cdb48-b762-4429-b2d7-77b0dc768f17",
   "metadata": {},
   "outputs": [],
   "source": [
    "def large(x, y):\n",
    "    if x > y:\n",
    "        return x\n",
    "    elif x ==y:\n",
    "        return'Equal'\n",
    "    else:\n",
    "        return y"
   ]
  },
  {
   "cell_type": "code",
   "execution_count": 69,
   "id": "8420d706-cdad-489a-b5e5-75551a75ded7",
   "metadata": {},
   "outputs": [
    {
     "data": {
      "text/plain": [
       "'Equal'"
      ]
     },
     "execution_count": 69,
     "metadata": {},
     "output_type": "execute_result"
    }
   ],
   "source": [
    "large(4,4)"
   ]
  },
  {
   "cell_type": "code",
   "execution_count": 79,
   "id": "ff4cbf18-06e5-41c0-803d-d9717a39a116",
   "metadata": {},
   "outputs": [
    {
     "name": "stdout",
     "output_type": "stream",
     "text": [
      "120.0\n"
     ]
    }
   ],
   "source": [
    "n = 10\n",
    "r = 3\n",
    "# ncr = n! / r!(n - r)!\n",
    "ncr = fact(n) / (fact(r) * fact(n - r))\n",
    "print(ncr)"
   ]
  },
  {
   "cell_type": "code",
   "execution_count": 80,
   "id": "a8a24e84-5bc1-4e62-afba-4e8ca8bb261e",
   "metadata": {},
   "outputs": [],
   "source": [
    "def calc(n):\n",
    "    sq = n*n\n",
    "    cu = n**3\n",
    "    return sq, cu"
   ]
  },
  {
   "cell_type": "code",
   "execution_count": 82,
   "id": "50d3ffef-6792-4c01-8d1b-7630324ca62a",
   "metadata": {},
   "outputs": [
    {
     "data": {
      "text/plain": [
       "(9, 27)"
      ]
     },
     "execution_count": 82,
     "metadata": {},
     "output_type": "execute_result"
    }
   ],
   "source": [
    "calc(3)"
   ]
  },
  {
   "cell_type": "code",
   "execution_count": 83,
   "id": "b471fe7b-3797-4880-92c8-615103f168be",
   "metadata": {},
   "outputs": [
    {
     "data": {
      "text/plain": [
       "function"
      ]
     },
     "execution_count": 83,
     "metadata": {},
     "output_type": "execute_result"
    }
   ],
   "source": [
    "type(calc)"
   ]
  },
  {
   "cell_type": "code",
   "execution_count": 84,
   "id": "1c223e10-3964-4c6b-8022-cd960efc0f37",
   "metadata": {},
   "outputs": [
    {
     "name": "stdout",
     "output_type": "stream",
     "text": [
      "x 9\n",
      "y 27\n"
     ]
    }
   ],
   "source": [
    "x, y = calc(3)\n",
    "\n",
    "print('x',x)\n",
    "print('y',y)\n"
   ]
  },
  {
   "cell_type": "code",
   "execution_count": 85,
   "id": "264d25a2-a69d-44ee-a6e0-e95d928b790d",
   "metadata": {},
   "outputs": [
    {
     "name": "stdin",
     "output_type": "stream",
     "text": [
      "Enter the number: 5\n"
     ]
    },
    {
     "name": "stdout",
     "output_type": "stream",
     "text": [
      "x 25\n",
      "y 125\n"
     ]
    }
   ],
   "source": [
    "num = int(input('Enter the number:'))\n",
    "x, y = calc(num)  #required positional argument\n",
    "\n",
    "print('x',x)\n",
    "print('y',y)\n"
   ]
  },
  {
   "cell_type": "code",
   "execution_count": 86,
   "id": "c372c65a-be74-41a4-8ed5-be05668abc64",
   "metadata": {},
   "outputs": [],
   "source": [
    "# default parameters\n",
    "\n",
    "def add3(a,b,c):\n",
    "    result = a + b + c\n",
    "    return result"
   ]
  },
  {
   "cell_type": "code",
   "execution_count": 87,
   "id": "84876a77-ef1d-4dbe-bd5e-991cdf1bc427",
   "metadata": {},
   "outputs": [
    {
     "data": {
      "text/plain": [
       "15"
      ]
     },
     "execution_count": 87,
     "metadata": {},
     "output_type": "execute_result"
    }
   ],
   "source": [
    "add3(5,3,7)"
   ]
  },
  {
   "cell_type": "code",
   "execution_count": 91,
   "id": "8a5f8825-945f-4588-85bc-f469d63e8e4d",
   "metadata": {},
   "outputs": [],
   "source": [
    "def add3(a=10,b=5,c=15):\n",
    "    result = a + b + c\n",
    "    return result"
   ]
  },
  {
   "cell_type": "code",
   "execution_count": 92,
   "id": "68c5f99f-97c4-4628-900f-45f9132c561f",
   "metadata": {},
   "outputs": [
    {
     "data": {
      "text/plain": [
       "30"
      ]
     },
     "execution_count": 92,
     "metadata": {},
     "output_type": "execute_result"
    }
   ],
   "source": [
    "add3()"
   ]
  },
  {
   "cell_type": "code",
   "execution_count": 93,
   "id": "8de1a3d3-add7-492c-abae-8dfb2216f109",
   "metadata": {},
   "outputs": [
    {
     "data": {
      "text/plain": [
       "45"
      ]
     },
     "execution_count": 93,
     "metadata": {},
     "output_type": "execute_result"
    }
   ],
   "source": [
    "add3(20,10)"
   ]
  },
  {
   "cell_type": "code",
   "execution_count": 95,
   "id": "bf1d6ea0-9007-44ab-be1e-c8a64ed6d347",
   "metadata": {},
   "outputs": [
    {
     "data": {
      "text/plain": [
       "18"
      ]
     },
     "execution_count": 95,
     "metadata": {},
     "output_type": "execute_result"
    }
   ],
   "source": [
    "add3(a=10,c=3)"
   ]
  },
  {
   "cell_type": "code",
   "execution_count": 99,
   "id": "ff9fc868-c77c-4412-9244-99275a157629",
   "metadata": {},
   "outputs": [],
   "source": [
    "def add3(b,a=10,c=15): # required positional arguments\n",
    "    result = a + b + c\n",
    "    return result\n",
    "    "
   ]
  },
  {
   "cell_type": "code",
   "execution_count": 101,
   "id": "daebde74-aed2-492b-b698-ac9d1fc7b244",
   "metadata": {},
   "outputs": [
    {
     "data": {
      "text/plain": [
       "26"
      ]
     },
     "execution_count": 101,
     "metadata": {},
     "output_type": "execute_result"
    }
   ],
   "source": [
    "add3(1)"
   ]
  },
  {
   "cell_type": "code",
   "execution_count": 114,
   "id": "d3b9a664-62ab-4bd2-bb38-7117c88e8bbb",
   "metadata": {},
   "outputs": [],
   "source": [
    "# dynamic or variable lenght\n",
    "\n",
    "def disp(*args):\n",
    "    for i in args:\n",
    "        print(i)"
   ]
  },
  {
   "cell_type": "code",
   "execution_count": 115,
   "id": "6429e53f-e3e9-4ee8-b5fa-847fbdc0d82e",
   "metadata": {},
   "outputs": [
    {
     "name": "stdout",
     "output_type": "stream",
     "text": [
      "1\n",
      "2\n",
      "3\n",
      "4\n",
      "5\n",
      "6\n",
      "7\n"
     ]
    }
   ],
   "source": [
    "disp(1,2,3,4,5,6,7)"
   ]
  },
  {
   "cell_type": "code",
   "execution_count": 116,
   "id": "59540df4-58c8-4513-8a1b-a91dc307c24b",
   "metadata": {},
   "outputs": [],
   "source": [
    "# lambda function / one liner\n",
    "\n",
    "squa = lambda x: x * x\n",
    "\n",
    "# function_name = lambda arguments: result_expression"
   ]
  },
  {
   "cell_type": "code",
   "execution_count": 118,
   "id": "1eec310c-a377-4343-bdef-735b694c6f0a",
   "metadata": {},
   "outputs": [
    {
     "data": {
      "text/plain": [
       "4"
      ]
     },
     "execution_count": 118,
     "metadata": {},
     "output_type": "execute_result"
    }
   ],
   "source": [
    "squa(2)"
   ]
  },
  {
   "cell_type": "code",
   "execution_count": 119,
   "id": "0d99fce7-4cea-402c-a468-dc0fe9127626",
   "metadata": {},
   "outputs": [],
   "source": [
    "mul = lambda x,y: x * y"
   ]
  },
  {
   "cell_type": "code",
   "execution_count": 123,
   "id": "e69265bd-26a1-4725-877e-f9339f1b0761",
   "metadata": {},
   "outputs": [
    {
     "data": {
      "text/plain": [
       "25"
      ]
     },
     "execution_count": 123,
     "metadata": {},
     "output_type": "execute_result"
    }
   ],
   "source": [
    "mul(5,5)"
   ]
  },
  {
   "cell_type": "code",
   "execution_count": 135,
   "id": "117a5e51-1c6e-490b-9afd-b11196682047",
   "metadata": {},
   "outputs": [],
   "source": [
    "#filter\n",
    "\n",
    "num = [34,54,32,15,16,27,78]"
   ]
  },
  {
   "cell_type": "code",
   "execution_count": 136,
   "id": "cde56c2c-5739-46ac-bff0-d096fef85cac",
   "metadata": {},
   "outputs": [],
   "source": [
    "new = filter(lambda x: x>30,num)"
   ]
  },
  {
   "cell_type": "code",
   "execution_count": 137,
   "id": "14aebb7f-b0e0-46f1-9410-2071136e6e48",
   "metadata": {},
   "outputs": [
    {
     "data": {
      "text/plain": [
       "[34, 54, 32, 78]"
      ]
     },
     "execution_count": 137,
     "metadata": {},
     "output_type": "execute_result"
    }
   ],
   "source": [
    "list(new)"
   ]
  },
  {
   "cell_type": "code",
   "execution_count": 138,
   "id": "4743270f-66ba-4688-a65f-6b9a0611b8f0",
   "metadata": {},
   "outputs": [
    {
     "data": {
      "text/plain": [
       "[17.0, 27.0, 16.0, 7.5, 8.0, 13.5, 39.0]"
      ]
     },
     "execution_count": 138,
     "metadata": {},
     "output_type": "execute_result"
    }
   ],
   "source": [
    "new = map(lambda n: n/2,num)\n",
    "list(new)"
   ]
  },
  {
   "cell_type": "code",
   "execution_count": 139,
   "id": "0e85dbe5-c7b1-43c1-8d49-75ca9ef378fe",
   "metadata": {},
   "outputs": [
    {
     "data": {
      "text/plain": [
       "[True, True, True, False, False, False, True]"
      ]
     },
     "execution_count": 139,
     "metadata": {},
     "output_type": "execute_result"
    }
   ],
   "source": [
    "new = map(lambda x: x>30,num)\n",
    "list(new)"
   ]
  },
  {
   "cell_type": "markdown",
   "id": "65af5bb9-b297-45a3-8865-69021a965b53",
   "metadata": {},
   "source": [
    "### Moduls"
   ]
  },
  {
   "cell_type": "code",
   "execution_count": 140,
   "id": "69caf8d5-4c39-4381-a4c5-adab3cd92c37",
   "metadata": {},
   "outputs": [],
   "source": [
    "import math"
   ]
  },
  {
   "cell_type": "code",
   "execution_count": 141,
   "id": "d3c92da3-4922-448b-9b07-fda2dd7bf1ee",
   "metadata": {},
   "outputs": [
    {
     "name": "stdout",
     "output_type": "stream",
     "text": [
      "Help on built-in module math:\n",
      "\n",
      "NAME\n",
      "    math\n",
      "\n",
      "DESCRIPTION\n",
      "    This module provides access to the mathematical functions\n",
      "    defined by the C standard.\n",
      "\n",
      "FUNCTIONS\n",
      "    acos(x, /)\n",
      "        Return the arc cosine (measured in radians) of x.\n",
      "        \n",
      "        The result is between 0 and pi.\n",
      "    \n",
      "    acosh(x, /)\n",
      "        Return the inverse hyperbolic cosine of x.\n",
      "    \n",
      "    asin(x, /)\n",
      "        Return the arc sine (measured in radians) of x.\n",
      "        \n",
      "        The result is between -pi/2 and pi/2.\n",
      "    \n",
      "    asinh(x, /)\n",
      "        Return the inverse hyperbolic sine of x.\n",
      "    \n",
      "    atan(x, /)\n",
      "        Return the arc tangent (measured in radians) of x.\n",
      "        \n",
      "        The result is between -pi/2 and pi/2.\n",
      "    \n",
      "    atan2(y, x, /)\n",
      "        Return the arc tangent (measured in radians) of y/x.\n",
      "        \n",
      "        Unlike atan(y/x), the signs of both x and y are considered.\n",
      "    \n",
      "    atanh(x, /)\n",
      "        Return the inverse hyperbolic tangent of x.\n",
      "    \n",
      "    cbrt(x, /)\n",
      "        Return the cube root of x.\n",
      "    \n",
      "    ceil(x, /)\n",
      "        Return the ceiling of x as an Integral.\n",
      "        \n",
      "        This is the smallest integer >= x.\n",
      "    \n",
      "    comb(n, k, /)\n",
      "        Number of ways to choose k items from n items without repetition and without order.\n",
      "        \n",
      "        Evaluates to n! / (k! * (n - k)!) when k <= n and evaluates\n",
      "        to zero when k > n.\n",
      "        \n",
      "        Also called the binomial coefficient because it is equivalent\n",
      "        to the coefficient of k-th term in polynomial expansion of the\n",
      "        expression (1 + x)**n.\n",
      "        \n",
      "        Raises TypeError if either of the arguments are not integers.\n",
      "        Raises ValueError if either of the arguments are negative.\n",
      "    \n",
      "    copysign(x, y, /)\n",
      "        Return a float with the magnitude (absolute value) of x but the sign of y.\n",
      "        \n",
      "        On platforms that support signed zeros, copysign(1.0, -0.0)\n",
      "        returns -1.0.\n",
      "    \n",
      "    cos(x, /)\n",
      "        Return the cosine of x (measured in radians).\n",
      "    \n",
      "    cosh(x, /)\n",
      "        Return the hyperbolic cosine of x.\n",
      "    \n",
      "    degrees(x, /)\n",
      "        Convert angle x from radians to degrees.\n",
      "    \n",
      "    dist(p, q, /)\n",
      "        Return the Euclidean distance between two points p and q.\n",
      "        \n",
      "        The points should be specified as sequences (or iterables) of\n",
      "        coordinates.  Both inputs must have the same dimension.\n",
      "        \n",
      "        Roughly equivalent to:\n",
      "            sqrt(sum((px - qx) ** 2.0 for px, qx in zip(p, q)))\n",
      "    \n",
      "    erf(x, /)\n",
      "        Error function at x.\n",
      "    \n",
      "    erfc(x, /)\n",
      "        Complementary error function at x.\n",
      "    \n",
      "    exp(x, /)\n",
      "        Return e raised to the power of x.\n",
      "    \n",
      "    exp2(x, /)\n",
      "        Return 2 raised to the power of x.\n",
      "    \n",
      "    expm1(x, /)\n",
      "        Return exp(x)-1.\n",
      "        \n",
      "        This function avoids the loss of precision involved in the direct evaluation of exp(x)-1 for small x.\n",
      "    \n",
      "    fabs(x, /)\n",
      "        Return the absolute value of the float x.\n",
      "    \n",
      "    factorial(n, /)\n",
      "        Find n!.\n",
      "        \n",
      "        Raise a ValueError if x is negative or non-integral.\n",
      "    \n",
      "    floor(x, /)\n",
      "        Return the floor of x as an Integral.\n",
      "        \n",
      "        This is the largest integer <= x.\n",
      "    \n",
      "    fmod(x, y, /)\n",
      "        Return fmod(x, y), according to platform C.\n",
      "        \n",
      "        x % y may differ.\n",
      "    \n",
      "    frexp(x, /)\n",
      "        Return the mantissa and exponent of x, as pair (m, e).\n",
      "        \n",
      "        m is a float and e is an int, such that x = m * 2.**e.\n",
      "        If x is 0, m and e are both 0.  Else 0.5 <= abs(m) < 1.0.\n",
      "    \n",
      "    fsum(seq, /)\n",
      "        Return an accurate floating point sum of values in the iterable seq.\n",
      "        \n",
      "        Assumes IEEE-754 floating point arithmetic.\n",
      "    \n",
      "    gamma(x, /)\n",
      "        Gamma function at x.\n",
      "    \n",
      "    gcd(*integers)\n",
      "        Greatest Common Divisor.\n",
      "    \n",
      "    hypot(...)\n",
      "        hypot(*coordinates) -> value\n",
      "        \n",
      "        Multidimensional Euclidean distance from the origin to a point.\n",
      "        \n",
      "        Roughly equivalent to:\n",
      "            sqrt(sum(x**2 for x in coordinates))\n",
      "        \n",
      "        For a two dimensional point (x, y), gives the hypotenuse\n",
      "        using the Pythagorean theorem:  sqrt(x*x + y*y).\n",
      "        \n",
      "        For example, the hypotenuse of a 3/4/5 right triangle is:\n",
      "        \n",
      "            >>> hypot(3.0, 4.0)\n",
      "            5.0\n",
      "    \n",
      "    isclose(a, b, *, rel_tol=1e-09, abs_tol=0.0)\n",
      "        Determine whether two floating point numbers are close in value.\n",
      "        \n",
      "          rel_tol\n",
      "            maximum difference for being considered \"close\", relative to the\n",
      "            magnitude of the input values\n",
      "          abs_tol\n",
      "            maximum difference for being considered \"close\", regardless of the\n",
      "            magnitude of the input values\n",
      "        \n",
      "        Return True if a is close in value to b, and False otherwise.\n",
      "        \n",
      "        For the values to be considered close, the difference between them\n",
      "        must be smaller than at least one of the tolerances.\n",
      "        \n",
      "        -inf, inf and NaN behave similarly to the IEEE 754 Standard.  That\n",
      "        is, NaN is not close to anything, even itself.  inf and -inf are\n",
      "        only close to themselves.\n",
      "    \n",
      "    isfinite(x, /)\n",
      "        Return True if x is neither an infinity nor a NaN, and False otherwise.\n",
      "    \n",
      "    isinf(x, /)\n",
      "        Return True if x is a positive or negative infinity, and False otherwise.\n",
      "    \n",
      "    isnan(x, /)\n",
      "        Return True if x is a NaN (not a number), and False otherwise.\n",
      "    \n",
      "    isqrt(n, /)\n",
      "        Return the integer part of the square root of the input.\n",
      "    \n",
      "    lcm(*integers)\n",
      "        Least Common Multiple.\n",
      "    \n",
      "    ldexp(x, i, /)\n",
      "        Return x * (2**i).\n",
      "        \n",
      "        This is essentially the inverse of frexp().\n",
      "    \n",
      "    lgamma(x, /)\n",
      "        Natural logarithm of absolute value of Gamma function at x.\n",
      "    \n",
      "    log(...)\n",
      "        log(x, [base=math.e])\n",
      "        Return the logarithm of x to the given base.\n",
      "        \n",
      "        If the base not specified, returns the natural logarithm (base e) of x.\n",
      "    \n",
      "    log10(x, /)\n",
      "        Return the base 10 logarithm of x.\n",
      "    \n",
      "    log1p(x, /)\n",
      "        Return the natural logarithm of 1+x (base e).\n",
      "        \n",
      "        The result is computed in a way which is accurate for x near zero.\n",
      "    \n",
      "    log2(x, /)\n",
      "        Return the base 2 logarithm of x.\n",
      "    \n",
      "    modf(x, /)\n",
      "        Return the fractional and integer parts of x.\n",
      "        \n",
      "        Both results carry the sign of x and are floats.\n",
      "    \n",
      "    nextafter(x, y, /)\n",
      "        Return the next floating-point value after x towards y.\n",
      "    \n",
      "    perm(n, k=None, /)\n",
      "        Number of ways to choose k items from n items without repetition and with order.\n",
      "        \n",
      "        Evaluates to n! / (n - k)! when k <= n and evaluates\n",
      "        to zero when k > n.\n",
      "        \n",
      "        If k is not specified or is None, then k defaults to n\n",
      "        and the function returns n!.\n",
      "        \n",
      "        Raises TypeError if either of the arguments are not integers.\n",
      "        Raises ValueError if either of the arguments are negative.\n",
      "    \n",
      "    pow(x, y, /)\n",
      "        Return x**y (x to the power of y).\n",
      "    \n",
      "    prod(iterable, /, *, start=1)\n",
      "        Calculate the product of all the elements in the input iterable.\n",
      "        \n",
      "        The default start value for the product is 1.\n",
      "        \n",
      "        When the iterable is empty, return the start value.  This function is\n",
      "        intended specifically for use with numeric values and may reject\n",
      "        non-numeric types.\n",
      "    \n",
      "    radians(x, /)\n",
      "        Convert angle x from degrees to radians.\n",
      "    \n",
      "    remainder(x, y, /)\n",
      "        Difference between x and the closest integer multiple of y.\n",
      "        \n",
      "        Return x - n*y where n*y is the closest integer multiple of y.\n",
      "        In the case where x is exactly halfway between two multiples of\n",
      "        y, the nearest even value of n is used. The result is always exact.\n",
      "    \n",
      "    sin(x, /)\n",
      "        Return the sine of x (measured in radians).\n",
      "    \n",
      "    sinh(x, /)\n",
      "        Return the hyperbolic sine of x.\n",
      "    \n",
      "    sqrt(x, /)\n",
      "        Return the square root of x.\n",
      "    \n",
      "    tan(x, /)\n",
      "        Return the tangent of x (measured in radians).\n",
      "    \n",
      "    tanh(x, /)\n",
      "        Return the hyperbolic tangent of x.\n",
      "    \n",
      "    trunc(x, /)\n",
      "        Truncates the Real x to the nearest Integral toward 0.\n",
      "        \n",
      "        Uses the __trunc__ magic method.\n",
      "    \n",
      "    ulp(x, /)\n",
      "        Return the value of the least significant bit of the float x.\n",
      "\n",
      "DATA\n",
      "    e = 2.718281828459045\n",
      "    inf = inf\n",
      "    nan = nan\n",
      "    pi = 3.141592653589793\n",
      "    tau = 6.283185307179586\n",
      "\n",
      "FILE\n",
      "    (built-in)\n",
      "\n",
      "\n"
     ]
    }
   ],
   "source": [
    "help(math)"
   ]
  },
  {
   "cell_type": "code",
   "execution_count": 142,
   "id": "bc53f160-77fd-44aa-9777-027f24376103",
   "metadata": {},
   "outputs": [
    {
     "data": {
      "text/plain": [
       "5.0"
      ]
     },
     "execution_count": 142,
     "metadata": {},
     "output_type": "execute_result"
    }
   ],
   "source": [
    "math.sqrt(25)"
   ]
  },
  {
   "cell_type": "code",
   "execution_count": 143,
   "id": "a0043ce4-c37c-44d0-b88f-4255ba063123",
   "metadata": {},
   "outputs": [
    {
     "data": {
      "text/plain": [
       "-0.9880316240928618"
      ]
     },
     "execution_count": 143,
     "metadata": {},
     "output_type": "execute_result"
    }
   ],
   "source": [
    "math.sin(30)"
   ]
  },
  {
   "cell_type": "code",
   "execution_count": 145,
   "id": "d515066a-feee-4b6f-9138-193b24edd6f8",
   "metadata": {},
   "outputs": [
    {
     "name": "stdin",
     "output_type": "stream",
     "text": [
      "Enter the radius: 3\n"
     ]
    },
    {
     "name": "stdout",
     "output_type": "stream",
     "text": [
      "Radius of circle 28.274333882308138\n"
     ]
    }
   ],
   "source": [
    "# read the radius find area of circle\n",
    "\n",
    "r = float(input('Enter the radius:'))\n",
    "print('Radius of circle',math.pi*r*r)\n"
   ]
  },
  {
   "cell_type": "code",
   "execution_count": 146,
   "id": "c0bdf7c6-075b-42be-a0b4-675e37023e34",
   "metadata": {},
   "outputs": [],
   "source": [
    "import time"
   ]
  },
  {
   "cell_type": "code",
   "execution_count": 147,
   "id": "9586551f-464f-48c3-ba0c-fa11edba920e",
   "metadata": {},
   "outputs": [
    {
     "data": {
      "text/plain": [
       "'Mon Jun 10 16:31:45 2024'"
      ]
     },
     "execution_count": 147,
     "metadata": {},
     "output_type": "execute_result"
    }
   ],
   "source": [
    "time.asctime()"
   ]
  },
  {
   "cell_type": "code",
   "execution_count": 148,
   "id": "91978165-aa05-4d91-a65b-bd28c001b141",
   "metadata": {},
   "outputs": [
    {
     "name": "stdout",
     "output_type": "stream",
     "text": [
      "zzzzzz\n",
      "phewwww!!!\n"
     ]
    }
   ],
   "source": [
    "print('zzzzzz')\n",
    "time.sleep(5)\n",
    "print('phewwww!!!')"
   ]
  },
  {
   "cell_type": "code",
   "execution_count": 149,
   "id": "1b9b61e7-e402-48d9-95f6-ff996a89c17f",
   "metadata": {},
   "outputs": [],
   "source": [
    "# alias\n",
    "\n",
    "import time as t"
   ]
  },
  {
   "cell_type": "code",
   "execution_count": 151,
   "id": "da578b04-8b42-4312-9c60-d9f8b554a3f3",
   "metadata": {},
   "outputs": [
    {
     "data": {
      "text/plain": [
       "'Mon Jun 10 16:35:13 2024'"
      ]
     },
     "execution_count": 151,
     "metadata": {},
     "output_type": "execute_result"
    }
   ],
   "source": [
    "t.asctime()"
   ]
  },
  {
   "cell_type": "code",
   "execution_count": 152,
   "id": "492b6987-fac3-4b07-8b66-d1e7b671088a",
   "metadata": {},
   "outputs": [],
   "source": [
    "# Selective imports\n",
    "\n",
    "from math import sqrt,pi"
   ]
  },
  {
   "cell_type": "code",
   "execution_count": 153,
   "id": "a198ba11-ccc7-48eb-a385-18be679820a9",
   "metadata": {},
   "outputs": [
    {
     "data": {
      "text/plain": [
       "7.0"
      ]
     },
     "execution_count": 153,
     "metadata": {},
     "output_type": "execute_result"
    }
   ],
   "source": [
    "sqrt(49)"
   ]
  },
  {
   "cell_type": "code",
   "execution_count": 154,
   "id": "28fb1a0e-be71-48a6-b7a5-b19aad3bec30",
   "metadata": {},
   "outputs": [
    {
     "data": {
      "text/plain": [
       "3.141592653589793"
      ]
     },
     "execution_count": 154,
     "metadata": {},
     "output_type": "execute_result"
    }
   ],
   "source": [
    "pi"
   ]
  },
  {
   "cell_type": "code",
   "execution_count": 155,
   "id": "cba12b22-09ad-483d-a00a-f7bf743bec1b",
   "metadata": {},
   "outputs": [],
   "source": [
    "import mod1"
   ]
  },
  {
   "cell_type": "code",
   "execution_count": 156,
   "id": "f3314beb-b308-419d-b2cb-a022016106b9",
   "metadata": {},
   "outputs": [
    {
     "name": "stdout",
     "output_type": "stream",
     "text": [
      "Hello World\n"
     ]
    }
   ],
   "source": [
    "mod1.show()"
   ]
  },
  {
   "cell_type": "code",
   "execution_count": null,
   "id": "056c1431-09b3-4bd6-9ef9-0b808b8276af",
   "metadata": {},
   "outputs": [],
   "source": []
  }
 ],
 "metadata": {
  "kernelspec": {
   "display_name": "Python 3 (ipykernel)",
   "language": "python",
   "name": "python3"
  },
  "language_info": {
   "codemirror_mode": {
    "name": "ipython",
    "version": 3
   },
   "file_extension": ".py",
   "mimetype": "text/x-python",
   "name": "python",
   "nbconvert_exporter": "python",
   "pygments_lexer": "ipython3",
   "version": "3.11.7"
  }
 },
 "nbformat": 4,
 "nbformat_minor": 5
}
